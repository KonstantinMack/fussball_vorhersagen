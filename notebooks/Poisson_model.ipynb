{
 "cells": [
  {
   "cell_type": "code",
   "execution_count": 2,
   "metadata": {},
   "outputs": [],
   "source": [
    "import os\n",
    "import pickle\n",
    "import pandas as pd\n",
    "import numpy as np\n",
    "from scipy.stats import poisson"
   ]
  },
  {
   "cell_type": "code",
   "execution_count": 43,
   "metadata": {},
   "outputs": [],
   "source": [
    "def save_obj(obj, name):\n",
    "    with open('Pickles/' + name + '.pkl', 'wb') as f:\n",
    "        pickle.dump(obj, f, pickle.HIGHEST_PROTOCOL)\n",
    "\n",
    "def load_obj(name):\n",
    "    with open('Pickles/' + name + '.pkl', 'rb') as f:\n",
    "        return pickle.load(f)"
   ]
  },
  {
   "cell_type": "code",
   "execution_count": 44,
   "metadata": {},
   "outputs": [],
   "source": [
    "data2 = load_obj(\"Eng17\")"
   ]
  },
  {
   "cell_type": "code",
   "execution_count": 45,
   "metadata": {},
   "outputs": [
    {
     "data": {
      "text/plain": [
       "['_id',\n",
       " 'away_player1',\n",
       " 'away_player10',\n",
       " 'away_player11',\n",
       " 'away_player2',\n",
       " 'away_player3',\n",
       " 'away_player4',\n",
       " 'away_player5',\n",
       " 'away_player6',\n",
       " 'away_player7',\n",
       " 'away_player8',\n",
       " 'away_player9',\n",
       " 'first_half_ended_at',\n",
       " 'fixture_status',\n",
       " 'fixture_status_short',\n",
       " 'game_ended_at',\n",
       " 'game_started_at',\n",
       " 'home_player1',\n",
       " 'home_player10',\n",
       " 'home_player11',\n",
       " 'home_player2',\n",
       " 'home_player3',\n",
       " 'home_player4',\n",
       " 'home_player5',\n",
       " 'home_player6',\n",
       " 'home_player7',\n",
       " 'home_player8',\n",
       " 'home_player9',\n",
       " 'id_country',\n",
       " 'id_league',\n",
       " 'id_referee',\n",
       " 'id_season',\n",
       " 'id_stage',\n",
       " 'id_team_season_away',\n",
       " 'id_team_season_home',\n",
       " 'lineup_confirmed',\n",
       " 'number_goal_team_away',\n",
       " 'number_goal_team_home',\n",
       " 'referee_name',\n",
       " 'round',\n",
       " 'schedule_date',\n",
       " 'second_half_ended_at',\n",
       " 'second_half_started_at',\n",
       " 'spectators',\n",
       " 'stadium',\n",
       " 'team_season_away_name',\n",
       " 'team_season_home_name',\n",
       " 'home_id',\n",
       " 'away_id',\n",
       " 'h_poss',\n",
       " 'h_shot_on',\n",
       " 'h_shot_off',\n",
       " 'h_corner',\n",
       " 'h_cross',\n",
       " 'h_offs',\n",
       " 'h_fouls',\n",
       " 'h_card',\n",
       " 'a_poss',\n",
       " 'a_shot_on',\n",
       " 'a_shot_off',\n",
       " 'a_corner',\n",
       " 'a_cross',\n",
       " 'a_offs',\n",
       " 'a_fouls',\n",
       " 'a_card',\n",
       " 'Div',\n",
       " 'Date',\n",
       " 'HomeTeam',\n",
       " 'AwayTeam',\n",
       " 'FTHG',\n",
       " 'FTAG',\n",
       " 'FTR',\n",
       " 'HTHG',\n",
       " 'HTAG',\n",
       " 'HTR',\n",
       " 'Referee',\n",
       " 'HS',\n",
       " 'AS',\n",
       " 'HST',\n",
       " 'AST',\n",
       " 'HF',\n",
       " 'AF',\n",
       " 'HC',\n",
       " 'AC',\n",
       " 'HY',\n",
       " 'AY',\n",
       " 'HR',\n",
       " 'AR',\n",
       " 'B365H',\n",
       " 'B365D',\n",
       " 'B365A',\n",
       " 'BWH',\n",
       " 'BWD',\n",
       " 'BWA',\n",
       " 'IWH',\n",
       " 'IWD',\n",
       " 'IWA',\n",
       " 'LBH',\n",
       " 'LBD',\n",
       " 'LBA',\n",
       " 'PSH',\n",
       " 'PSD',\n",
       " 'PSA',\n",
       " 'WHH',\n",
       " 'WHD',\n",
       " 'WHA',\n",
       " 'VCH',\n",
       " 'VCD',\n",
       " 'VCA',\n",
       " 'Bb1X2',\n",
       " 'BbMxH',\n",
       " 'BbAvH',\n",
       " 'BbMxD',\n",
       " 'BbAvD',\n",
       " 'BbMxA',\n",
       " 'BbAvA',\n",
       " 'BbOU',\n",
       " 'BbMx>2.5',\n",
       " 'BbAv>2.5',\n",
       " 'BbMx<2.5',\n",
       " 'BbAv<2.5',\n",
       " 'BbAH',\n",
       " 'BbAHh',\n",
       " 'BbMxAHH',\n",
       " 'BbAvAHH',\n",
       " 'BbMxAHA',\n",
       " 'BbAvAHA',\n",
       " 'PSCH',\n",
       " 'PSCD',\n",
       " 'PSCA']"
      ]
     },
     "execution_count": 45,
     "metadata": {},
     "output_type": "execute_result"
    }
   ],
   "source": [
    "list(data2.columns)"
   ]
  },
  {
   "cell_type": "code",
   "execution_count": 46,
   "metadata": {},
   "outputs": [],
   "source": [
    "columns = [\"round\", \"HomeTeam\", \"AwayTeam\", \"FTHG\", \"FTAG\", \"FTR\", \"PSCH\", \"PSCD\", \"PSCA\"]"
   ]
  },
  {
   "cell_type": "code",
   "execution_count": 47,
   "metadata": {},
   "outputs": [],
   "source": [
    "data = data2.loc[:,columns]"
   ]
  },
  {
   "cell_type": "code",
   "execution_count": null,
   "metadata": {},
   "outputs": [],
   "source": []
  },
  {
   "cell_type": "markdown",
   "metadata": {},
   "source": [
    "### Implementation 1:"
   ]
  },
  {
   "cell_type": "code",
   "execution_count": 48,
   "metadata": {},
   "outputs": [],
   "source": [
    "data[\"LgHG\"] = data[\"FTHG\"].expanding().mean().shift()\n",
    "data[\"LgAG\"] = data[\"FTAG\"].expanding().mean().shift()"
   ]
  },
  {
   "cell_type": "code",
   "execution_count": 49,
   "metadata": {},
   "outputs": [],
   "source": [
    "data[\"TeamHG\"] = data.groupby(\"HomeTeam\")[\"FTHG\"].apply(lambda x: x.expanding().mean().shift())\n",
    "data[\"TeamAG\"] = data.groupby(\"AwayTeam\")[\"FTAG\"].apply(lambda x: x.expanding().mean().shift())\n",
    "data[\"Team_c_HG\"] = data.groupby(\"HomeTeam\")[\"FTAG\"].apply(lambda x: x.expanding().mean().shift())\n",
    "data[\"Team_c_AG\"] = data.groupby(\"AwayTeam\")[\"FTHG\"].apply(lambda x: x.expanding().mean().shift())"
   ]
  },
  {
   "cell_type": "code",
   "execution_count": 50,
   "metadata": {},
   "outputs": [],
   "source": [
    "data[\"H_att\"] = data[\"TeamHG\"] / data[\"LgHG\"]\n",
    "data[\"A_att\"] = data[\"TeamAG\"] / data[\"LgAG\"]"
   ]
  },
  {
   "cell_type": "code",
   "execution_count": 51,
   "metadata": {},
   "outputs": [],
   "source": [
    "data[\"H_def\"] = data[\"Team_c_HG\"] / data[\"LgAG\"]\n",
    "data[\"A_def\"] = data[\"Team_c_AG\"] / data[\"LgHG\"]"
   ]
  },
  {
   "cell_type": "code",
   "execution_count": 52,
   "metadata": {},
   "outputs": [],
   "source": [
    "data[\"H_xG\"] = data[\"H_att\"] * data[\"A_def\"] * data[\"LgHG\"]\n",
    "data[\"A_xG\"] = data[\"A_att\"] * data[\"H_def\"] * data[\"LgAG\"]"
   ]
  },
  {
   "cell_type": "code",
   "execution_count": 53,
   "metadata": {},
   "outputs": [
    {
     "data": {
      "text/html": [
       "<div>\n",
       "<style scoped>\n",
       "    .dataframe tbody tr th:only-of-type {\n",
       "        vertical-align: middle;\n",
       "    }\n",
       "\n",
       "    .dataframe tbody tr th {\n",
       "        vertical-align: top;\n",
       "    }\n",
       "\n",
       "    .dataframe thead th {\n",
       "        text-align: right;\n",
       "    }\n",
       "</style>\n",
       "<table border=\"1\" class=\"dataframe\">\n",
       "  <thead>\n",
       "    <tr style=\"text-align: right;\">\n",
       "      <th></th>\n",
       "      <th>round</th>\n",
       "      <th>HomeTeam</th>\n",
       "      <th>AwayTeam</th>\n",
       "      <th>FTHG</th>\n",
       "      <th>FTAG</th>\n",
       "      <th>FTR</th>\n",
       "      <th>PSCH</th>\n",
       "      <th>PSCD</th>\n",
       "      <th>PSCA</th>\n",
       "      <th>LgHG</th>\n",
       "      <th>...</th>\n",
       "      <th>TeamHG</th>\n",
       "      <th>TeamAG</th>\n",
       "      <th>Team_c_HG</th>\n",
       "      <th>Team_c_AG</th>\n",
       "      <th>H_att</th>\n",
       "      <th>A_att</th>\n",
       "      <th>H_def</th>\n",
       "      <th>A_def</th>\n",
       "      <th>H_xG</th>\n",
       "      <th>A_xG</th>\n",
       "    </tr>\n",
       "  </thead>\n",
       "  <tbody>\n",
       "    <tr>\n",
       "      <th>375</th>\n",
       "      <td>38</td>\n",
       "      <td>Hull</td>\n",
       "      <td>Tottenham</td>\n",
       "      <td>1</td>\n",
       "      <td>7</td>\n",
       "      <td>A</td>\n",
       "      <td>9.74</td>\n",
       "      <td>6.48</td>\n",
       "      <td>1.31</td>\n",
       "      <td>1.592000</td>\n",
       "      <td>...</td>\n",
       "      <td>1.500000</td>\n",
       "      <td>1.777778</td>\n",
       "      <td>1.555556</td>\n",
       "      <td>0.888889</td>\n",
       "      <td>0.942211</td>\n",
       "      <td>1.508296</td>\n",
       "      <td>1.319759</td>\n",
       "      <td>0.558347</td>\n",
       "      <td>0.837521</td>\n",
       "      <td>2.346238</td>\n",
       "    </tr>\n",
       "    <tr>\n",
       "      <th>376</th>\n",
       "      <td>38</td>\n",
       "      <td>Burnley</td>\n",
       "      <td>West Ham</td>\n",
       "      <td>1</td>\n",
       "      <td>2</td>\n",
       "      <td>A</td>\n",
       "      <td>2.31</td>\n",
       "      <td>3.58</td>\n",
       "      <td>3.24</td>\n",
       "      <td>1.590426</td>\n",
       "      <td>...</td>\n",
       "      <td>1.388889</td>\n",
       "      <td>1.444444</td>\n",
       "      <td>1.000000</td>\n",
       "      <td>1.777778</td>\n",
       "      <td>0.873281</td>\n",
       "      <td>1.209602</td>\n",
       "      <td>0.837416</td>\n",
       "      <td>1.117800</td>\n",
       "      <td>1.552500</td>\n",
       "      <td>1.209602</td>\n",
       "    </tr>\n",
       "    <tr>\n",
       "      <th>377</th>\n",
       "      <td>38</td>\n",
       "      <td>Chelsea</td>\n",
       "      <td>Sunderland</td>\n",
       "      <td>5</td>\n",
       "      <td>1</td>\n",
       "      <td>H</td>\n",
       "      <td>1.12</td>\n",
       "      <td>11.50</td>\n",
       "      <td>25.50</td>\n",
       "      <td>1.588859</td>\n",
       "      <td>...</td>\n",
       "      <td>2.777778</td>\n",
       "      <td>0.666667</td>\n",
       "      <td>0.888889</td>\n",
       "      <td>1.666667</td>\n",
       "      <td>1.748284</td>\n",
       "      <td>0.557280</td>\n",
       "      <td>0.743040</td>\n",
       "      <td>1.048971</td>\n",
       "      <td>2.913807</td>\n",
       "      <td>0.495360</td>\n",
       "    </tr>\n",
       "    <tr>\n",
       "      <th>378</th>\n",
       "      <td>38</td>\n",
       "      <td>Watford</td>\n",
       "      <td>Manchester City</td>\n",
       "      <td>0</td>\n",
       "      <td>5</td>\n",
       "      <td>A</td>\n",
       "      <td>18.00</td>\n",
       "      <td>9.70</td>\n",
       "      <td>1.16</td>\n",
       "      <td>1.597884</td>\n",
       "      <td>...</td>\n",
       "      <td>1.388889</td>\n",
       "      <td>2.111111</td>\n",
       "      <td>1.333333</td>\n",
       "      <td>1.222222</td>\n",
       "      <td>0.869205</td>\n",
       "      <td>1.765487</td>\n",
       "      <td>1.115044</td>\n",
       "      <td>0.764901</td>\n",
       "      <td>1.062362</td>\n",
       "      <td>2.353982</td>\n",
       "    </tr>\n",
       "    <tr>\n",
       "      <th>379</th>\n",
       "      <td>38</td>\n",
       "      <td>Liverpool</td>\n",
       "      <td>Middlesbrough</td>\n",
       "      <td>3</td>\n",
       "      <td>0</td>\n",
       "      <td>H</td>\n",
       "      <td>1.15</td>\n",
       "      <td>10.50</td>\n",
       "      <td>19.09</td>\n",
       "      <td>1.593668</td>\n",
       "      <td>...</td>\n",
       "      <td>2.333333</td>\n",
       "      <td>0.555556</td>\n",
       "      <td>1.000000</td>\n",
       "      <td>1.500000</td>\n",
       "      <td>1.464128</td>\n",
       "      <td>0.460734</td>\n",
       "      <td>0.829322</td>\n",
       "      <td>0.941225</td>\n",
       "      <td>2.196192</td>\n",
       "      <td>0.460734</td>\n",
       "    </tr>\n",
       "  </tbody>\n",
       "</table>\n",
       "<p>5 rows × 21 columns</p>\n",
       "</div>"
      ],
      "text/plain": [
       "    round   HomeTeam         AwayTeam  FTHG  FTAG FTR   PSCH   PSCD   PSCA  \\\n",
       "375    38       Hull        Tottenham     1     7   A   9.74   6.48   1.31   \n",
       "376    38    Burnley         West Ham     1     2   A   2.31   3.58   3.24   \n",
       "377    38    Chelsea       Sunderland     5     1   H   1.12  11.50  25.50   \n",
       "378    38    Watford  Manchester City     0     5   A  18.00   9.70   1.16   \n",
       "379    38  Liverpool    Middlesbrough     3     0   H   1.15  10.50  19.09   \n",
       "\n",
       "         LgHG    ...       TeamHG    TeamAG  Team_c_HG  Team_c_AG     H_att  \\\n",
       "375  1.592000    ...     1.500000  1.777778   1.555556   0.888889  0.942211   \n",
       "376  1.590426    ...     1.388889  1.444444   1.000000   1.777778  0.873281   \n",
       "377  1.588859    ...     2.777778  0.666667   0.888889   1.666667  1.748284   \n",
       "378  1.597884    ...     1.388889  2.111111   1.333333   1.222222  0.869205   \n",
       "379  1.593668    ...     2.333333  0.555556   1.000000   1.500000  1.464128   \n",
       "\n",
       "        A_att     H_def     A_def      H_xG      A_xG  \n",
       "375  1.508296  1.319759  0.558347  0.837521  2.346238  \n",
       "376  1.209602  0.837416  1.117800  1.552500  1.209602  \n",
       "377  0.557280  0.743040  1.048971  2.913807  0.495360  \n",
       "378  1.765487  1.115044  0.764901  1.062362  2.353982  \n",
       "379  0.460734  0.829322  0.941225  2.196192  0.460734  \n",
       "\n",
       "[5 rows x 21 columns]"
      ]
     },
     "execution_count": 53,
     "metadata": {},
     "output_type": "execute_result"
    }
   ],
   "source": [
    "data.tail()"
   ]
  },
  {
   "cell_type": "code",
   "execution_count": 54,
   "metadata": {},
   "outputs": [],
   "source": [
    "def get_probs(H_xG, A_xG):  \n",
    "    goals_home = []\n",
    "    goals_away = []\n",
    "    for i in range(8):\n",
    "        goals_home.append(poisson.pmf(i, H_xG))\n",
    "        goals_away.append(poisson.pmf(i, A_xG))   \n",
    "    row = pd.Series(goals_home, index=np.arange(0, 8))\n",
    "    col = pd.Series(goals_away, index=np.arange(0, 8))\n",
    "    df = row.apply(lambda r: r * col)\n",
    "    home = sum(sum(np.tril(df, -1)))\n",
    "    away = sum(sum(np.triu(df, 1)))\n",
    "    draw = 1 - home - away\n",
    "    return np.round(home, 4), np.round(draw, 4), np.round(away, 4)"
   ]
  },
  {
   "cell_type": "code",
   "execution_count": 55,
   "metadata": {},
   "outputs": [
    {
     "name": "stderr",
     "output_type": "stream",
     "text": [
      "C:\\Users\\Konny\\Anaconda3\\lib\\site-packages\\scipy\\stats\\_discrete_distns.py:493: RuntimeWarning: invalid value encountered in greater_equal\n",
      "  return mu >= 0\n"
     ]
    }
   ],
   "source": [
    "data[\"H_pred\"], data[\"D_pred\"], data[\"A_pred\"] = get_probs(data[\"H_xG\"], data[\"A_xG\"])"
   ]
  },
  {
   "cell_type": "code",
   "execution_count": null,
   "metadata": {},
   "outputs": [],
   "source": []
  },
  {
   "cell_type": "code",
   "execution_count": 56,
   "metadata": {},
   "outputs": [],
   "source": [
    "def convert_odds(odds_h, odds_d, odds_a):\n",
    "    inv_h = 1 / odds_h\n",
    "    inv_d = 1 / odds_d\n",
    "    inv_a = 1 / odds_a\n",
    "    inv_sum = inv_h + inv_d + inv_a\n",
    "    return inv_h / inv_sum, inv_d / inv_sum, inv_a / inv_sum"
   ]
  },
  {
   "cell_type": "code",
   "execution_count": 57,
   "metadata": {},
   "outputs": [],
   "source": [
    "data[\"H_prob_odds\"], data[\"D_prob_odds\"], data[\"A_prob_odds\"] = convert_odds(data[\"PSCH\"], data[\"PSCD\"], data[\"PSCA\"])"
   ]
  },
  {
   "cell_type": "code",
   "execution_count": 58,
   "metadata": {},
   "outputs": [],
   "source": [
    "data[\"Home\"] = np.where(data[\"FTHG\"] > data[\"FTAG\"], 1, 0)\n",
    "data[\"Draw\"] = np.where(data[\"FTHG\"] == data[\"FTAG\"], 1, 0)\n",
    "data[\"Away\"] = np.where(data[\"FTHG\"] < data[\"FTAG\"], 1, 0)"
   ]
  },
  {
   "cell_type": "code",
   "execution_count": null,
   "metadata": {},
   "outputs": [],
   "source": [
    "test[\"rps_mix\"] = rps(test[\"H_pred_mix\"], test[\"D_pred_mix\"], test[\"A_pred_mix\"], test[\"Home\"],test[\"Draw\"],test[\"Away\"])"
   ]
  },
  {
   "cell_type": "code",
   "execution_count": 59,
   "metadata": {},
   "outputs": [],
   "source": [
    "def RPS(prob_h, prob_d, prob_a, home, draw, away):\n",
    "    \"\"\"\n",
    "    Calculates the ranked probability score\n",
    "    \"\"\"\n",
    "    probs = np.array([prob_h, prob_d, prob_a])\n",
    "    outcome = np.array([home, draw, away])\n",
    "    step = probs - outcome\n",
    "    step = np.cumsum(step) ** 2\n",
    "    rps = (step[0] + step[1]) / 2\n",
    "    return rps"
   ]
  },
  {
   "cell_type": "code",
   "execution_count": 60,
   "metadata": {},
   "outputs": [],
   "source": [
    "def RPS2(prob_h, prob_d, prob_a, home, draw, away):\n",
    "    \"\"\"\n",
    "    Calculates the ranked probability score\n",
    "    \"\"\"\n",
    "    step1 = prob_h - home\n",
    "    step2 = prob_d - draw\n",
    "    summe = step1 + step2\n",
    "    rps = (step1 ** 2 + summe ** 2) / 2\n",
    "    return rps"
   ]
  },
  {
   "cell_type": "code",
   "execution_count": null,
   "metadata": {},
   "outputs": [],
   "source": []
  },
  {
   "cell_type": "code",
   "execution_count": 61,
   "metadata": {},
   "outputs": [],
   "source": [
    "data[\"RPS_Bookie\"] = RPS2(data[\"H_prob_odds\"], data[\"D_prob_odds\"], data[\"A_prob_odds\"], data[\"Home\"], data[\"Draw\"], data[\"Away\"])"
   ]
  },
  {
   "cell_type": "code",
   "execution_count": 63,
   "metadata": {},
   "outputs": [
    {
     "data": {
      "text/plain": [
       "0.1808690846218266"
      ]
     },
     "execution_count": 63,
     "metadata": {},
     "output_type": "execute_result"
    }
   ],
   "source": [
    "data[\"RPS_Bookie\"].mean()"
   ]
  },
  {
   "cell_type": "code",
   "execution_count": 64,
   "metadata": {},
   "outputs": [],
   "source": [
    "data[\"RPS_Poisson\"] = RPS2(data[\"H_pred\"], data[\"D_pred\"], data[\"A_pred\"], data[\"Home\"], data[\"Draw\"], data[\"Away\"])"
   ]
  },
  {
   "cell_type": "code",
   "execution_count": 66,
   "metadata": {},
   "outputs": [],
   "source": [
    "data[\"round\"] = data[\"round\"].apply(int)"
   ]
  },
  {
   "cell_type": "code",
   "execution_count": 67,
   "metadata": {},
   "outputs": [],
   "source": [
    "data_p = data[data[\"round\"] > 6]"
   ]
  },
  {
   "cell_type": "code",
   "execution_count": 68,
   "metadata": {},
   "outputs": [
    {
     "data": {
      "text/plain": [
       "0.17996031045168587"
      ]
     },
     "execution_count": 68,
     "metadata": {},
     "output_type": "execute_result"
    }
   ],
   "source": [
    "data_p[\"RPS_Bookie\"].mean()"
   ]
  },
  {
   "cell_type": "code",
   "execution_count": 69,
   "metadata": {},
   "outputs": [
    {
     "data": {
      "text/plain": [
       "0.19408855043749998"
      ]
     },
     "execution_count": 69,
     "metadata": {},
     "output_type": "execute_result"
    }
   ],
   "source": [
    "data_p[\"RPS_Poisson\"].mean()"
   ]
  },
  {
   "cell_type": "markdown",
   "metadata": {},
   "source": [
    "## Implementation 2"
   ]
  },
  {
   "cell_type": "code",
   "execution_count": 28,
   "metadata": {},
   "outputs": [],
   "source": [
    "def get_avg_goaldiff(df):\n",
    "    \"\"\"\n",
    "    Calculates average goal difference per team at home and away\n",
    "    \"\"\"\n",
    "    df[\"H_avg_GoalDiff\"] = df.groupby('HomeTeam').GoalDiff.apply(lambda x: x.expanding().mean().shift(1))\n",
    "    df[\"A_avg_GoalDiff\"] = - df.groupby('AwayTeam').GoalDiff.apply(lambda x: x.expanding().mean().shift(1))\n",
    "    return df\n",
    "\n",
    "\n",
    "def get_avg_goals(df):\n",
    "    df[\"LgHG\"] = df[\"FTHG\"].expanding().mean().shift()\n",
    "    df[\"LgAG\"] = df[\"FTAG\"].expanding().mean().shift()\n",
    "    df[\"H_avgG\"] = df.groupby(\"HomeTeam\")[\"FTHG\"].apply(lambda x: x.expanding().mean().shift())\n",
    "    df[\"A_avgG\"] = df.groupby(\"AwayTeam\")[\"FTAG\"].apply(lambda x: x.expanding().mean().shift())\n",
    "    df[\"H_avgG_c\"] = df.groupby(\"HomeTeam\")[\"FTAG\"].apply(lambda x: x.expanding().mean().shift())\n",
    "    df[\"A_avgG_c\"] = df.groupby(\"AwayTeam\")[\"FTHG\"].apply(lambda x: x.expanding().mean().shift())\n",
    "    return df\n",
    "\n",
    "\n",
    "def get_avg_shots(df):\n",
    "    df[\"LgHS\"] = df[\"HS\"].expanding().mean().shift()\n",
    "    df[\"LgAS\"] = df[\"AS\"].expanding().mean().shift()\n",
    "    df[\"LgHST\"] = df[\"HST\"].expanding().mean().shift()\n",
    "    df[\"LgAST\"] = df[\"AST\"].expanding().mean().shift()\n",
    "    df[\"H_avgS\"] = df.groupby(\"HomeTeam\")[\"HS\"].apply(lambda x: x.expanding().mean().shift())\n",
    "    df[\"A_avgS\"] = df.groupby(\"AwayTeam\")[\"AS\"].apply(lambda x: x.expanding().mean().shift())\n",
    "    df[\"H_avgS_c\"] = df.groupby(\"HomeTeam\")[\"AS\"].apply(lambda x: x.expanding().mean().shift())\n",
    "    df[\"A_avgS_c\"] = df.groupby(\"AwayTeam\")[\"HS\"].apply(lambda x: x.expanding().mean().shift())\n",
    "    df[\"H_avgST\"] = df.groupby(\"HomeTeam\")[\"HST\"].apply(lambda x: x.expanding().mean().shift())\n",
    "    df[\"A_avgST\"] = df.groupby(\"AwayTeam\")[\"AST\"].apply(lambda x: x.expanding().mean().shift())\n",
    "    df[\"H_avgST_c\"] = df.groupby(\"HomeTeam\")[\"AST\"].apply(lambda x: x.expanding().mean().shift())\n",
    "    df[\"A_avgST_c\"] = df.groupby(\"AwayTeam\")[\"HST\"].apply(lambda x: x.expanding().mean().shift())\n",
    "    return df\n",
    "\n",
    "\n",
    "def get_stats(df):\n",
    "    df = get_avg_goaldiff(df)\n",
    "    df = get_avg_goals(df)\n",
    "    df = get_avg_shots(df)\n",
    "    return df"
   ]
  },
  {
   "cell_type": "code",
   "execution_count": 375,
   "metadata": {},
   "outputs": [],
   "source": [
    "df = pd.read_csv(\"data2/E18.csv\")"
   ]
  },
  {
   "cell_type": "code",
   "execution_count": 9,
   "metadata": {},
   "outputs": [
    {
     "data": {
      "text/html": [
       "<div>\n",
       "<style scoped>\n",
       "    .dataframe tbody tr th:only-of-type {\n",
       "        vertical-align: middle;\n",
       "    }\n",
       "\n",
       "    .dataframe tbody tr th {\n",
       "        vertical-align: top;\n",
       "    }\n",
       "\n",
       "    .dataframe thead th {\n",
       "        text-align: right;\n",
       "    }\n",
       "</style>\n",
       "<table border=\"1\" class=\"dataframe\">\n",
       "  <thead>\n",
       "    <tr style=\"text-align: right;\">\n",
       "      <th></th>\n",
       "      <th>HomeTeam</th>\n",
       "      <th>AwayTeam</th>\n",
       "      <th>HS</th>\n",
       "      <th>HST</th>\n",
       "      <th>AS</th>\n",
       "      <th>AST</th>\n",
       "    </tr>\n",
       "  </thead>\n",
       "  <tbody>\n",
       "    <tr>\n",
       "      <th>0</th>\n",
       "      <td>Aston Villa</td>\n",
       "      <td>Wigan</td>\n",
       "      <td>11</td>\n",
       "      <td>5</td>\n",
       "      <td>14</td>\n",
       "      <td>7</td>\n",
       "    </tr>\n",
       "    <tr>\n",
       "      <th>1</th>\n",
       "      <td>Blackburn</td>\n",
       "      <td>Man City</td>\n",
       "      <td>17</td>\n",
       "      <td>9</td>\n",
       "      <td>8</td>\n",
       "      <td>5</td>\n",
       "    </tr>\n",
       "    <tr>\n",
       "      <th>2</th>\n",
       "      <td>Bolton</td>\n",
       "      <td>Sunderland</td>\n",
       "      <td>11</td>\n",
       "      <td>3</td>\n",
       "      <td>20</td>\n",
       "      <td>13</td>\n",
       "    </tr>\n",
       "    <tr>\n",
       "      <th>3</th>\n",
       "      <td>Chelsea</td>\n",
       "      <td>Hull</td>\n",
       "      <td>26</td>\n",
       "      <td>12</td>\n",
       "      <td>7</td>\n",
       "      <td>3</td>\n",
       "    </tr>\n",
       "    <tr>\n",
       "      <th>4</th>\n",
       "      <td>Everton</td>\n",
       "      <td>Arsenal</td>\n",
       "      <td>8</td>\n",
       "      <td>5</td>\n",
       "      <td>15</td>\n",
       "      <td>9</td>\n",
       "    </tr>\n",
       "  </tbody>\n",
       "</table>\n",
       "</div>"
      ],
      "text/plain": [
       "      HomeTeam    AwayTeam  HS  HST  AS  AST\n",
       "0  Aston Villa       Wigan  11    5  14    7\n",
       "1    Blackburn    Man City  17    9   8    5\n",
       "2       Bolton  Sunderland  11    3  20   13\n",
       "3      Chelsea        Hull  26   12   7    3\n",
       "4      Everton     Arsenal   8    5  15    9"
      ]
     },
     "execution_count": 9,
     "metadata": {},
     "output_type": "execute_result"
    }
   ],
   "source": [
    "df[[\"HomeTeam\", \"AwayTeam\", \"HS\", \"HST\", \"AS\", \"AST\"]].head()"
   ]
  },
  {
   "cell_type": "code",
   "execution_count": 211,
   "metadata": {},
   "outputs": [],
   "source": [
    "df[\"GoalDiff\"] = df[\"FTHG\"] - df[\"FTAG\"]"
   ]
  },
  {
   "cell_type": "code",
   "execution_count": 56,
   "metadata": {},
   "outputs": [],
   "source": [
    "df_old = get_stats(df)"
   ]
  },
  {
   "cell_type": "code",
   "execution_count": null,
   "metadata": {},
   "outputs": [],
   "source": []
  },
  {
   "cell_type": "code",
   "execution_count": 364,
   "metadata": {},
   "outputs": [],
   "source": [
    "def get_avg_goaldiff_rolling(df, window=6, min_periods=4):\n",
    "    \"\"\"\n",
    "    Calculates average goal difference per team at home and away\n",
    "    \"\"\"\n",
    "    home = df.groupby('HomeTeam').GoalDiff.apply(lambda x: x.rolling(window=window, min_periods=min_periods).mean().shift(1))\n",
    "    away = - df.groupby('AwayTeam').GoalDiff.apply(lambda x: x.rolling(window=window, min_periods=min_periods).mean().shift(1))\n",
    "    return home, away\n",
    "\n",
    "def get_avg_goaldiff_expanding(df):\n",
    "    \"\"\"\n",
    "    Calculates average goal difference per team at home and away\n",
    "    \"\"\"\n",
    "    home = df.groupby('HomeTeam').GoalDiff.apply(lambda x: x.expanding().mean().shift(1))\n",
    "    away = - df.groupby('AwayTeam').GoalDiff.apply(lambda x: x.expanding().mean().shift(1))\n",
    "    return home, away\n",
    "\n",
    "\n",
    "def get_avg_goals_rolling(df, window=6, min_periods=4):\n",
    "    Lg_HG = df[\"FTHG\"].expanding().mean().shift()\n",
    "    Lg_AG = df[\"FTAG\"].expanding().mean().shift()\n",
    "    H_avgG = df.groupby(\"HomeTeam\")[\"FTHG\"].apply(lambda x: x.rolling(window=window, min_periods=min_periods).mean().shift())\n",
    "    A_avgG = df.groupby(\"AwayTeam\")[\"FTAG\"].apply(lambda x: x.rolling(window=window, min_periods=min_periods).mean().shift())\n",
    "    H_avgG_c = df.groupby(\"HomeTeam\")[\"FTAG\"].apply(lambda x: x.rolling(window=window, min_periods=min_periods).mean().shift())\n",
    "    A_avgG_c = df.groupby(\"AwayTeam\")[\"FTHG\"].apply(lambda x: x.rolling(window=window, min_periods=min_periods).mean().shift())\n",
    "    return Lg_HG, Lg_AG, H_avgG, A_avgG, H_avgG_c, A_avgG_c\n",
    "\n",
    "def get_avg_goals_expanding(df):\n",
    "    Lg_HG = df[\"FTHG\"].expanding().mean().shift()\n",
    "    Lg_AG = df[\"FTAG\"].expanding().mean().shift()\n",
    "    H_avgG = df.groupby(\"HomeTeam\")[\"FTHG\"].apply(lambda x: x.expanding().mean().shift())\n",
    "    A_avgG = df.groupby(\"AwayTeam\")[\"FTAG\"].apply(lambda x: x.expanding().mean().shift())\n",
    "    H_avgG_c = df.groupby(\"HomeTeam\")[\"FTAG\"].apply(lambda x: x.expanding().mean().shift())\n",
    "    A_avgG_c = df.groupby(\"AwayTeam\")[\"FTHG\"].apply(lambda x: x.expanding().mean().shift())\n",
    "    return Lg_HG, Lg_AG, H_avgG, A_avgG, H_avgG_c, A_avgG_c\n",
    "\n",
    "\n",
    "def get_avg_shots_rolling(df, window=6, min_periods=4):\n",
    "    Lg_HS = df[\"HS\"].expanding().mean().shift()\n",
    "    Lg_AS = df[\"AS\"].expanding().mean().shift()\n",
    "    Lg_HST = df[\"HST\"].expanding().mean().shift()\n",
    "    Lg_AST = df[\"AST\"].expanding().mean().shift()\n",
    "    H_avgS = df.groupby(\"HomeTeam\")[\"HS\"].apply(lambda x: x.rolling(window=window, min_periods=min_periods).mean().shift())\n",
    "    A_avgS = df.groupby(\"AwayTeam\")[\"AS\"].apply(lambda x: x.rolling(window=window, min_periods=min_periods).mean().shift())\n",
    "    H_avgS_c = df.groupby(\"HomeTeam\")[\"AS\"].apply(lambda x: x.rolling(window=window, min_periods=min_periods).mean().shift())\n",
    "    A_avgS_c = df.groupby(\"AwayTeam\")[\"HS\"].apply(lambda x: x.rolling(window=window, min_periods=min_periods).mean().shift())\n",
    "    H_avgST = df.groupby(\"HomeTeam\")[\"HST\"].apply(lambda x: x.rolling(window=window, min_periods=min_periods).mean().shift())\n",
    "    A_avgST = df.groupby(\"AwayTeam\")[\"AST\"].apply(lambda x: x.rolling(window=window, min_periods=min_periods).mean().shift())\n",
    "    H_avgST_c = df.groupby(\"HomeTeam\")[\"AST\"].apply(lambda x: x.rolling(window=window, min_periods=min_periods).mean().shift())\n",
    "    A_avgST_c = df.groupby(\"AwayTeam\")[\"HST\"].apply(lambda x: x.rolling(window=window, min_periods=min_periods).mean().shift())\n",
    "    return Lg_HS, Lg_AS, Lg_HST, Lg_AST, H_avgS, A_avgS, H_avgS_c, A_avgS_c, H_avgST, A_avgST, H_avgST_c, A_avgST_c\n",
    "\n",
    "\n",
    "def get_avg_shots_expanding(df):\n",
    "    Lg_HS = df[\"HS\"].expanding().mean().shift()\n",
    "    Lg_AS = df[\"AS\"].expanding().mean().shift()\n",
    "    Lg_HST = df[\"HST\"].expanding().mean().shift()\n",
    "    Lg_AST = df[\"AST\"].expanding().mean().shift()\n",
    "    H_avgS = df.groupby(\"HomeTeam\")[\"HS\"].apply(lambda x: x.expanding().mean().shift())\n",
    "    A_avgS = df.groupby(\"AwayTeam\")[\"AS\"].apply(lambda x: x.expanding().mean().shift())\n",
    "    H_avgS_c = df.groupby(\"HomeTeam\")[\"AS\"].apply(lambda x: x.expanding().mean().shift())\n",
    "    A_avgS_c = df.groupby(\"AwayTeam\")[\"HS\"].apply(lambda x: x.expanding().mean().shift())\n",
    "    H_avgST = df.groupby(\"HomeTeam\")[\"HST\"].apply(lambda x: x.expanding().mean().shift())\n",
    "    A_avgST = df.groupby(\"AwayTeam\")[\"AST\"].apply(lambda x: x.expanding().mean().shift())\n",
    "    H_avgST_c = df.groupby(\"HomeTeam\")[\"AST\"].apply(lambda x: x.expanding().mean().shift())\n",
    "    A_avgST_c = df.groupby(\"AwayTeam\")[\"HST\"].apply(lambda x: x.expanding().mean().shift())\n",
    "    return Lg_HS, Lg_AS, Lg_HST, Lg_AST, H_avgS, A_avgS, H_avgS_c, A_avgS_c, H_avgST, A_avgST, H_avgST_c, A_avgST_c\n",
    "\n",
    "\n",
    "\n",
    "def get_stats(df2, mode=\"expanding\", window=6, min_periods=4):\n",
    "    df = df2.copy()\n",
    "    if mode == \"rolling\":\n",
    "        df[\"H_avgGD\"], df[\"A_avgGD\"] = get_avg_goaldiff_rolling(df, window, min_periods)\n",
    "        df[\"Lg_HG\"], df[\"Lg_AG\"], df[\"H_avgG\"], df[\"A_avgG\"], df[\"H_avgG_c\"], df[\"A_avgG_c\"] = get_avg_goals_rolling(df, window, min_periods)\n",
    "        df[\"Lg_HS\"], df[\"Lg_AS\"], df[\"Lg_HST\"], df[\"Lg_AST\"], df[\"H_avgS\"], df[\"A_avgS\"], df[\"H_avgS_c\"], df[\"A_avgS_c\"], df[\"H_avgST\"], df[\"A_avgST\"], df[\"H_avgST_c\"], df[\"A_avgST_c\"] = get_avg_shots_rolling(df, window, min_periods)\n",
    "    else:\n",
    "        df[\"H_avgGD\"], df[\"A_avgGD\"] = get_avg_goaldiff_expanding(df)\n",
    "        df[\"Lg_HG\"], df[\"Lg_AG\"], df[\"H_avgG\"], df[\"A_avgG\"], df[\"H_avgG_c\"], df[\"A_avgG_c\"] = get_avg_goals_expanding(df)\n",
    "        df[\"Lg_HS\"], df[\"Lg_AS\"], df[\"Lg_HST\"], df[\"Lg_AST\"], df[\"H_avgS\"], df[\"A_avgS\"], df[\"H_avgS_c\"], df[\"A_avgS_c\"], df[\"H_avgST\"], df[\"A_avgST\"], df[\"H_avgST_c\"], df[\"A_avgST_c\"] = get_avg_shots_expanding(df)\n",
    "    return df\n",
    "\n",
    "\n",
    "def get_stats2(df2, window=6, min_periods=4):\n",
    "    df = df2.copy()\n",
    "    H_avgGDr, A_avgGDr = get_avg_goaldiff_rolling(df, window, min_periods)\n",
    "    H_avgGDe, A_avgGDe  = get_avg_goaldiff_expanding(df)\n",
    "    df[\"H_avgGD\"] = (H_avgGDr + 2 * H_avgGDe) / 3\n",
    "    df[\"A_avgGD\"] = (A_avgGDr + 2 * A_avgGDe) / 3\n",
    "    \n",
    "    Lg_HG, Lg_AG, H_avgG, A_avgG, H_avgG_c, A_avgG_c = get_avg_goals_rolling(df, window, min_periods)\n",
    "    Lg_HGe, Lg_AGe, H_avgGe, A_avgGe, H_avgG_ce, A_avgG_ce = get_avg_goals_expanding(df)\n",
    "    df[\"Lg_HG\"] = (Lg_HG + 2*Lg_HGe) / 3\n",
    "    df[\"Lg_AG\"] = (Lg_AG + 2*Lg_AGe) / 3\n",
    "    df[\"H_avgG\"] = (H_avgG + 2*H_avgGe) / 3\n",
    "    df[\"A_avgG\"] = (A_avgG + 2*A_avgGe) / 3\n",
    "    df[\"H_avgG_c\"] = (H_avgG_c + 2*H_avgG_ce) / 3\n",
    "    df[\"A_avgG_c\"] = (A_avgG_c + 2*A_avgG_ce) / 3\n",
    "    \n",
    "    Lg_HS, Lg_AS, Lg_HST, Lg_AST, H_avgS, A_avgS, H_avgS_c, A_avgS_c, H_avgST, A_avgST, H_avgST_c, A_avgST_c = get_avg_shots_rolling(df, window, min_periods)\n",
    "    Lg_HSe, Lg_ASe, Lg_HSTe, Lg_ASTe, H_avgSe, A_avgSe, H_avgS_ce, A_avgS_ce, H_avgSTe, A_avgSTe, H_avgST_ce, A_avgST_ce = get_avg_shots_expanding(df)\n",
    "    df[\"Lg_HS\"] = (Lg_HS + 2*Lg_HSe) / 3\n",
    "    df[\"Lg_AS\"] = (Lg_AS + 2*Lg_ASe) / 3\n",
    "    df[\"Lg_HST\"]  = (Lg_HST + 2*Lg_HSTe) / 3\n",
    "    df[\"Lg_AST\"]  = (Lg_AST + 2*Lg_ASTe) / 3\n",
    "    df[\"H_avgS\"]  = (H_avgS + 2*H_avgSe) / 3\n",
    "    df[\"A_avgS\"]  = (A_avgS + 2*A_avgSe) / 3\n",
    "    df[\"H_avgS_c\"] = (H_avgS_c + 2*H_avgS_ce) / 3\n",
    "    df[\"A_avgS_c\"] = (A_avgS_c + 2*A_avgS_ce) / 3\n",
    "    df[\"H_avgST\"] = (H_avgST + 2*H_avgSTe) / 3\n",
    "    df[\"A_avgST\"] = (A_avgST + 2*A_avgSTe) / 3\n",
    "    df[\"H_avgST_c\"] = (H_avgST_c + 2*H_avgST_ce) / 3\n",
    "    df[\"A_avgST_c\"] = (A_avgST_c + 2*A_avgST_ce) / 3\n",
    "    \n",
    "    return df"
   ]
  },
  {
   "cell_type": "code",
   "execution_count": 376,
   "metadata": {},
   "outputs": [],
   "source": [
    "df = get_result_encoding(df)"
   ]
  },
  {
   "cell_type": "code",
   "execution_count": 380,
   "metadata": {
    "scrolled": false
   },
   "outputs": [],
   "source": [
    "test6 = get_stats(df, \"rolling\")"
   ]
  },
  {
   "cell_type": "code",
   "execution_count": 122,
   "metadata": {},
   "outputs": [],
   "source": [
    "def get_probs(H_xG, A_xG):\n",
    "    \"\"\"\n",
    "    Takes expected goals for home and away team, and calculates\n",
    "    probabilities for home win, draw and away win by using a poisson\n",
    "    distribution\n",
    "    \"\"\"\n",
    "    goals_home = []\n",
    "    goals_away = []\n",
    "    for i in range(8):\n",
    "        goals_home.append(poisson.pmf(i, H_xG))\n",
    "        goals_away.append(poisson.pmf(i, A_xG))\n",
    "    row = pd.Series(goals_home, index=np.arange(0, 8))\n",
    "    col = pd.Series(goals_away, index=np.arange(0, 8))\n",
    "    df = row.apply(lambda r: r * col)\n",
    "    home = sum(sum(np.tril(df, -1)))\n",
    "    away = sum(sum(np.triu(df, 1)))\n",
    "    draw = 1 - home - away\n",
    "    return np.round(home, 4), np.round(draw, 4), np.round(away, 4)\n",
    "\n",
    "\n",
    "def rps(prob_h, prob_d, prob_a, home, draw, away):\n",
    "    \"\"\"\n",
    "    Calculates the rank probability score\n",
    "    prob_h/d/a -> predicted probability\n",
    "    home/draw/away -> 0 or 1 for actual result\n",
    "    The lower RPS the better\n",
    "    \"\"\"\n",
    "    step1 = prob_h - home\n",
    "    step2 = prob_d - draw\n",
    "    summe = step1 + step2\n",
    "    rps = (step1 ** 2 + summe ** 2) / 2\n",
    "    return rps\n",
    "\n",
    "\n",
    "def get_result_encoding(df):\n",
    "    \"\"\"\n",
    "    Creates an encoding for the result\n",
    "    \"\"\"\n",
    "    df[\"Home\"] = np.where(df[\"FTHG\"] > df[\"FTAG\"], 1, 0)\n",
    "    df[\"Draw\"] = np.where(df[\"FTHG\"] == df[\"FTAG\"], 1, 0)\n",
    "    df[\"Away\"] = np.where(df[\"FTHG\"] < df[\"FTAG\"], 1, 0)\n",
    "    df[\"GoalDiff\"] = df[\"FTHG\"] - df[\"FTAG\"]\n",
    "    df[\"GoalDiff_Ahc\"] = df[\"GoalDiff\"] + df[\"BbAHh\"]\n",
    "    df[\"Handicap\"] = -df[\"BbAHh\"]\n",
    "    return df"
   ]
  },
  {
   "cell_type": "code",
   "execution_count": 419,
   "metadata": {},
   "outputs": [],
   "source": [
    "def prepare_poisson(df, stat):\n",
    "    \"\"\"\n",
    "    Creates necessary variables for expected goals model\n",
    "    \"\"\"\n",
    "    df[\"H_att_Poi\" + stat] = df[\"H_avg\" + stat] / df[\"Lg_H\" + stat]\n",
    "    df[\"A_att_Poi\" + stat] = df[\"A_avg\" + stat] / df[\"Lg_A\" + stat]\n",
    "    df[\"H_def_Poi\" + stat] = df[\"H_avg\" + stat + \"_c\"] / df[\"Lg_A\" + stat]\n",
    "    df[\"A_def_Poi\" + stat] = df[\"A_avg\" + stat + \"_c\"] / df[\"Lg_H\" + stat]\n",
    "    df[\"H_xG_Poi\" + stat] = df[\"H_att_Poi\" + stat] * df[\"A_def_Poi\" + stat] * df[\"Lg_HG\"]\n",
    "    df[\"A_xG_Poi\" + stat] = df[\"A_att_Poi\" + stat] * df[\"H_def_Poi\" + stat] * df[\"Lg_AG\"]\n",
    "    return df\n",
    "\n",
    "\n",
    "def shot_mix(df1):\n",
    "    \"\"\"\n",
    "    Calculates the average of the poisson models for shots and shots on target\n",
    "    \"\"\"\n",
    "    df1[\"H_att_Poi_mix\"] = (3*df1[\"H_att_PoiS\"] + 3*df1[\"H_att_PoiST\"] + 2*df1[\"H_att_PoiG\"]) / 8\n",
    "    df1[\"A_att_Poi_mix\"] = (3*df1[\"A_att_PoiS\"] + 3*df1[\"A_att_PoiST\"] + 2*df1[\"A_att_PoiG\"]) / 8\n",
    "    df1[\"H_def_Poi_mix\"] = (3*df1[\"H_def_PoiS\"] + 3*df1[\"H_def_PoiST\"] + 2*df1[\"H_def_PoiG\"]) / 8\n",
    "    df1[\"A_def_Poi_mix\"] = (3*df1[\"A_def_PoiS\"] + 3*df1[\"A_def_PoiST\"] + 2*df1[\"A_def_PoiG\"]) / 8\n",
    "#     df1[\"H_att_Poi_mix\"] = (df1[\"H_att_PoiS\"] + df1[\"H_att_PoiST\"]) / 2\n",
    "#     df1[\"A_att_Poi_mix\"] = (df1[\"A_att_PoiS\"] + df1[\"A_att_PoiST\"]) / 2\n",
    "#     df1[\"H_def_Poi_mix\"] = (df1[\"H_def_PoiS\"] + df1[\"H_def_PoiST\"]) / 2\n",
    "#     df1[\"A_def_Poi_mix\"] = (df1[\"A_def_PoiS\"] + df1[\"A_def_PoiST\"]) / 2\n",
    "    df1[\"H_xG_Poi_mix\"] = df1[\"H_att_Poi_mix\"] * df1[\"A_def_Poi_mix\"] * df1[\"Lg_HG\"]\n",
    "    df1[\"A_xG_Poi_mix\"] = df1[\"A_att_Poi_mix\"] * df1[\"H_def_Poi_mix\"] * df1[\"Lg_AG\"]\n",
    "    df1[\"H_pred_Poi_mix\"], df1[\"D_pred_Poi_mix\"], df1[\"A_pred_Poi_mix\"] = get_probs(df1[\"H_xG_Poi_mix\"], df1[\"A_xG_Poi_mix\"])\n",
    "    df1[\"rps_Poi_mix\"] = rps(df1[\"H_pred_Poi_mix\"], df1[\"D_pred_Poi_mix\"], df1[\"A_pred_Poi_mix\"], df1[\"Home\"], df1[\"Draw\"], df1[\"Away\"])\n",
    "    return df1\n",
    "\n",
    "\n",
    "def delete_stats(df):\n",
    "    \"\"\"\n",
    "    Gets rid of unwanted columns\n",
    "    \"\"\"\n",
    "    del df[\"H_att_PoiS\"]\n",
    "    del df[\"H_att_PoiST\"]\n",
    "    del df[\"A_att_PoiS\"]\n",
    "    del df[\"A_att_PoiST\"]\n",
    "    del df[\"H_def_PoiS\"]\n",
    "    del df[\"H_def_PoiST\"]\n",
    "    del df[\"A_def_PoiS\"]\n",
    "    del df[\"A_def_PoiST\"]\n",
    "    del df[\"H_xG_PoiS\"]\n",
    "    del df[\"H_xG_PoiST\"]\n",
    "    del df[\"A_xG_PoiS\"]\n",
    "    del df[\"A_xG_PoiST\"]\n",
    "    return df\n",
    "\n",
    "\n",
    "def get_poisson(df, stat=\"MIX\"):\n",
    "    \"\"\"\n",
    "    Main function: Takes Dataframe and returns Dataframe with exp goals,\n",
    "    winning probabilities and RPS of the prediction\n",
    "    stat: the statistic that is used to calculate the poisson model\n",
    "        G(oals), S(hots), ST(arget), MIX between S and ST\n",
    "    delete:\n",
    "    \"\"\"\n",
    "    assert stat in [\"G\", \"S\", \"ST\", \"MIX\", \"ALL\"], \"Choose G, S, ST, MIX or ALL as stat\"\n",
    "\n",
    "    if stat == \"MIX\":\n",
    "        df1 = df.copy()\n",
    "        for i in [\"S\", \"ST\"]:\n",
    "            df1 = prepare_poisson(df1, i)\n",
    "        df1 = shot_mix(df1)\n",
    "        df1 = delete_stats(df1)\n",
    "        return df1\n",
    "\n",
    "    elif stat == \"ALL\":\n",
    "        df1 = df.copy()\n",
    "        for i in [\"G\", \"S\", \"ST\"]:\n",
    "            df1 = prepare_poisson(df1, i)\n",
    "            df1[\"H_pred_Poi\" + i], df1[\"D_pred_Poi\" + i], df1[\"A_pred_Poi\" + i] = get_probs(df1[\"H_xG_Poi\" + i], df1[\"A_xG_Poi\" + i])\n",
    "            df1[\"rps_Poi\" + i] = rps(df1[\"H_pred_Poi\" + i], df1[\"D_pred_Poi\" + i], df1[\"A_pred_Poi\" + i], df1[\"Home\"], df1[\"Draw\"], df1[\"Away\"])\n",
    "        df1 = shot_mix(df1)\n",
    "        return df1\n",
    "\n",
    "    else:\n",
    "        df1 = df.copy()\n",
    "        df1 = prepare_poisson(df1, stat)\n",
    "        df1[\"H_pred_Poi\" + stat], df1[\"D_pred_Poi\" + stat], df1[\"A_pred_Poi\" + stat] = get_probs(df1[\"H_xG_Poi\" + stat], df1[\"A_xG_Poi\" + stat])\n",
    "        df1[\"rps_Poi\" + stat] = rps(df1[\"H_pred_Poi\" + stat], df1[\"D_pred_Poi\" + stat], df1[\"A_pred_Poi\" + stat], df1[\"Home\"], df1[\"Draw\"], df1[\"Away\"])\n",
    "        return df1\n"
   ]
  },
  {
   "cell_type": "code",
   "execution_count": 381,
   "metadata": {},
   "outputs": [
    {
     "name": "stderr",
     "output_type": "stream",
     "text": [
      "C:\\Users\\Konny\\Anaconda3\\lib\\site-packages\\scipy\\stats\\_discrete_distns.py:493: RuntimeWarning: invalid value encountered in greater_equal\n",
      "  return mu >= 0\n"
     ]
    }
   ],
   "source": [
    "expanding = get_poisson(test6, \"ALL\")"
   ]
  },
  {
   "cell_type": "code",
   "execution_count": 383,
   "metadata": {},
   "outputs": [],
   "source": [
    "test2 = (rolling[[\"H_xG_Poi_mix\", \"A_xG_Poi_mix\"]] + expanding[[\"H_xG_Poi_mix\", \"A_xG_Poi_mix\"]]) / 2"
   ]
  },
  {
   "cell_type": "code",
   "execution_count": 384,
   "metadata": {},
   "outputs": [],
   "source": [
    "test2 = pd.concat([test2, df[[\"Home\", \"Draw\", \"Away\"]]], axis=1)"
   ]
  },
  {
   "cell_type": "code",
   "execution_count": 385,
   "metadata": {},
   "outputs": [
    {
     "name": "stderr",
     "output_type": "stream",
     "text": [
      "C:\\Users\\Konny\\Anaconda3\\lib\\site-packages\\scipy\\stats\\_discrete_distns.py:493: RuntimeWarning: invalid value encountered in greater_equal\n",
      "  return mu >= 0\n"
     ]
    }
   ],
   "source": [
    "test2[\"H_pred_Poi\"], test2[\"D_pred_Poi\"], test2[\"A_pred_Poi\"] = get_probs(test2[\"H_xG_Poi_mix\"], test2[\"A_xG_Poi_mix\"])\n",
    "test2[\"rps_Poi\"] = rps(test2[\"H_pred_Poi\"], test2[\"D_pred_Poi\"], test2[\"A_pred_Poi\"], test2[\"Home\"], test2[\"Draw\"], test2[\"Away\"])"
   ]
  },
  {
   "cell_type": "code",
   "execution_count": 386,
   "metadata": {},
   "outputs": [
    {
     "data": {
      "text/plain": [
       "0.20130085520833346"
      ]
     },
     "execution_count": 386,
     "metadata": {},
     "output_type": "execute_result"
    }
   ],
   "source": [
    "test2.iloc[100:340][\"rps_Poi\"].mean()"
   ]
  },
  {
   "cell_type": "code",
   "execution_count": 387,
   "metadata": {},
   "outputs": [
    {
     "data": {
      "text/plain": [
       "0.20261220261744972"
      ]
     },
     "execution_count": 387,
     "metadata": {},
     "output_type": "execute_result"
    }
   ],
   "source": [
    "test2[\"rps_Poi\"].mean()"
   ]
  },
  {
   "cell_type": "code",
   "execution_count": 420,
   "metadata": {},
   "outputs": [
    {
     "name": "stderr",
     "output_type": "stream",
     "text": [
      "C:\\Users\\Konny\\Anaconda3\\lib\\site-packages\\scipy\\stats\\_discrete_distns.py:493: RuntimeWarning: invalid value encountered in greater_equal\n",
      "  return mu >= 0\n"
     ]
    },
    {
     "name": "stdout",
     "output_type": "stream",
     "text": [
      "Season 2010 done!\n",
      "Season 2011 done!\n",
      "Season 2012 done!\n",
      "Season 2013 done!\n",
      "Season 2014 done!\n",
      "Season 2015 done!\n",
      "Season 2016 done!\n",
      "Season 2017 done!\n",
      "Season 2018 done!\n"
     ]
    }
   ],
   "source": [
    "rps_Gr = {}\n",
    "rps_Sr = {}\n",
    "rps_STr = {}\n",
    "rps_mixr = {}\n",
    "rps_mixer = {}\n",
    "rps_Ge = {}\n",
    "rps_Se = {}\n",
    "rps_STe = {}\n",
    "rps_mixe = {}\n",
    "\n",
    "for i in range(10, 19):\n",
    "    df = pd.read_csv(\"data2/SP\" + str(i) + \".csv\")\n",
    "    df = get_result_encoding(df)\n",
    "    df10 = get_stats(df, \"rolling\")\n",
    "    rolling = get_poisson(df10, \"ALL\")\n",
    "    df11 = get_stats(df)\n",
    "    expanding = get_poisson(df11, \"ALL\")\n",
    "    test2 = (rolling[[\"H_xG_Poi_mix\", \"A_xG_Poi_mix\"]] + 2 * expanding[[\"H_xG_Poi_mix\", \"A_xG_Poi_mix\"]]) / 3\n",
    "    test2 = pd.concat([test2, df[[\"Home\", \"Draw\", \"Away\"]]], axis=1)\n",
    "    test2[\"H_pred_Poi\"], test2[\"D_pred_Poi\"], test2[\"A_pred_Poi\"] = get_probs(test2[\"H_xG_Poi_mix\"], test2[\"A_xG_Poi_mix\"])\n",
    "    test2[\"rps_Poi\"] = rps(test2[\"H_pred_Poi\"], test2[\"D_pred_Poi\"], test2[\"A_pred_Poi\"], test2[\"Home\"], test2[\"Draw\"], test2[\"Away\"])\n",
    "    \n",
    "    rps_Gr[i] = rolling[\"rps_PoiG\"].iloc[100:340].mean()\n",
    "    rps_Sr[i] = rolling[\"rps_PoiS\"].iloc[100:340].mean()\n",
    "    rps_STr[i] = rolling[\"rps_PoiST\"].iloc[100:340].mean()\n",
    "    rps_mixr[i] = rolling[\"rps_Poi_mix\"].iloc[100:340].mean()\n",
    "    rps_mixer[i] = test2[\"rps_Poi\"].iloc[100:340].mean()\n",
    "    rps_Ge[i] = expanding[\"rps_PoiG\"].iloc[100:340].mean()\n",
    "    rps_Se[i] = expanding[\"rps_PoiS\"].iloc[100:340].mean()\n",
    "    rps_STe[i] = expanding[\"rps_PoiST\"].iloc[100:340].mean()\n",
    "    rps_mixe[i] = expanding[\"rps_Poi_mix\"].iloc[100:340].mean()\n",
    "    \n",
    "    print(f\"Season 20{i} done!\")"
   ]
  },
  {
   "cell_type": "code",
   "execution_count": 357,
   "metadata": {},
   "outputs": [
    {
     "data": {
      "text/plain": [
       "(0.2195297536111111, 0.21219033930092596)"
      ]
     },
     "execution_count": 357,
     "metadata": {},
     "output_type": "execute_result"
    }
   ],
   "source": [
    "sum([i for i in rps_Gr.values()]) / 9 , sum([i for i in rps_Ge.values()]) / 9"
   ]
  },
  {
   "cell_type": "code",
   "execution_count": 358,
   "metadata": {},
   "outputs": [
    {
     "data": {
      "text/plain": [
       "(0.20583712476388888, 0.2034064886249999)"
      ]
     },
     "execution_count": 358,
     "metadata": {},
     "output_type": "execute_result"
    }
   ],
   "source": [
    "sum([i for i in rps_Sr.values()]) / 9 , sum([i for i in rps_Se.values()]) / 9"
   ]
  },
  {
   "cell_type": "code",
   "execution_count": 359,
   "metadata": {},
   "outputs": [
    {
     "data": {
      "text/plain": [
       "(0.206387749599537, 0.20288141873148147)"
      ]
     },
     "execution_count": 359,
     "metadata": {},
     "output_type": "execute_result"
    }
   ],
   "source": [
    "sum([i for i in rps_STr.values()]) / 9 , sum([i for i in rps_STe.values()]) / 9"
   ]
  },
  {
   "cell_type": "code",
   "execution_count": 417,
   "metadata": {},
   "outputs": [
    {
     "data": {
      "text/plain": [
       "(0.2028956967893518, 0.19865499008796297)"
      ]
     },
     "execution_count": 417,
     "metadata": {},
     "output_type": "execute_result"
    }
   ],
   "source": [
    "sum([i for i in rps_mixr.values()]) / 9 , sum([i for i in rps_mixe.values()]) / 9"
   ]
  },
  {
   "cell_type": "code",
   "execution_count": 418,
   "metadata": {},
   "outputs": [
    {
     "data": {
      "text/plain": [
       "0.19911672328009264"
      ]
     },
     "execution_count": 418,
     "metadata": {},
     "output_type": "execute_result"
    }
   ],
   "source": [
    "sum([i for i in rps_mixer.values()]) / 9"
   ]
  },
  {
   "cell_type": "code",
   "execution_count": 421,
   "metadata": {},
   "outputs": [
    {
     "data": {
      "text/plain": [
       "(0.20482475655787036, 0.2017816703495371)"
      ]
     },
     "execution_count": 421,
     "metadata": {},
     "output_type": "execute_result"
    }
   ],
   "source": [
    "sum([i for i in rps_mixr.values()]) / 9 , sum([i for i in rps_mixe.values()]) / 9"
   ]
  },
  {
   "cell_type": "code",
   "execution_count": 422,
   "metadata": {},
   "outputs": [
    {
     "data": {
      "text/plain": [
       "0.2019460230972222"
      ]
     },
     "execution_count": 422,
     "metadata": {},
     "output_type": "execute_result"
    }
   ],
   "source": [
    "sum([i for i in rps_mixer.values()]) / 9"
   ]
  },
  {
   "cell_type": "code",
   "execution_count": null,
   "metadata": {},
   "outputs": [],
   "source": []
  }
 ],
 "metadata": {
  "kernelspec": {
   "display_name": "Python [conda root]",
   "language": "python",
   "name": "conda-root-py"
  },
  "language_info": {
   "codemirror_mode": {
    "name": "ipython",
    "version": 3
   },
   "file_extension": ".py",
   "mimetype": "text/x-python",
   "name": "python",
   "nbconvert_exporter": "python",
   "pygments_lexer": "ipython3",
   "version": "3.6.5"
  }
 },
 "nbformat": 4,
 "nbformat_minor": 2
}

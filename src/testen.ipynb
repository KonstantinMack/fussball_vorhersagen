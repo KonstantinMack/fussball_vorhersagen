{
 "cells": [
  {
   "cell_type": "code",
   "execution_count": 1,
   "metadata": {},
   "outputs": [
    {
     "name": "stderr",
     "output_type": "stream",
     "text": [
      "C:\\Users\\Konny\\Anaconda3\\lib\\site-packages\\h5py\\__init__.py:36: FutureWarning: Conversion of the second argument of issubdtype from `float` to `np.floating` is deprecated. In future, it will be treated as `np.float64 == np.dtype(float).type`.\n",
      "  from ._conv import register_converters as _register_converters\n",
      "Using TensorFlow backend.\n"
     ]
    }
   ],
   "source": [
    "import io\n",
    "import base64\n",
    "import pandas as pd\n",
    "import numpy as np\n",
    "from helper_fcts import preprocess, get_poi_mas, rps\n",
    "from keras import backend as K\n",
    "from sklearn.preprocessing import scale, StandardScaler\n",
    "from sklearn.ensemble import RandomForestClassifier\n",
    "from sklearn.svm import SVR, SVC\n",
    "from keras.models import Sequential\n",
    "from keras.layers import Activation, Dropout, Flatten, Dense\n",
    "from keras.optimizers import SGD\n",
    "from keras.utils import np_utils\n",
    "from keras.utils.vis_utils import model_to_dot\n",
    "from xgboost import XGBClassifier, XGBRegressor\n",
    "import matplotlib.pyplot as plt\n",
    "from scipy.interpolate import spline\n",
    "from IPython.display import SVG, HTML\n",
    "from operator import itemgetter\n",
    "from scipy.stats import poisson\n",
    "from mpl_toolkits.mplot3d import Axes3D\n",
    "from prediction import get_predictions\n",
    "\n",
    "from main import modelling"
   ]
  },
  {
   "cell_type": "code",
   "execution_count": 2,
   "metadata": {},
   "outputs": [
    {
     "name": "stderr",
     "output_type": "stream",
     "text": [
      "C:\\Users\\Konny\\Anaconda3\\lib\\site-packages\\scipy\\stats\\_discrete_distns.py:493: RuntimeWarning: invalid value encountered in greater_equal\n",
      "  return mu >= 0\n"
     ]
    }
   ],
   "source": [
    "df = pd.concat([modelling(pd.read_csv(\"data/E\" + str(i) + \".csv\"), 20) for i in range(8,19)])"
   ]
  },
  {
   "cell_type": "code",
   "execution_count": 4,
   "metadata": {},
   "outputs": [],
   "source": [
    "year = 18\n",
    "league = \"eng\""
   ]
  },
  {
   "cell_type": "markdown",
   "metadata": {},
   "source": [
    "### 4.2 Random Forest"
   ]
  },
  {
   "cell_type": "code",
   "execution_count": 1935,
   "metadata": {},
   "outputs": [],
   "source": [
    "columns_mit_fe  = ['FTR', 'season', 'H_avgGD', 'A_avgGD', 'H_avgG', 'A_avgG', 'H_avgG_c', 'A_avgG_c', 'H_avgST', 'A_avgST', 'H_avgST_c', 'A_avgST_c', 'H_avgC', 'A_avgC', 'H_avgC_c', 'A_avgC_c', 'H_GoalDiff_last', 'A_GoalDiff_last', 'H_xG_PoiMas', 'A_xG_PoiMas', 'H_Form_Tot4', 'A_Form_Tot4','H_Def_Rat', 'H_Off_Rat', 'A_Def_Rat', 'A_Off_Rat', \"H_prob_odds\", \"D_prob_odds\", \"A_prob_odds\"]\n",
    "\n",
    "data2 = df[df[\"round\"] > 10].reset_index(drop=True)\n",
    "data = data2.loc[:,columns_mit_fe]\n",
    "data.dropna(inplace=True)\n",
    "X_train = data[data[\"season\"]<year].iloc[:,1:]\n",
    "X_test = data[data[\"season\"]==year].iloc[:,1:]\n",
    "y_train = data[data[\"season\"]<year].loc[:,\"FTR\"]\n",
    "y_test = data[data[\"season\"]==year].loc[:,\"FTR\"]"
   ]
  },
  {
   "cell_type": "code",
   "execution_count": 1936,
   "metadata": {},
   "outputs": [],
   "source": [
    "clf = RandomForestClassifier(n_estimators=50,max_depth=4)"
   ]
  },
  {
   "cell_type": "markdown",
   "metadata": {},
   "source": [
    "- training data: seasons 2008 - 2017\n",
    "- test data: season 2018"
   ]
  },
  {
   "cell_type": "code",
   "execution_count": 1937,
   "metadata": {},
   "outputs": [
    {
     "data": {
      "text/plain": [
       "RandomForestClassifier(bootstrap=True, class_weight=None, criterion='gini',\n",
       "            max_depth=4, max_features='auto', max_leaf_nodes=None,\n",
       "            min_impurity_decrease=0.0, min_impurity_split=None,\n",
       "            min_samples_leaf=1, min_samples_split=2,\n",
       "            min_weight_fraction_leaf=0.0, n_estimators=50, n_jobs=1,\n",
       "            oob_score=False, random_state=None, verbose=0,\n",
       "            warm_start=False)"
      ]
     },
     "execution_count": 1937,
     "metadata": {},
     "output_type": "execute_result"
    }
   ],
   "source": [
    "clf.fit(X_train, y_train)"
   ]
  },
  {
   "cell_type": "code",
   "execution_count": 1938,
   "metadata": {},
   "outputs": [],
   "source": [
    "rdf_preds = clf.predict_proba(X_test)"
   ]
  },
  {
   "cell_type": "code",
   "execution_count": 1939,
   "metadata": {},
   "outputs": [
    {
     "name": "stderr",
     "output_type": "stream",
     "text": [
      "C:\\Users\\Konny\\Anaconda3\\lib\\site-packages\\ipykernel\\__main__.py:3: SettingWithCopyWarning: \n",
      "A value is trying to be set on a copy of a slice from a DataFrame\n",
      "\n",
      "See the caveats in the documentation: http://pandas.pydata.org/pandas-docs/stable/indexing.html#indexing-view-versus-copy\n",
      "  app.launch_new_instance()\n"
     ]
    }
   ],
   "source": [
    "test_df = data2.iloc[data[data[\"season\"] == year].index]\n",
    "test_df.reset_index(drop=True, inplace=True)\n",
    "test_df[columns_mit_fe].dropna(inplace=True)\n",
    "test_df2 = pd.concat([test_df, pd.DataFrame(rdf_preds, columns = [\"Clf_A\", \"Clf_D\", \"Clf_H\"])], axis=1)\n",
    "test_df2[\"rps_Clf\"] = rps(test_df2[\"Clf_H\"], test_df2[\"Clf_D\"], test_df2[\"Clf_A\"], test_df2[\"Home\"], test_df2[\"Draw\"], test_df2[\"Away\"])"
   ]
  },
  {
   "cell_type": "code",
   "execution_count": 1940,
   "metadata": {},
   "outputs": [
    {
     "name": "stdout",
     "output_type": "stream",
     "text": [
      "--------------------------------------------\n",
      "Bookmaker RPS: 0.2008\n",
      "--------------------------------------------\n",
      "Random Forest RPS: 0.203\n",
      "--------------------------------------------\n"
     ]
    }
   ],
   "source": [
    "print(\"--------------------------------------------\")\n",
    "print(f\"Bookmaker RPS: {np.round(test_df2['rps_Book'].mean(), 4)}\")\n",
    "print(\"--------------------------------------------\")\n",
    "print(f\"Random Forest RPS: {np.round(test_df2['rps_Clf'].mean(), 4)}\")\n",
    "print(\"--------------------------------------------\")"
   ]
  },
  {
   "cell_type": "markdown",
   "metadata": {},
   "source": [
    "##### Feature Importance (by random forest)"
   ]
  },
  {
   "cell_type": "code",
   "execution_count": 1941,
   "metadata": {},
   "outputs": [
    {
     "data": {
      "text/plain": [
       "<matplotlib.axes._subplots.AxesSubplot at 0x18566b51f60>"
      ]
     },
     "execution_count": 1941,
     "metadata": {},
     "output_type": "execute_result"
    },
    {
     "data": {
      "image/png": "[encoded data removed]",
      "text/plain": [
       "<Figure size 1008x576 with 1 Axes>"
      ]
     },
     "metadata": {},
     "output_type": "display_data"
    }
   ],
   "source": [
    "%matplotlib inline\n",
    "importance = sorted(zip(X_train.columns, clf.feature_importances_), key=itemgetter(1), reverse=True)\n",
    "fe_imp = pd.DataFrame(importance, columns=[\"Feature\", \"Importance\"]).set_index(\"Feature\")\n",
    "fe_imp.drop(\"season\", inplace=True)\n",
    "fe_imp.plot(figsize=(14, 8),kind='bar', title=\"Feature Importance\", fontsize=15)"
   ]
  },
  {
   "cell_type": "markdown",
   "metadata": {},
   "source": [
    "- bookie´s odds seem to be a good measure for team strength\n",
    "- momentum seems unimportant"
   ]
  },
  {
   "cell_type": "markdown",
   "metadata": {},
   "source": [
    "### 4.3 XGBoost"
   ]
  },
  {
   "cell_type": "code",
   "execution_count": 1942,
   "metadata": {},
   "outputs": [
    {
     "data": {
      "text/plain": [
       "XGBClassifier(base_score=0.5, booster='gbtree', colsample_bylevel=1,\n",
       "       colsample_bytree=1, gamma=0, learning_rate=0.1, max_delta_step=0,\n",
       "       max_depth=4, min_child_weight=1, missing=None, n_estimators=50,\n",
       "       n_jobs=1, nthread=None, objective='multi:softprob', random_state=0,\n",
       "       reg_alpha=0, reg_lambda=1, scale_pos_weight=1, seed=None,\n",
       "       silent=True, subsample=1)"
      ]
     },
     "execution_count": 1942,
     "metadata": {},
     "output_type": "execute_result"
    }
   ],
   "source": [
    "model = XGBClassifier(n_estimators=50, max_depth=4)\n",
    "model.fit(X_train, y_train)"
   ]
  },
  {
   "cell_type": "code",
   "execution_count": 1943,
   "metadata": {},
   "outputs": [],
   "source": [
    "xgb_preds = model.predict_proba(X_test)"
   ]
  },
  {
   "cell_type": "code",
   "execution_count": 1944,
   "metadata": {},
   "outputs": [
    {
     "name": "stderr",
     "output_type": "stream",
     "text": [
      "C:\\Users\\Konny\\Anaconda3\\lib\\site-packages\\ipykernel\\__main__.py:3: SettingWithCopyWarning: \n",
      "A value is trying to be set on a copy of a slice from a DataFrame\n",
      "\n",
      "See the caveats in the documentation: http://pandas.pydata.org/pandas-docs/stable/indexing.html#indexing-view-versus-copy\n",
      "  app.launch_new_instance()\n"
     ]
    }
   ],
   "source": [
    "test_df = data2.iloc[data[data[\"season\"] == year].index]\n",
    "test_df.reset_index(drop=True, inplace=True)\n",
    "test_df[columns_mit_fe].dropna(inplace=True)\n",
    "test_df2 = pd.concat([test_df, pd.DataFrame(xgb_preds, columns = [\"Clf_A\", \"Clf_D\", \"Clf_H\"])], axis=1)\n",
    "test_df2[\"rps_Clf\"] = rps(test_df2[\"Clf_H\"], test_df2[\"Clf_D\"], test_df2[\"Clf_A\"], test_df2[\"Home\"], test_df2[\"Draw\"], test_df2[\"Away\"])"
   ]
  },
  {
   "cell_type": "code",
   "execution_count": 1945,
   "metadata": {},
   "outputs": [
    {
     "name": "stdout",
     "output_type": "stream",
     "text": [
      "--------------------------------------------\n",
      "Bookmaker RPS: 0.2008\n",
      "--------------------------------------------\n",
      "XGBoost RPS: 0.2105\n",
      "--------------------------------------------\n"
     ]
    }
   ],
   "source": [
    "print(\"--------------------------------------------\")\n",
    "print(f\"Bookmaker RPS: {np.round(test_df2['rps_Book'].mean(), 4)}\")\n",
    "print(\"--------------------------------------------\")\n",
    "print(f\"XGBoost RPS: {np.round(test_df2['rps_Clf'].mean(), 4)}\")\n",
    "print(\"--------------------------------------------\")"
   ]
  },
  {
   "cell_type": "code",
   "execution_count": 1946,
   "metadata": {},
   "outputs": [
    {
     "data": {
      "text/plain": [
       "<matplotlib.axes._subplots.AxesSubplot at 0x18566b51550>"
      ]
     },
     "execution_count": 1946,
     "metadata": {},
     "output_type": "execute_result"
    },
    {
     "data": {
      "image/png": "[encoded data removed]",
      "text/plain": [
       "<Figure size 1008x576 with 1 Axes>"
      ]
     },
     "metadata": {},
     "output_type": "display_data"
    }
   ],
   "source": [
    "importance = sorted(zip(X_train.columns, model.feature_importances_), key=itemgetter(1), reverse=True)\n",
    "fe_imp = pd.DataFrame(importance, columns=[\"Feature\", \"Importance\"]).set_index(\"Feature\")\n",
    "fe_imp.drop(\"season\", inplace=True)\n",
    "fe_imp.plot(figsize=(14, 8),kind='bar', title=\"Feature Importance\", fontsize=15)"
   ]
  },
  {
   "cell_type": "markdown",
   "metadata": {},
   "source": [
    "- goal difference of the last match is again the most unimportant feature\n",
    "- the more sophisticated momentum measure (Form_Tot4) is now one of the most important features!"
   ]
  },
  {
   "cell_type": "markdown",
   "metadata": {},
   "source": [
    "### 4.4 Artificial Neural Network"
   ]
  },
  {
   "cell_type": "code",
   "execution_count": 12,
   "metadata": {},
   "outputs": [
    {
     "name": "stderr",
     "output_type": "stream",
     "text": [
      "C:\\Users\\Konny\\Anaconda3\\lib\\site-packages\\ipykernel\\__main__.py:12: SettingWithCopyWarning: \n",
      "A value is trying to be set on a copy of a slice from a DataFrame\n",
      "\n",
      "See the caveats in the documentation: http://pandas.pydata.org/pandas-docs/stable/indexing.html#indexing-view-versus-copy\n"
     ]
    }
   ],
   "source": [
    "columns_mit_fe  = ['Home', 'Draw', 'Away', 'season', 'H_avgGD', 'A_avgGD', 'H_avgG', 'A_avgG', 'H_avgG_c', 'A_avgG_c', 'H_avgST', 'A_avgST', 'H_avgST_c', 'A_avgST_c', 'H_avgC', 'A_avgC', 'H_avgC_c', 'A_avgC_c', 'H_GoalDiff_last', 'A_GoalDiff_last', 'H_xG_PoiMas', 'A_xG_PoiMas', 'H_Form_Tot4', 'A_Form_Tot4','H_Def_Rat', 'H_Off_Rat', 'A_Def_Rat', 'A_Off_Rat', \"H_prob_odds\", \"D_prob_odds\", \"A_prob_odds\"]\n",
    "\n",
    "def get_season(df, season):\n",
    "    X_train = df[df[\"season\"] < season].iloc[:,4:]\n",
    "    X_test = df[df[\"season\"] == season].iloc[:,4:]\n",
    "    y_train = df[df[\"season\"] < season].iloc[:,:3]\n",
    "    y_test = df[df[\"season\"] == season].iloc[:,:3]\n",
    "    return X_train, X_test, y_train, y_test\n",
    "\n",
    "data2 = df[df[\"round\"] > 10].reset_index(drop=True)\n",
    "data = data2[columns_mit_fe]\n",
    "data.dropna(inplace=True)\n",
    "\n",
    "X_train, X_test, y_train, y_test = get_season(data, year)\n",
    "\n",
    "scaler = StandardScaler()\n",
    "scaler.fit(X_train)\n",
    "\n",
    "X_train = scaler.transform(X_train)\n",
    "X_test = scaler.transform(X_test)"
   ]
  },
  {
   "cell_type": "code",
   "execution_count": 13,
   "metadata": {},
   "outputs": [],
   "source": [
    "def loss_rps(y_true, y_pred):\n",
    "    prob_h = y_pred[:, 0]\n",
    "    prob_d = y_pred[:, 1]\n",
    "    home = y_true[:, 0]\n",
    "    draw = y_true[:, 1]\n",
    "\n",
    "    step1 = prob_h - home\n",
    "    step2 = prob_d - draw\n",
    "    summe = step1 + step2\n",
    "    return (step1 ** 2 + summe ** 2) / 2"
   ]
  },
  {
   "cell_type": "code",
   "execution_count": 25,
   "metadata": {},
   "outputs": [],
   "source": [
    "K.clear_session()\n",
    "\n",
    "model = Sequential()\n",
    "model.add(Dense(256, kernel_initializer=\"he_normal\", input_shape=(27,)))\n",
    "model.add(Activation('tanh'))\n",
    "model.add(Dropout(0.5))\n",
    "model.add(Dense(128, kernel_initializer=\"he_normal\"))\n",
    "model.add(Activation('elu'))\n",
    "model.add(Dropout(0.5))\n",
    "model.add(Dense(64, kernel_initializer=\"he_normal\"))\n",
    "model.add(Activation('elu'))\n",
    "model.add(Dropout(0.5))\n",
    "model.add(Dense(32, kernel_initializer=\"he_normal\"))\n",
    "model.add(Activation('elu'))\n",
    "model.add(Dropout(0.5))\n",
    "model.add(Dense(3, kernel_initializer=\"he_normal\"))\n",
    "model.add(Activation('softmax'))\n",
    "\n",
    "model.compile(loss=loss_rps, optimizer='adam', metrics=['accuracy'])"
   ]
  },
  {
   "cell_type": "code",
   "execution_count": 26,
   "metadata": {
    "scrolled": true
   },
   "outputs": [
    {
     "name": "stdout",
     "output_type": "stream",
     "text": [
      "Train on 2798 samples, validate on 280 samples\n",
      "Epoch 1/75\n",
      "2798/2798 [==============================] - 1s 257us/step - loss: 0.2813 - acc: 0.4339 - val_loss: 0.2366 - val_acc: 0.5107\n",
      "Epoch 2/75\n",
      "2798/2798 [==============================] - 0s 115us/step - loss: 0.2624 - acc: 0.4557 - val_loss: 0.2358 - val_acc: 0.5107\n",
      "Epoch 3/75\n",
      "2798/2798 [==============================] - 0s 98us/step - loss: 0.2542 - acc: 0.4671 - val_loss: 0.2219 - val_acc: 0.5321\n",
      "Epoch 4/75\n",
      "2798/2798 [==============================] - 0s 110us/step - loss: 0.2514 - acc: 0.4435 - val_loss: 0.2123 - val_acc: 0.5500\n",
      "Epoch 5/75\n",
      "2798/2798 [==============================] - 0s 134us/step - loss: 0.2343 - acc: 0.4703 - val_loss: 0.2053 - val_acc: 0.5357\n",
      "Epoch 6/75\n",
      "2798/2798 [==============================] - 0s 135us/step - loss: 0.2293 - acc: 0.4707 - val_loss: 0.1992 - val_acc: 0.5429\n",
      "Epoch 7/75\n",
      "2798/2798 [==============================] - 0s 126us/step - loss: 0.2163 - acc: 0.4843 - val_loss: 0.1941 - val_acc: 0.5250\n",
      "Epoch 8/75\n",
      "2798/2798 [==============================] - 0s 100us/step - loss: 0.2113 - acc: 0.4875 - val_loss: 0.1889 - val_acc: 0.5357\n",
      "Epoch 9/75\n",
      "2798/2798 [==============================] - 0s 111us/step - loss: 0.2054 - acc: 0.5046 - val_loss: 0.1897 - val_acc: 0.5286\n",
      "Epoch 10/75\n",
      "2798/2798 [==============================] - 0s 105us/step - loss: 0.2044 - acc: 0.5179 - val_loss: 0.1884 - val_acc: 0.5357\n",
      "Epoch 11/75\n",
      "2798/2798 [==============================] - 0s 109us/step - loss: 0.2019 - acc: 0.5104 - val_loss: 0.1864 - val_acc: 0.5393\n",
      "Epoch 12/75\n",
      "2798/2798 [==============================] - 0s 135us/step - loss: 0.1991 - acc: 0.5157 - val_loss: 0.1874 - val_acc: 0.5357\n",
      "Epoch 13/75\n",
      "2798/2798 [==============================] - 0s 108us/step - loss: 0.2008 - acc: 0.5254 - val_loss: 0.1860 - val_acc: 0.5286\n",
      "Epoch 14/75\n",
      "2798/2798 [==============================] - 0s 101us/step - loss: 0.1975 - acc: 0.5243 - val_loss: 0.1863 - val_acc: 0.5429\n",
      "Epoch 15/75\n",
      "2798/2798 [==============================] - 0s 108us/step - loss: 0.1973 - acc: 0.5307 - val_loss: 0.1873 - val_acc: 0.5321\n",
      "Epoch 16/75\n",
      "2798/2798 [==============================] - 0s 107us/step - loss: 0.1993 - acc: 0.5297 - val_loss: 0.1868 - val_acc: 0.5357\n",
      "Epoch 17/75\n",
      "2798/2798 [==============================] - 0s 119us/step - loss: 0.1959 - acc: 0.5407 - val_loss: 0.1871 - val_acc: 0.5429\n",
      "Epoch 18/75\n",
      "2798/2798 [==============================] - ETA: 0s - loss: 0.1958 - acc: 0.541 - 0s 128us/step - loss: 0.1947 - acc: 0.5461 - val_loss: 0.1864 - val_acc: 0.5500\n",
      "Epoch 19/75\n",
      "2798/2798 [==============================] - 0s 130us/step - loss: 0.1956 - acc: 0.5425 - val_loss: 0.1856 - val_acc: 0.5571\n",
      "Epoch 20/75\n",
      "2798/2798 [==============================] - 0s 100us/step - loss: 0.1970 - acc: 0.5382 - val_loss: 0.1843 - val_acc: 0.5464\n",
      "Epoch 21/75\n",
      "2798/2798 [==============================] - 0s 115us/step - loss: 0.1950 - acc: 0.5404 - val_loss: 0.1849 - val_acc: 0.5500\n",
      "Epoch 22/75\n",
      "2798/2798 [==============================] - 0s 109us/step - loss: 0.1955 - acc: 0.5343 - val_loss: 0.1860 - val_acc: 0.5500\n",
      "Epoch 23/75\n",
      "2798/2798 [==============================] - 0s 111us/step - loss: 0.1940 - acc: 0.5440 - val_loss: 0.1847 - val_acc: 0.5464\n",
      "Epoch 24/75\n",
      "2798/2798 [==============================] - 0s 83us/step - loss: 0.1958 - acc: 0.5400 - val_loss: 0.1850 - val_acc: 0.5393\n",
      "Epoch 25/75\n",
      "2798/2798 [==============================] - 0s 84us/step - loss: 0.1939 - acc: 0.5475 - val_loss: 0.1859 - val_acc: 0.5393\n",
      "Epoch 26/75\n",
      "2798/2798 [==============================] - 0s 82us/step - loss: 0.1933 - acc: 0.5404 - val_loss: 0.1842 - val_acc: 0.5464\n",
      "Epoch 27/75\n",
      "2798/2798 [==============================] - 0s 109us/step - loss: 0.1930 - acc: 0.5407 - val_loss: 0.1842 - val_acc: 0.5393\n",
      "Epoch 28/75\n",
      "2798/2798 [==============================] - 0s 89us/step - loss: 0.1926 - acc: 0.5436 - val_loss: 0.1833 - val_acc: 0.5464\n",
      "Epoch 29/75\n",
      "2798/2798 [==============================] - 0s 78us/step - loss: 0.1912 - acc: 0.5497 - val_loss: 0.1851 - val_acc: 0.5393\n",
      "Epoch 30/75\n",
      "2798/2798 [==============================] - 0s 108us/step - loss: 0.1914 - acc: 0.5465 - val_loss: 0.1853 - val_acc: 0.5429\n",
      "Epoch 31/75\n",
      "2798/2798 [==============================] - 0s 81us/step - loss: 0.1926 - acc: 0.5508 - val_loss: 0.1850 - val_acc: 0.5357\n",
      "Epoch 32/75\n",
      "2798/2798 [==============================] - 0s 125us/step - loss: 0.1921 - acc: 0.5454 - val_loss: 0.1822 - val_acc: 0.5429\n",
      "Epoch 33/75\n",
      "2798/2798 [==============================] - 0s 80us/step - loss: 0.1927 - acc: 0.5400 - val_loss: 0.1852 - val_acc: 0.5429\n",
      "Epoch 34/75\n",
      "2798/2798 [==============================] - 0s 79us/step - loss: 0.1930 - acc: 0.5415 - val_loss: 0.1862 - val_acc: 0.5429\n",
      "Epoch 35/75\n",
      "2798/2798 [==============================] - 0s 86us/step - loss: 0.1897 - acc: 0.5540 - val_loss: 0.1856 - val_acc: 0.5429\n",
      "Epoch 36/75\n",
      "2798/2798 [==============================] - 0s 76us/step - loss: 0.1901 - acc: 0.5508 - val_loss: 0.1848 - val_acc: 0.5429\n",
      "Epoch 37/75\n",
      "2798/2798 [==============================] - 0s 115us/step - loss: 0.1921 - acc: 0.5486 - val_loss: 0.1838 - val_acc: 0.5464\n",
      "Epoch 38/75\n",
      "2798/2798 [==============================] - 0s 82us/step - loss: 0.1907 - acc: 0.5493 - val_loss: 0.1829 - val_acc: 0.5429\n",
      "Epoch 39/75\n",
      "2798/2798 [==============================] - 0s 122us/step - loss: 0.1906 - acc: 0.5490 - val_loss: 0.1832 - val_acc: 0.5464\n",
      "Epoch 40/75\n",
      "2798/2798 [==============================] - 0s 78us/step - loss: 0.1898 - acc: 0.5604 - val_loss: 0.1844 - val_acc: 0.5429\n",
      "Epoch 41/75\n",
      "2798/2798 [==============================] - 0s 117us/step - loss: 0.1889 - acc: 0.5593 - val_loss: 0.1861 - val_acc: 0.5393\n",
      "Epoch 42/75\n",
      "2798/2798 [==============================] - 0s 85us/step - loss: 0.1893 - acc: 0.5482 - val_loss: 0.1850 - val_acc: 0.5429\n",
      "Epoch 43/75\n",
      "2798/2798 [==============================] - 0s 84us/step - loss: 0.1901 - acc: 0.5457 - val_loss: 0.1817 - val_acc: 0.5464\n",
      "Epoch 44/75\n",
      "2798/2798 [==============================] - 0s 89us/step - loss: 0.1900 - acc: 0.5518 - val_loss: 0.1835 - val_acc: 0.5500\n",
      "Epoch 45/75\n",
      "2798/2798 [==============================] - 0s 107us/step - loss: 0.1902 - acc: 0.5561 - val_loss: 0.1843 - val_acc: 0.5393\n",
      "Epoch 46/75\n",
      "2798/2798 [==============================] - 0s 80us/step - loss: 0.1889 - acc: 0.5636 - val_loss: 0.1827 - val_acc: 0.5464\n",
      "Epoch 47/75\n",
      "2798/2798 [==============================] - 0s 81us/step - loss: 0.1887 - acc: 0.5575 - val_loss: 0.1839 - val_acc: 0.5321\n",
      "Epoch 48/75\n",
      "2798/2798 [==============================] - 0s 107us/step - loss: 0.1887 - acc: 0.5533 - val_loss: 0.1825 - val_acc: 0.5393\n",
      "Epoch 49/75\n",
      "2798/2798 [==============================] - 0s 116us/step - loss: 0.1878 - acc: 0.5525 - val_loss: 0.1842 - val_acc: 0.5536\n",
      "Epoch 50/75\n",
      "2798/2798 [==============================] - 0s 92us/step - loss: 0.1872 - acc: 0.5575 - val_loss: 0.1841 - val_acc: 0.5357\n",
      "Epoch 51/75\n",
      "2798/2798 [==============================] - 0s 82us/step - loss: 0.1885 - acc: 0.5500 - val_loss: 0.1843 - val_acc: 0.5429\n",
      "Epoch 52/75\n",
      "2798/2798 [==============================] - 0s 78us/step - loss: 0.1872 - acc: 0.5600 - val_loss: 0.1853 - val_acc: 0.5500\n",
      "Epoch 53/75\n",
      "2798/2798 [==============================] - 0s 116us/step - loss: 0.1891 - acc: 0.5579 - val_loss: 0.1833 - val_acc: 0.5429\n",
      "Epoch 54/75\n",
      "2798/2798 [==============================] - 0s 109us/step - loss: 0.1867 - acc: 0.5586 - val_loss: 0.1856 - val_acc: 0.5536\n",
      "Epoch 55/75\n",
      "2798/2798 [==============================] - 0s 117us/step - loss: 0.1889 - acc: 0.5586 - val_loss: 0.1816 - val_acc: 0.5393\n",
      "Epoch 56/75\n",
      "2798/2798 [==============================] - 0s 103us/step - loss: 0.1849 - acc: 0.5633 - val_loss: 0.1854 - val_acc: 0.5500\n",
      "Epoch 57/75\n",
      "2798/2798 [==============================] - 0s 101us/step - loss: 0.1865 - acc: 0.5554 - val_loss: 0.1880 - val_acc: 0.5500\n",
      "Epoch 58/75\n",
      "2798/2798 [==============================] - 0s 94us/step - loss: 0.1840 - acc: 0.5647 - val_loss: 0.1834 - val_acc: 0.5500\n",
      "Epoch 59/75\n",
      "2798/2798 [==============================] - 0s 93us/step - loss: 0.1859 - acc: 0.5622 - val_loss: 0.1826 - val_acc: 0.5429\n",
      "Epoch 60/75\n",
      "2798/2798 [==============================] - 0s 97us/step - loss: 0.1871 - acc: 0.5600 - val_loss: 0.1886 - val_acc: 0.5500\n",
      "Epoch 61/75\n",
      "2798/2798 [==============================] - 0s 86us/step - loss: 0.1876 - acc: 0.5586 - val_loss: 0.1848 - val_acc: 0.5357\n",
      "Epoch 62/75\n",
      "2798/2798 [==============================] - 0s 84us/step - loss: 0.1878 - acc: 0.5622 - val_loss: 0.1829 - val_acc: 0.5571\n",
      "Epoch 63/75\n",
      "2798/2798 [==============================] - 0s 85us/step - loss: 0.1868 - acc: 0.5550 - val_loss: 0.1831 - val_acc: 0.5464\n",
      "Epoch 64/75\n",
      "2798/2798 [==============================] - 0s 87us/step - loss: 0.1848 - acc: 0.5561 - val_loss: 0.1849 - val_acc: 0.5536\n",
      "Epoch 65/75\n",
      "2798/2798 [==============================] - 0s 84us/step - loss: 0.1864 - acc: 0.5625 - val_loss: 0.1823 - val_acc: 0.5500\n",
      "Epoch 66/75\n",
      "2798/2798 [==============================] - 0s 83us/step - loss: 0.1858 - acc: 0.5586 - val_loss: 0.1823 - val_acc: 0.5393\n",
      "Epoch 67/75\n",
      "2798/2798 [==============================] - 0s 82us/step - loss: 0.1880 - acc: 0.5550 - val_loss: 0.1847 - val_acc: 0.5571\n",
      "Epoch 68/75\n",
      "2798/2798 [==============================] - 0s 80us/step - loss: 0.1874 - acc: 0.5622 - val_loss: 0.1831 - val_acc: 0.5500\n",
      "Epoch 69/75\n",
      "2798/2798 [==============================] - 0s 81us/step - loss: 0.1838 - acc: 0.5611 - val_loss: 0.1847 - val_acc: 0.5429\n",
      "Epoch 70/75\n",
      "2798/2798 [==============================] - 0s 78us/step - loss: 0.1841 - acc: 0.5751 - val_loss: 0.1815 - val_acc: 0.5429\n",
      "Epoch 71/75\n",
      "2798/2798 [==============================] - 0s 84us/step - loss: 0.1821 - acc: 0.5636 - val_loss: 0.1834 - val_acc: 0.5429\n",
      "Epoch 72/75\n",
      "2798/2798 [==============================] - 0s 78us/step - loss: 0.1846 - acc: 0.5650 - val_loss: 0.1839 - val_acc: 0.5571\n",
      "Epoch 73/75\n",
      "2798/2798 [==============================] - 0s 80us/step - loss: 0.1835 - acc: 0.5693 - val_loss: 0.1839 - val_acc: 0.5536\n",
      "Epoch 74/75\n",
      "2798/2798 [==============================] - 0s 84us/step - loss: 0.1831 - acc: 0.5693 - val_loss: 0.1828 - val_acc: 0.5607\n",
      "Epoch 75/75\n",
      "2798/2798 [==============================] - 0s 79us/step - loss: 0.1851 - acc: 0.5679 - val_loss: 0.1813 - val_acc: 0.5536\n"
     ]
    }
   ],
   "source": [
    "history = model.fit(X_train, y_train, epochs=75, verbose=True, validation_data=(X_test, y_test))"
   ]
  },
  {
   "cell_type": "code",
   "execution_count": 27,
   "metadata": {},
   "outputs": [
    {
     "name": "stdout",
     "output_type": "stream",
     "text": [
      "--------------------------------------------\n",
      "Train Dataset:\n",
      " RPS: 0.1708, Accuracy: 0.5865\n",
      "--------------------------------------------\n",
      "Test Dataset:\n",
      " RPS: 0.1813, Accuracy: 0.5536\n",
      "--------------------------------------------\n"
     ]
    }
   ],
   "source": [
    "print(\"--------------------------------------------\")\n",
    "print(f\"Train Dataset:\\n RPS: {np.round(model.evaluate(X_train, y_train, verbose=0)[0],4)}, Accuracy: {np.round(model.evaluate(X_train, y_train, verbose=0)[1],4)}\")\n",
    "print(\"--------------------------------------------\")\n",
    "print(f\"Test Dataset:\\n RPS: {np.round(model.evaluate(X_test, y_test, verbose=0)[0],4)}, Accuracy: {np.round(model.evaluate(X_test, y_test, verbose=0)[1],4)}\")\n",
    "print(\"--------------------------------------------\")"
   ]
  },
  {
   "cell_type": "code",
   "execution_count": 28,
   "metadata": {},
   "outputs": [],
   "source": [
    "plt.style.use('ggplot')\n",
    "\n",
    "def plot_history(history):\n",
    "    acc = history.history['acc']\n",
    "    val_acc = history.history['val_acc']\n",
    "    loss = history.history['loss']\n",
    "    val_loss = history.history['val_loss']\n",
    "    x = range(1, len(acc) + 1)\n",
    "\n",
    "    plt.figure(figsize=(12, 5))\n",
    "    plt.subplot(1, 2, 1)\n",
    "    plt.plot(x, acc, 'b', label='Training acc')\n",
    "    plt.plot(x, val_acc, 'r', label='Validation acc')\n",
    "    plt.title('Training and validation accuracy')\n",
    "    plt.legend()\n",
    "    plt.subplot(1, 2, 2)\n",
    "    plt.plot(x, loss, 'b', label='Training loss')\n",
    "    plt.plot(x, val_loss, 'r', label='Validation loss')\n",
    "    plt.title('Training and validation loss')\n",
    "    plt.legend()"
   ]
  },
  {
   "cell_type": "code",
   "execution_count": 29,
   "metadata": {},
   "outputs": [
    {
     "data": {
      "image/png": "[encoded data removed]",
      "text/plain": [
       "<Figure size 864x360 with 2 Axes>"
      ]
     },
     "metadata": {},
     "output_type": "display_data"
    }
   ],
   "source": [
    "plot_history(history)"
   ]
  },
  {
   "cell_type": "code",
   "execution_count": 1952,
   "metadata": {},
   "outputs": [],
   "source": [
    "ann_preds = model.predict(X_test)"
   ]
  },
  {
   "cell_type": "code",
   "execution_count": 1953,
   "metadata": {},
   "outputs": [],
   "source": [
    "test_df = data2.iloc[data[data[\"season\"] == year].index]\n",
    "test_df.reset_index(drop=True, inplace=True)\n",
    "rdf_pred = pd.DataFrame(rdf_preds, columns = [\"A_pred_Rdf\", \"D_pred_Rdf\", \"H_pred_Rdf\"])\n",
    "xgb_pred = pd.DataFrame(xgb_preds, columns = [\"A_pred_Xgb\", \"D_pred_Xgb\", \"H_pred_Xgb\"])\n",
    "ann_pred = pd.DataFrame(ann_preds, columns = [\"H_pred_Ann\", \"D_pred_Ann\", \"A_pred_Ann\"])\n",
    "test_df2 = pd.concat([test_df, rdf_pred, xgb_pred, ann_pred], axis=1)\n",
    "test_df2[\"rps_Rdf\"] = rps(test_df2[\"H_pred_Rdf\"], test_df2[\"D_pred_Rdf\"], test_df2[\"A_pred_Rdf\"], test_df2[\"Home\"], test_df2[\"Draw\"], test_df2[\"Away\"])\n",
    "test_df2[\"rps_Xgb\"] = rps(test_df2[\"H_pred_Xgb\"], test_df2[\"D_pred_Xgb\"], test_df2[\"A_pred_Xgb\"], test_df2[\"Home\"], test_df2[\"Draw\"], test_df2[\"Away\"])\n",
    "test_df2[\"rps_ANN\"] = rps(test_df2[\"H_pred_Ann\"], test_df2[\"D_pred_Ann\"], test_df2[\"A_pred_Ann\"], test_df2[\"Home\"], test_df2[\"Draw\"], test_df2[\"Away\"])"
   ]
  },
  {
   "cell_type": "code",
   "execution_count": 1954,
   "metadata": {},
   "outputs": [
    {
     "name": "stdout",
     "output_type": "stream",
     "text": [
      "--------------------------------------------\n",
      "METHOD:           RPS:\n",
      "--------------------------------------------\n",
      "Bookmaker:          0.2008\n",
      "--------------------------------------------\n",
      "Poisson:            0.2082\n",
      "--------------------------------------------\n",
      "Random Forest:      0.203\n",
      "--------------------------------------------\n",
      "XGBoost:            0.2105\n",
      "--------------------------------------------\n",
      "Neural Network:     0.2076\n",
      "--------------------------------------------\n"
     ]
    }
   ],
   "source": [
    "print(\"--------------------------------------------\")\n",
    "print(\"METHOD:           RPS:\")\n",
    "print(\"--------------------------------------------\")\n",
    "print(f\"Bookmaker:          {np.round(test_df2['rps_Book'].mean(), 4)}\")\n",
    "print(\"--------------------------------------------\")\n",
    "print(f\"Poisson:            {np.round(test_df2['rps_Poi_mix'].mean(), 4)}\")\n",
    "print(\"--------------------------------------------\")\n",
    "print(f\"Random Forest:      {np.round(test_df2['rps_Rdf'].mean(), 4)}\")\n",
    "print(\"--------------------------------------------\")\n",
    "print(f\"XGBoost:            {np.round(test_df2['rps_Xgb'].mean(), 4)}\")\n",
    "print(\"--------------------------------------------\")\n",
    "print(f\"Neural Network:     {np.round(test_df2['rps_ANN'].mean(), 4)}\")\n",
    "print(\"--------------------------------------------\")"
   ]
  },
  {
   "cell_type": "markdown",
   "metadata": {},
   "source": [
    "## 5. Betting Strategy"
   ]
  },
  {
   "cell_type": "markdown",
   "metadata": {},
   "source": [
    "place bet, if the average of the predictions suggest a higher winning probability than the odds by a certain margin"
   ]
  },
  {
   "cell_type": "code",
   "execution_count": 1955,
   "metadata": {},
   "outputs": [],
   "source": [
    "test_df2[\"H_pred_avg\"] = (test_df2[\"H_pred_Rdf\"] + test_df2[\"H_pred_Xgb\"] + test_df2[\"H_pred_Ann\"]) / 3\n",
    "test_df2[\"D_pred_avg\"] = (test_df2[\"D_pred_Rdf\"] + test_df2[\"D_pred_Xgb\"] + test_df2[\"D_pred_Ann\"]) / 3\n",
    "test_df2[\"A_pred_avg\"] = (test_df2[\"A_pred_Rdf\"] + test_df2[\"A_pred_Xgb\"] + test_df2[\"A_pred_Ann\"]) / 3"
   ]
  },
  {
   "cell_type": "code",
   "execution_count": 1956,
   "metadata": {},
   "outputs": [
    {
     "data": {
      "text/html": [
       "<div>\n",
       "<style scoped>\n",
       "    .dataframe tbody tr th:only-of-type {\n",
       "        vertical-align: middle;\n",
       "    }\n",
       "\n",
       "    .dataframe tbody tr th {\n",
       "        vertical-align: top;\n",
       "    }\n",
       "\n",
       "    .dataframe thead th {\n",
       "        text-align: right;\n",
       "    }\n",
       "</style>\n",
       "<table border=\"1\" class=\"dataframe\">\n",
       "  <thead>\n",
       "    <tr style=\"text-align: right;\">\n",
       "      <th></th>\n",
       "      <th>HomeTeam</th>\n",
       "      <th>AwayTeam</th>\n",
       "      <th>H_prob_odds</th>\n",
       "      <th>H_pred_Rdf</th>\n",
       "      <th>H_pred_Xgb</th>\n",
       "      <th>H_pred_Ann</th>\n",
       "      <th>H_pred_avg</th>\n",
       "    </tr>\n",
       "  </thead>\n",
       "  <tbody>\n",
       "    <tr>\n",
       "      <th>211</th>\n",
       "      <td>Hoffenheim</td>\n",
       "      <td>Schalke 04</td>\n",
       "      <td>0.281943</td>\n",
       "      <td>0.335451</td>\n",
       "      <td>0.323506</td>\n",
       "      <td>0.209593</td>\n",
       "      <td>0.289516</td>\n",
       "    </tr>\n",
       "    <tr>\n",
       "      <th>212</th>\n",
       "      <td>Leverkusen</td>\n",
       "      <td>Ingolstadt</td>\n",
       "      <td>0.580361</td>\n",
       "      <td>0.553211</td>\n",
       "      <td>0.513528</td>\n",
       "      <td>0.623833</td>\n",
       "      <td>0.563524</td>\n",
       "    </tr>\n",
       "    <tr>\n",
       "      <th>213</th>\n",
       "      <td>Mainz</td>\n",
       "      <td>Hertha</td>\n",
       "      <td>0.480583</td>\n",
       "      <td>0.479283</td>\n",
       "      <td>0.463710</td>\n",
       "      <td>0.460415</td>\n",
       "      <td>0.467803</td>\n",
       "    </tr>\n",
       "    <tr>\n",
       "      <th>214</th>\n",
       "      <td>Werder Bremen</td>\n",
       "      <td>Ein Frankfurt</td>\n",
       "      <td>0.502774</td>\n",
       "      <td>0.460966</td>\n",
       "      <td>0.612363</td>\n",
       "      <td>0.469711</td>\n",
       "      <td>0.514346</td>\n",
       "    </tr>\n",
       "    <tr>\n",
       "      <th>215</th>\n",
       "      <td>Wolfsburg</td>\n",
       "      <td>Stuttgart</td>\n",
       "      <td>0.468785</td>\n",
       "      <td>0.488874</td>\n",
       "      <td>0.623869</td>\n",
       "      <td>0.508298</td>\n",
       "      <td>0.540347</td>\n",
       "    </tr>\n",
       "  </tbody>\n",
       "</table>\n",
       "</div>"
      ],
      "text/plain": [
       "          HomeTeam       AwayTeam  H_prob_odds  H_pred_Rdf  H_pred_Xgb  \\\n",
       "211     Hoffenheim     Schalke 04     0.281943    0.335451    0.323506   \n",
       "212     Leverkusen     Ingolstadt     0.580361    0.553211    0.513528   \n",
       "213          Mainz         Hertha     0.480583    0.479283    0.463710   \n",
       "214  Werder Bremen  Ein Frankfurt     0.502774    0.460966    0.612363   \n",
       "215      Wolfsburg      Stuttgart     0.468785    0.488874    0.623869   \n",
       "\n",
       "     H_pred_Ann  H_pred_avg  \n",
       "211    0.209593    0.289516  \n",
       "212    0.623833    0.563524  \n",
       "213    0.460415    0.467803  \n",
       "214    0.469711    0.514346  \n",
       "215    0.508298    0.540347  "
      ]
     },
     "execution_count": 1956,
     "metadata": {},
     "output_type": "execute_result"
    }
   ],
   "source": [
    "test_df2[[\"HomeTeam\", \"AwayTeam\", \"H_prob_odds\", \"H_pred_Rdf\", \"H_pred_Xgb\", \"H_pred_Ann\", \"H_pred_avg\"]].tail()"
   ]
  },
  {
   "cell_type": "code",
   "execution_count": 1957,
   "metadata": {},
   "outputs": [],
   "source": [
    "test_df2[\"rps_avg\"] = rps(test_df2[\"H_pred_avg\"], test_df2[\"D_pred_avg\"], test_df2[\"A_pred_avg\"], test_df2[\"Home\"], test_df2[\"Draw\"], test_df2[\"Away\"])"
   ]
  },
  {
   "cell_type": "code",
   "execution_count": 1958,
   "metadata": {},
   "outputs": [
    {
     "name": "stdout",
     "output_type": "stream",
     "text": [
      "--------------------------------------------\n",
      "Average prediction RPS: 0.2049\n",
      "--------------------------------------------\n"
     ]
    }
   ],
   "source": [
    "print(\"--------------------------------------------\")\n",
    "print(f\"Average prediction RPS: {np.round(test_df2['rps_avg'].mean(), 4)}\")\n",
    "print(\"--------------------------------------------\")"
   ]
  },
  {
   "cell_type": "code",
   "execution_count": null,
   "metadata": {},
   "outputs": [],
   "source": []
  },
  {
   "cell_type": "code",
   "execution_count": 1959,
   "metadata": {},
   "outputs": [
    {
     "name": "stdout",
     "output_type": "stream",
     "text": [
      "\n",
      "Bets on Home Teams in 1X2 market:\n",
      "\n",
      "Nr of Matches: 216\n",
      "Nr of Bets: 44\n",
      "Avg. Yield: -5.68%\n",
      "Max winning odds: 10.24\n",
      "======================================================================\n",
      "\n",
      "Bets on Home Teams in asian handicap market:\n",
      "\n",
      "Nr of Matches: 216\n",
      "Nr of Bets: 44\n",
      "Avg. Yield: -1.35%\n",
      "Max winning odds: 2.14\n"
     ]
    }
   ],
   "source": [
    "value = 0.1\n",
    "\n",
    "a = test_df2[test_df2[\"H_pred_Ann\"] / test_df2[\"H_prob_odds\"] -1 > value][\"H_PL\"].describe()\n",
    "print(f\"\\nBets on Home Teams in 1X2 market:\\n\\nNr of Matches: {test_df2.shape[0]}\\nNr of Bets: {int(a['count'])}\\nAvg. Yield: {np.round(a['mean'] * 100, 2)}%\\nMax winning odds: {np.round(a['max'] + 1, 2)}\")\n",
    "print(\"======================================================================\")\n",
    "b = test_df2[test_df2[\"H_pred_Ann\"] / test_df2[\"H_prob_odds\"] -1 > value][\"H_Ahc_PL\"].describe()\n",
    "print(f\"\\nBets on Home Teams in asian handicap market:\\n\\nNr of Matches: {test_df2.shape[0]}\\nNr of Bets: {int(b['count'])}\\nAvg. Yield: {np.round(b['mean'] * 100, 2)}%\\nMax winning odds: {np.round(b['max'] + 1, 2)}\")"
   ]
  },
  {
   "cell_type": "code",
   "execution_count": 1960,
   "metadata": {},
   "outputs": [
    {
     "name": "stdout",
     "output_type": "stream",
     "text": [
      "\n",
      "Bets on Away Teams in 1X2 market:\n",
      "\n",
      "Nr of Matches: 216\n",
      "Nr of Bets: 66\n",
      "Avg. Yield: -18.44%\n",
      "Max winning odds: 4.08\n",
      "======================================================================\n",
      "\n",
      "Bets on Away Teams in asian handicap market:\n",
      "\n",
      "Nr of Matches: 216\n",
      "Nr of Bets: 66\n",
      "Avg. Yield: -1.82%\n",
      "Max winning odds: 2.07\n"
     ]
    }
   ],
   "source": [
    "c = test_df2[test_df2[\"A_pred_Ann\"] / test_df2[\"A_prob_odds\"] -1 > value][\"A_PL\"].describe()\n",
    "print(f\"\\nBets on Away Teams in 1X2 market:\\n\\nNr of Matches: {test_df2.shape[0]}\\nNr of Bets: {int(c['count'])}\\nAvg. Yield: {np.round(c['mean'] * 100, 2)}%\\nMax winning odds: {np.round(c['max'] + 1, 2)}\")\n",
    "print(\"======================================================================\")\n",
    "d = test_df2[test_df2[\"A_pred_Ann\"] / test_df2[\"A_prob_odds\"] -1 > value][\"A_Ahc_PL\"].describe()\n",
    "print(f\"\\nBets on Away Teams in asian handicap market:\\n\\nNr of Matches: {test_df2.shape[0]}\\nNr of Bets: {int(d['count'])}\\nAvg. Yield: {np.round(d['mean'] * 100, 2)}%\\nMax winning odds: {np.round(d['max'] + 1, 2)}\")"
   ]
  },
  {
   "cell_type": "code",
   "execution_count": null,
   "metadata": {},
   "outputs": [],
   "source": []
  },
  {
   "cell_type": "markdown",
   "metadata": {},
   "source": [
    "##### Profit/Loss on Home Bets:"
   ]
  },
  {
   "cell_type": "code",
   "execution_count": 1961,
   "metadata": {},
   "outputs": [
    {
     "name": "stdout",
     "output_type": "stream",
     "text": [
      "\n",
      "Bets on Home Teams in 1X2 market:\n",
      "\n",
      "Nr of Matches: 216\n",
      "Nr of Bets: 49\n",
      "Avg. Yield: 1.92%\n",
      "Max winning odds: 10.24\n",
      "======================================================================\n",
      "\n",
      "Bets on Home Teams in asian handicap market:\n",
      "\n",
      "Nr of Matches: 216\n",
      "Nr of Bets: 49\n",
      "Avg. Yield: 3.19%\n",
      "Max winning odds: 2.18\n"
     ]
    }
   ],
   "source": [
    "value = 0.1\n",
    "\n",
    "a = test_df2[test_df2[\"H_pred_avg\"] / test_df2[\"H_prob_odds\"] -1 > value][\"H_PL\"].describe()\n",
    "print(f\"\\nBets on Home Teams in 1X2 market:\\n\\nNr of Matches: {test_df2.shape[0]}\\nNr of Bets: {int(a['count'])}\\nAvg. Yield: {np.round(a['mean'] * 100, 2)}%\\nMax winning odds: {np.round(a['max'] + 1, 2)}\")\n",
    "print(\"======================================================================\")\n",
    "b = test_df2[test_df2[\"H_pred_avg\"] / test_df2[\"H_prob_odds\"] -1 > value][\"H_Ahc_PL\"].describe()\n",
    "print(f\"\\nBets on Home Teams in asian handicap market:\\n\\nNr of Matches: {test_df2.shape[0]}\\nNr of Bets: {int(b['count'])}\\nAvg. Yield: {np.round(b['mean'] * 100, 2)}%\\nMax winning odds: {np.round(b['max'] + 1, 2)}\")"
   ]
  },
  {
   "cell_type": "markdown",
   "metadata": {},
   "source": [
    "##### Profit/Loss on Away Bets:"
   ]
  },
  {
   "cell_type": "code",
   "execution_count": 1962,
   "metadata": {},
   "outputs": [
    {
     "name": "stdout",
     "output_type": "stream",
     "text": [
      "\n",
      "Bets on Away Teams in 1X2 market:\n",
      "\n",
      "Nr of Matches: 216\n",
      "Nr of Bets: 57\n",
      "Avg. Yield: -1.32%\n",
      "Max winning odds: 24.43\n",
      "======================================================================\n",
      "\n",
      "Bets on Away Teams in asian handicap market:\n",
      "\n",
      "Nr of Matches: 216\n",
      "Nr of Bets: 57\n",
      "Avg. Yield: 1.67%\n",
      "Max winning odds: 2.07\n"
     ]
    }
   ],
   "source": [
    "c = test_df2[test_df2[\"A_pred_avg\"] / test_df2[\"A_prob_odds\"] -1 > value][\"A_PL\"].describe()\n",
    "print(f\"\\nBets on Away Teams in 1X2 market:\\n\\nNr of Matches: {test_df2.shape[0]}\\nNr of Bets: {int(c['count'])}\\nAvg. Yield: {np.round(c['mean'] * 100, 2)}%\\nMax winning odds: {np.round(c['max'] + 1, 2)}\")\n",
    "print(\"======================================================================\")\n",
    "d = test_df2[test_df2[\"A_pred_avg\"] / test_df2[\"A_prob_odds\"] -1 > value][\"A_Ahc_PL\"].describe()\n",
    "print(f\"\\nBets on Away Teams in asian handicap market:\\n\\nNr of Matches: {test_df2.shape[0]}\\nNr of Bets: {int(d['count'])}\\nAvg. Yield: {np.round(d['mean'] * 100, 2)}%\\nMax winning odds: {np.round(d['max'] + 1, 2)}\")"
   ]
  },
  {
   "cell_type": "markdown",
   "metadata": {},
   "source": [
    "## 6. Predicting Goal Difference instead of Classification"
   ]
  },
  {
   "cell_type": "markdown",
   "metadata": {},
   "source": [
    "#### XGB Regressor"
   ]
  },
  {
   "cell_type": "code",
   "execution_count": 1963,
   "metadata": {},
   "outputs": [
    {
     "name": "stderr",
     "output_type": "stream",
     "text": [
      "C:\\Users\\Konny\\Anaconda3\\lib\\site-packages\\ipykernel\\__main__.py:13: SettingWithCopyWarning: \n",
      "A value is trying to be set on a copy of a slice from a DataFrame\n",
      "\n",
      "See the caveats in the documentation: http://pandas.pydata.org/pandas-docs/stable/indexing.html#indexing-view-versus-copy\n"
     ]
    }
   ],
   "source": [
    "columns_mit_fe  = ['FTHG', 'FTAG', 'season', 'H_avgGD', 'A_avgGD', 'H_avgG', 'A_avgG', 'H_avgG_c', 'A_avgG_c', 'H_avgST', 'A_avgST', 'H_avgST_c', 'A_avgST_c', 'H_avgC', 'A_avgC', 'H_avgC_c', 'A_avgC_c', 'H_GoalDiff_last', 'A_GoalDiff_last', 'H_xG_PoiMas', 'A_xG_PoiMas', 'H_Form_Tot4', 'A_Form_Tot4','H_Def_Rat', 'H_Off_Rat', 'A_Def_Rat', 'A_Off_Rat', \"H_prob_odds\", \"D_prob_odds\", \"A_prob_odds\"]\n",
    "def get_season(df, season):\n",
    "    X_train = df[df[\"season\"] < season].iloc[:,2:]\n",
    "    X_test = df[df[\"season\"] == season].iloc[:,2:]\n",
    "    y_train_hg = df[df[\"season\"] < season].iloc[:,0]\n",
    "    y_test_hg = df[df[\"season\"] == season].iloc[:,0]\n",
    "    y_train_ag = df[df[\"season\"] < season].iloc[:,1]\n",
    "    y_test_ag = df[df[\"season\"] == season].iloc[:,1]\n",
    "    return X_train, X_test, y_train_hg, y_test_hg, y_train_ag, y_test_ag\n",
    "\n",
    "data2 = df[df[\"round\"] > 10].reset_index(drop=True)\n",
    "data = data2[columns_mit_fe]\n",
    "data.dropna(inplace=True)\n",
    "\n",
    "X_train, X_test, y_train_hg, y_test_hg, y_train_ag, y_test_ag = get_season(data, year)\n",
    "\n",
    "del X_train[\"season\"]\n",
    "del X_test[\"season\"]"
   ]
  },
  {
   "cell_type": "code",
   "execution_count": 1964,
   "metadata": {},
   "outputs": [
    {
     "name": "stderr",
     "output_type": "stream",
     "text": [
      "C:\\Users\\Konny\\Anaconda3\\lib\\site-packages\\ipykernel\\__main__.py:1: FutureWarning: reshape is deprecated and will raise in a subsequent release. Please use .values.reshape(...) instead\n",
      "  if __name__ == '__main__':\n",
      "C:\\Users\\Konny\\Anaconda3\\lib\\site-packages\\sklearn\\utils\\validation.py:475: DataConversionWarning: Data with input dtype int64 was converted to float64 by StandardScaler.\n",
      "  warnings.warn(msg, DataConversionWarning)\n",
      "C:\\Users\\Konny\\Anaconda3\\lib\\site-packages\\ipykernel\\__main__.py:6: FutureWarning: reshape is deprecated and will raise in a subsequent release. Please use .values.reshape(...) instead\n"
     ]
    }
   ],
   "source": [
    "y_train_hg = y_train_hg.reshape((-1,1))\n",
    "scaler_hg = StandardScaler()\n",
    "scaler_hg.fit(y_train_hg)\n",
    "y_train_hg = scaler_hg.transform(y_train_hg)\n",
    "\n",
    "y_train_ag = y_train_ag.reshape((-1,1))\n",
    "scaler_ag = StandardScaler()\n",
    "scaler_ag.fit(y_train_ag)\n",
    "y_train_ag = scaler_ag.transform(y_train_ag)"
   ]
  },
  {
   "cell_type": "code",
   "execution_count": 1965,
   "metadata": {},
   "outputs": [],
   "source": [
    "#home\n",
    "model_h = XGBRegressor(n_estimators=50, max_depth=4)\n",
    "model_h.fit(X_train, y_train_hg)\n",
    "xgb_home = model_h.predict(X_test)\n",
    "\n",
    "#away\n",
    "model_a = XGBRegressor(n_estimators=50, max_depth=4)\n",
    "model_a.fit(X_train, y_train_ag)\n",
    "xgb_away = model_a.predict(X_test)"
   ]
  },
  {
   "cell_type": "code",
   "execution_count": 1966,
   "metadata": {},
   "outputs": [],
   "source": [
    "xgb_home = scaler_hg.inverse_transform(xgb_home)\n",
    "xgb_away = scaler_ag.inverse_transform(xgb_away)"
   ]
  },
  {
   "cell_type": "code",
   "execution_count": 1967,
   "metadata": {},
   "outputs": [
    {
     "name": "stderr",
     "output_type": "stream",
     "text": [
      "C:\\Users\\Konny\\Anaconda3\\lib\\site-packages\\ipykernel\\__main__.py:3: SettingWithCopyWarning: \n",
      "A value is trying to be set on a copy of a slice from a DataFrame.\n",
      "Try using .loc[row_indexer,col_indexer] = value instead\n",
      "\n",
      "See the caveats in the documentation: http://pandas.pydata.org/pandas-docs/stable/indexing.html#indexing-view-versus-copy\n",
      "  app.launch_new_instance()\n",
      "C:\\Users\\Konny\\Anaconda3\\lib\\site-packages\\ipykernel\\__main__.py:4: SettingWithCopyWarning: \n",
      "A value is trying to be set on a copy of a slice from a DataFrame.\n",
      "Try using .loc[row_indexer,col_indexer] = value instead\n",
      "\n",
      "See the caveats in the documentation: http://pandas.pydata.org/pandas-docs/stable/indexing.html#indexing-view-versus-copy\n",
      "C:\\Users\\Konny\\Anaconda3\\lib\\site-packages\\ipykernel\\__main__.py:5: SettingWithCopyWarning: \n",
      "A value is trying to be set on a copy of a slice from a DataFrame.\n",
      "Try using .loc[row_indexer,col_indexer] = value instead\n",
      "\n",
      "See the caveats in the documentation: http://pandas.pydata.org/pandas-docs/stable/indexing.html#indexing-view-versus-copy\n",
      "C:\\Users\\Konny\\Anaconda3\\lib\\site-packages\\ipykernel\\__main__.py:6: SettingWithCopyWarning: \n",
      "A value is trying to be set on a copy of a slice from a DataFrame.\n",
      "Try using .loc[row_indexer,col_indexer] = value instead\n",
      "\n",
      "See the caveats in the documentation: http://pandas.pydata.org/pandas-docs/stable/indexing.html#indexing-view-versus-copy\n"
     ]
    }
   ],
   "source": [
    "test_df = data2.iloc[data[data[\"season\"] == year].index]\n",
    "test_df.reset_index(drop=True, inplace=True)\n",
    "test_df[\"H_xgb_xG\"] = xgb_home\n",
    "test_df[\"A_xgb_xG\"] = xgb_away\n",
    "test_df[\"XGB_hc\"] = test_df[\"A_xgb_xG\"] - test_df[\"H_xgb_xG\"]\n",
    "test_df[\"Hc_Diff\"] = test_df[\"BbAHh\"] - test_df[\"XGB_hc\"]"
   ]
  },
  {
   "cell_type": "code",
   "execution_count": 1968,
   "metadata": {},
   "outputs": [
    {
     "data": {
      "text/plain": [
       "count    44.000000\n",
       "mean      0.125114\n",
       "std       0.872505\n",
       "min      -1.000000\n",
       "25%      -1.000000\n",
       "50%       0.460000\n",
       "75%       0.915000\n",
       "max       1.040000\n",
       "Name: H_Ahc_PL, dtype: float64"
      ]
     },
     "execution_count": 1968,
     "metadata": {},
     "output_type": "execute_result"
    }
   ],
   "source": [
    "test_df[test_df[\"Hc_Diff\"] > 0.3].H_Ahc_PL.describe()"
   ]
  },
  {
   "cell_type": "code",
   "execution_count": 1969,
   "metadata": {},
   "outputs": [
    {
     "data": {
      "text/plain": [
       "count    41.000000\n",
       "mean      0.234756\n",
       "std       0.837116\n",
       "min      -1.000000\n",
       "25%      -1.000000\n",
       "50%       0.790000\n",
       "75%       0.890000\n",
       "max       1.070000\n",
       "Name: A_Ahc_PL, dtype: float64"
      ]
     },
     "execution_count": 1969,
     "metadata": {},
     "output_type": "execute_result"
    }
   ],
   "source": [
    "test_df[test_df[\"Hc_Diff\"] < -0.3].A_Ahc_PL.describe()"
   ]
  },
  {
   "cell_type": "markdown",
   "metadata": {},
   "source": [
    "### SVR"
   ]
  },
  {
   "cell_type": "code",
   "execution_count": 1970,
   "metadata": {},
   "outputs": [
    {
     "name": "stderr",
     "output_type": "stream",
     "text": [
      "C:\\Users\\Konny\\Anaconda3\\lib\\site-packages\\ipykernel\\__main__.py:15: SettingWithCopyWarning: \n",
      "A value is trying to be set on a copy of a slice from a DataFrame\n",
      "\n",
      "See the caveats in the documentation: http://pandas.pydata.org/pandas-docs/stable/indexing.html#indexing-view-versus-copy\n"
     ]
    }
   ],
   "source": [
    "columns_mit_fe  = ['FTHG', 'FTAG', 'season', 'H_avgGD', 'A_avgGD', 'H_avgG', 'A_avgG', 'H_avgG_c', 'A_avgG_c', 'H_avgST', 'A_avgST', 'H_avgST_c', 'A_avgST_c', 'H_avgC', 'A_avgC', 'H_avgC_c', 'A_avgC_c', 'H_GoalDiff_last', 'A_GoalDiff_last', 'H_xG_PoiMas', 'A_xG_PoiMas', 'H_Form_Tot4', 'A_Form_Tot4','H_Def_Rat', 'H_Off_Rat', 'A_Def_Rat', 'A_Off_Rat', \"H_prob_odds\", \"D_prob_odds\", \"A_prob_odds\"]\n",
    "\n",
    "\n",
    "def get_season(df, season):\n",
    "    X_train = df[df[\"season\"] < season].iloc[:,2:]\n",
    "    X_test = df[df[\"season\"] == season].iloc[:,2:]\n",
    "    y_train_hg = df[df[\"season\"] < season].iloc[:,0]\n",
    "    y_test_hg = df[df[\"season\"] == season].iloc[:,0]\n",
    "    y_train_ag = df[df[\"season\"] < season].iloc[:,1]\n",
    "    y_test_ag = df[df[\"season\"] == season].iloc[:,1]\n",
    "    return X_train, X_test, y_train_hg, y_test_hg, y_train_ag, y_test_ag\n",
    "\n",
    "data2 = df[df[\"round\"] > 10].reset_index(drop=True)\n",
    "data = data2[columns_mit_fe]\n",
    "data.dropna(inplace=True)\n",
    "\n",
    "X_train, X_test, y_train_hg, y_test_hg, y_train_ag, y_test_ag = get_season(data, year)\n",
    "\n",
    "del X_train[\"season\"]\n",
    "del X_test[\"season\"]\n",
    "\n",
    "scaler = StandardScaler()\n",
    "scaler.fit(X_train)\n",
    "\n",
    "X_train = scaler.transform(X_train)\n",
    "X_test = scaler.transform(X_test)"
   ]
  },
  {
   "cell_type": "code",
   "execution_count": 1971,
   "metadata": {},
   "outputs": [
    {
     "name": "stderr",
     "output_type": "stream",
     "text": [
      "C:\\Users\\Konny\\Anaconda3\\lib\\site-packages\\ipykernel\\__main__.py:1: FutureWarning: reshape is deprecated and will raise in a subsequent release. Please use .values.reshape(...) instead\n",
      "  if __name__ == '__main__':\n",
      "C:\\Users\\Konny\\Anaconda3\\lib\\site-packages\\sklearn\\utils\\validation.py:475: DataConversionWarning: Data with input dtype int64 was converted to float64 by StandardScaler.\n",
      "  warnings.warn(msg, DataConversionWarning)\n",
      "C:\\Users\\Konny\\Anaconda3\\lib\\site-packages\\ipykernel\\__main__.py:6: FutureWarning: reshape is deprecated and will raise in a subsequent release. Please use .values.reshape(...) instead\n"
     ]
    }
   ],
   "source": [
    "y_train_hg = y_train_hg.reshape((-1,1))\n",
    "scaler_hg = StandardScaler()\n",
    "scaler_hg.fit(y_train_hg)\n",
    "y_train_hg = scaler_hg.transform(y_train_hg)\n",
    "\n",
    "y_train_ag = y_train_ag.reshape((-1,1))\n",
    "scaler_ag = StandardScaler()\n",
    "scaler_ag.fit(y_train_ag)\n",
    "y_train_ag = scaler_ag.transform(y_train_ag)"
   ]
  },
  {
   "cell_type": "code",
   "execution_count": 1972,
   "metadata": {},
   "outputs": [
    {
     "name": "stderr",
     "output_type": "stream",
     "text": [
      "C:\\Users\\Konny\\Anaconda3\\lib\\site-packages\\sklearn\\utils\\validation.py:578: DataConversionWarning: A column-vector y was passed when a 1d array was expected. Please change the shape of y to (n_samples, ), for example using ravel().\n",
      "  y = column_or_1d(y, warn=True)\n"
     ]
    }
   ],
   "source": [
    "#home\n",
    "model_h = SVR(C=0.01)\n",
    "model_h.fit(X_train, y_train_hg)\n",
    "svr_home = model_h.predict(X_test)\n",
    "\n",
    "#away\n",
    "model_a = SVR(C=0.01)\n",
    "model_a.fit(X_train, y_train_ag)\n",
    "svr_away = model_a.predict(X_test)"
   ]
  },
  {
   "cell_type": "code",
   "execution_count": 1973,
   "metadata": {},
   "outputs": [],
   "source": [
    "svr_home = scaler_hg.inverse_transform(svr_home)\n",
    "svr_away = scaler_ag.inverse_transform(svr_away)"
   ]
  },
  {
   "cell_type": "code",
   "execution_count": 1974,
   "metadata": {},
   "outputs": [
    {
     "name": "stderr",
     "output_type": "stream",
     "text": [
      "C:\\Users\\Konny\\Anaconda3\\lib\\site-packages\\ipykernel\\__main__.py:3: SettingWithCopyWarning: \n",
      "A value is trying to be set on a copy of a slice from a DataFrame.\n",
      "Try using .loc[row_indexer,col_indexer] = value instead\n",
      "\n",
      "See the caveats in the documentation: http://pandas.pydata.org/pandas-docs/stable/indexing.html#indexing-view-versus-copy\n",
      "  app.launch_new_instance()\n",
      "C:\\Users\\Konny\\Anaconda3\\lib\\site-packages\\ipykernel\\__main__.py:4: SettingWithCopyWarning: \n",
      "A value is trying to be set on a copy of a slice from a DataFrame.\n",
      "Try using .loc[row_indexer,col_indexer] = value instead\n",
      "\n",
      "See the caveats in the documentation: http://pandas.pydata.org/pandas-docs/stable/indexing.html#indexing-view-versus-copy\n",
      "C:\\Users\\Konny\\Anaconda3\\lib\\site-packages\\ipykernel\\__main__.py:5: SettingWithCopyWarning: \n",
      "A value is trying to be set on a copy of a slice from a DataFrame.\n",
      "Try using .loc[row_indexer,col_indexer] = value instead\n",
      "\n",
      "See the caveats in the documentation: http://pandas.pydata.org/pandas-docs/stable/indexing.html#indexing-view-versus-copy\n",
      "C:\\Users\\Konny\\Anaconda3\\lib\\site-packages\\ipykernel\\__main__.py:6: SettingWithCopyWarning: \n",
      "A value is trying to be set on a copy of a slice from a DataFrame.\n",
      "Try using .loc[row_indexer,col_indexer] = value instead\n",
      "\n",
      "See the caveats in the documentation: http://pandas.pydata.org/pandas-docs/stable/indexing.html#indexing-view-versus-copy\n"
     ]
    }
   ],
   "source": [
    "test_df = data2.iloc[data[data[\"season\"] == year].index]\n",
    "test_df.reset_index(drop=True, inplace=True)\n",
    "test_df[\"H_svr_xG\"] = svr_home\n",
    "test_df[\"A_svr_xG\"] = svr_away\n",
    "test_df[\"SVR_hc\"] = test_df[\"A_svr_xG\"] - test_df[\"H_svr_xG\"]\n",
    "test_df[\"Hc_Diff\"] = test_df[\"BbAHh\"] - test_df[\"SVR_hc\"]"
   ]
  },
  {
   "cell_type": "code",
   "execution_count": 1975,
   "metadata": {},
   "outputs": [
    {
     "data": {
      "text/plain": [
       "count    31.000000\n",
       "mean      0.093548\n",
       "std       0.908176\n",
       "min      -1.000000\n",
       "25%      -1.000000\n",
       "50%       0.660000\n",
       "75%       0.850000\n",
       "max       1.180000\n",
       "Name: H_Ahc_PL, dtype: float64"
      ]
     },
     "execution_count": 1975,
     "metadata": {},
     "output_type": "execute_result"
    }
   ],
   "source": [
    "test_df[test_df[\"Hc_Diff\"] > 0.5].H_Ahc_PL.describe()"
   ]
  },
  {
   "cell_type": "code",
   "execution_count": 1976,
   "metadata": {},
   "outputs": [
    {
     "data": {
      "text/plain": [
       "count    23.000000\n",
       "mean      0.126522\n",
       "std       0.925599\n",
       "min      -1.000000\n",
       "25%      -1.000000\n",
       "50%       0.740000\n",
       "75%       1.000000\n",
       "max       1.070000\n",
       "Name: A_Ahc_PL, dtype: float64"
      ]
     },
     "execution_count": 1976,
     "metadata": {},
     "output_type": "execute_result"
    }
   ],
   "source": [
    "test_df[test_df[\"Hc_Diff\"] < -0.5].A_Ahc_PL.describe()"
   ]
  },
  {
   "cell_type": "markdown",
   "metadata": {},
   "source": [
    "### Artificial Neural Network"
   ]
  },
  {
   "cell_type": "code",
   "execution_count": 30,
   "metadata": {},
   "outputs": [
    {
     "name": "stderr",
     "output_type": "stream",
     "text": [
      "C:\\Users\\Konny\\Anaconda3\\lib\\site-packages\\ipykernel\\__main__.py:13: SettingWithCopyWarning: \n",
      "A value is trying to be set on a copy of a slice from a DataFrame\n",
      "\n",
      "See the caveats in the documentation: http://pandas.pydata.org/pandas-docs/stable/indexing.html#indexing-view-versus-copy\n"
     ]
    }
   ],
   "source": [
    "columns_mit_fe  = ['FTHG', 'FTAG', 'season', 'H_avgGD', 'A_avgGD', 'H_avgG', 'A_avgG', 'H_avgG_c', 'A_avgG_c', 'H_avgST', 'A_avgST', 'H_avgST_c', 'A_avgST_c', 'H_avgC', 'A_avgC', 'H_avgC_c', 'A_avgC_c', 'H_GoalDiff_last', 'A_GoalDiff_last', 'H_xG_PoiMas', 'A_xG_PoiMas', 'H_Form_Tot4', 'A_Form_Tot4','H_Def_Rat', 'H_Off_Rat', 'A_Def_Rat', 'A_Off_Rat', \"H_prob_odds\", \"D_prob_odds\", \"A_prob_odds\"]\n",
    "\n",
    "def get_season(df, season):\n",
    "    X_train = df[df[\"season\"] < season].iloc[:,2:]\n",
    "    X_test = df[df[\"season\"] == season].iloc[:,2:]\n",
    "    y_train = df[df[\"season\"] < season].iloc[:,:2]\n",
    "    y_test = df[df[\"season\"] == season].iloc[:,:2]\n",
    "    return X_train, X_test, y_train, y_test\n",
    "\n",
    "\n",
    "data2 = df[df[\"round\"] > 10].reset_index(drop=True)\n",
    "data = data2[columns_mit_fe]\n",
    "data.dropna(inplace=True)\n",
    "\n",
    "X_train, X_test, y_train, y_test = get_season(data, year)\n",
    "\n",
    "del X_train[\"season\"]\n",
    "del X_test[\"season\"]\n",
    "\n",
    "scaler = StandardScaler()\n",
    "scaler.fit(X_train)\n",
    "\n",
    "X_train = scaler.transform(X_train)\n",
    "X_test = scaler.transform(X_test)"
   ]
  },
  {
   "cell_type": "code",
   "execution_count": 31,
   "metadata": {},
   "outputs": [],
   "source": [
    "scaler_goals = StandardScaler()\n",
    "scaler_goals.fit(y_train)\n",
    "\n",
    "y_train = scaler_goals.transform(y_train)\n",
    "y_test = scaler_goals.transform(y_test)"
   ]
  },
  {
   "cell_type": "code",
   "execution_count": 51,
   "metadata": {},
   "outputs": [],
   "source": [
    "K.clear_session()\n",
    "\n",
    "model = Sequential()\n",
    "model.add(Dense(128, kernel_initializer=\"he_normal\", input_shape=(27,)))\n",
    "model.add(Activation('tanh'))\n",
    "model.add(Dropout(0.5))\n",
    "model.add(Dense(64, kernel_initializer=\"he_normal\"))\n",
    "model.add(Activation('elu'))\n",
    "model.add(Dropout(0.5))\n",
    "model.add(Dense(32, kernel_initializer=\"he_normal\"))\n",
    "model.add(Activation('elu'))\n",
    "model.add(Dropout(0.5))\n",
    "model.add(Dense(2, kernel_initializer=\"he_normal\"))\n",
    "model.add(Activation('linear'))\n",
    "\n",
    "model.compile(loss=\"logcosh\", optimizer='adam', metrics=['accuracy'])"
   ]
  },
  {
   "cell_type": "code",
   "execution_count": 52,
   "metadata": {},
   "outputs": [
    {
     "name": "stdout",
     "output_type": "stream",
     "text": [
      "Train on 2798 samples, validate on 280 samples\n",
      "Epoch 1/100\n",
      "2798/2798 [==============================] - 0s 166us/step - loss: 0.8638 - acc: 0.5286 - val_loss: 0.3312 - val_acc: 0.6429\n",
      "Epoch 2/100\n",
      "2798/2798 [==============================] - 0s 72us/step - loss: 0.5725 - acc: 0.5461 - val_loss: 0.3307 - val_acc: 0.6250\n",
      "Epoch 3/100\n",
      "2798/2798 [==============================] - 0s 88us/step - loss: 0.4764 - acc: 0.5522 - val_loss: 0.3289 - val_acc: 0.6286\n",
      "Epoch 4/100\n",
      "2798/2798 [==============================] - 0s 89us/step - loss: 0.4186 - acc: 0.5679 - val_loss: 0.3260 - val_acc: 0.6429\n",
      "Epoch 5/100\n",
      "2798/2798 [==============================] - 0s 72us/step - loss: 0.3926 - acc: 0.5793 - val_loss: 0.3281 - val_acc: 0.6357\n",
      "Epoch 6/100\n",
      "2798/2798 [==============================] - 0s 72us/step - loss: 0.3732 - acc: 0.6019 - val_loss: 0.3256 - val_acc: 0.6321\n",
      "Epoch 7/100\n",
      "2798/2798 [==============================] - 0s 67us/step - loss: 0.3653 - acc: 0.6022 - val_loss: 0.3255 - val_acc: 0.6393\n",
      "Epoch 8/100\n",
      "2798/2798 [==============================] - 0s 71us/step - loss: 0.3594 - acc: 0.6065 - val_loss: 0.3253 - val_acc: 0.6393\n",
      "Epoch 9/100\n",
      "2798/2798 [==============================] - 0s 71us/step - loss: 0.3502 - acc: 0.6179 - val_loss: 0.3251 - val_acc: 0.6464\n",
      "Epoch 10/100\n",
      "2798/2798 [==============================] - 0s 70us/step - loss: 0.3436 - acc: 0.6433 - val_loss: 0.3239 - val_acc: 0.6536\n",
      "Epoch 11/100\n",
      "2798/2798 [==============================] - 0s 68us/step - loss: 0.3434 - acc: 0.6408 - val_loss: 0.3243 - val_acc: 0.6500\n",
      "Epoch 12/100\n",
      "2798/2798 [==============================] - 0s 69us/step - loss: 0.3384 - acc: 0.6383 - val_loss: 0.3237 - val_acc: 0.6500\n",
      "Epoch 13/100\n",
      "2798/2798 [==============================] - 0s 69us/step - loss: 0.3378 - acc: 0.6458 - val_loss: 0.3238 - val_acc: 0.6536\n",
      "Epoch 14/100\n",
      "2798/2798 [==============================] - 0s 74us/step - loss: 0.3372 - acc: 0.6487 - val_loss: 0.3242 - val_acc: 0.6500\n",
      "Epoch 15/100\n",
      "2798/2798 [==============================] - 0s 67us/step - loss: 0.3368 - acc: 0.6433 - val_loss: 0.3242 - val_acc: 0.6500\n",
      "Epoch 16/100\n",
      "2798/2798 [==============================] - 0s 71us/step - loss: 0.3354 - acc: 0.6594 - val_loss: 0.3247 - val_acc: 0.6429\n",
      "Epoch 17/100\n",
      "2798/2798 [==============================] - 0s 77us/step - loss: 0.3341 - acc: 0.6562 - val_loss: 0.3240 - val_acc: 0.6536\n",
      "Epoch 18/100\n",
      "2798/2798 [==============================] - 0s 81us/step - loss: 0.3339 - acc: 0.6505 - val_loss: 0.3235 - val_acc: 0.6464\n",
      "Epoch 19/100\n",
      "2798/2798 [==============================] - 0s 86us/step - loss: 0.3341 - acc: 0.6526 - val_loss: 0.3235 - val_acc: 0.6536\n",
      "Epoch 20/100\n",
      "2798/2798 [==============================] - 0s 86us/step - loss: 0.3334 - acc: 0.6565 - val_loss: 0.3222 - val_acc: 0.6536\n",
      "Epoch 21/100\n",
      "2798/2798 [==============================] - 0s 82us/step - loss: 0.3338 - acc: 0.6612 - val_loss: 0.3230 - val_acc: 0.6536\n",
      "Epoch 22/100\n",
      "2798/2798 [==============================] - 0s 85us/step - loss: 0.3331 - acc: 0.6558 - val_loss: 0.3220 - val_acc: 0.6500\n",
      "Epoch 23/100\n",
      "2798/2798 [==============================] - 0s 88us/step - loss: 0.3318 - acc: 0.6573 - val_loss: 0.3222 - val_acc: 0.6429\n",
      "Epoch 24/100\n",
      "2798/2798 [==============================] - 0s 83us/step - loss: 0.3323 - acc: 0.6558 - val_loss: 0.3217 - val_acc: 0.6357\n",
      "Epoch 25/100\n",
      "2798/2798 [==============================] - 0s 82us/step - loss: 0.3332 - acc: 0.6537 - val_loss: 0.3227 - val_acc: 0.6250\n",
      "Epoch 26/100\n",
      "2798/2798 [==============================] - 0s 83us/step - loss: 0.3316 - acc: 0.6480 - val_loss: 0.3223 - val_acc: 0.6536\n",
      "Epoch 27/100\n",
      "2798/2798 [==============================] - 0s 86us/step - loss: 0.3317 - acc: 0.6530 - val_loss: 0.3222 - val_acc: 0.6500\n",
      "Epoch 28/100\n",
      "2798/2798 [==============================] - 0s 88us/step - loss: 0.3309 - acc: 0.6587 - val_loss: 0.3217 - val_acc: 0.6429\n",
      "Epoch 29/100\n",
      "2798/2798 [==============================] - 0s 84us/step - loss: 0.3297 - acc: 0.6619 - val_loss: 0.3214 - val_acc: 0.6393\n",
      "Epoch 30/100\n",
      "2798/2798 [==============================] - 0s 82us/step - loss: 0.3306 - acc: 0.6537 - val_loss: 0.3212 - val_acc: 0.6500\n",
      "Epoch 31/100\n",
      "2798/2798 [==============================] - 0s 81us/step - loss: 0.3319 - acc: 0.6601 - val_loss: 0.3214 - val_acc: 0.6464\n",
      "Epoch 32/100\n",
      "2798/2798 [==============================] - 0s 84us/step - loss: 0.3318 - acc: 0.6565 - val_loss: 0.3214 - val_acc: 0.6464\n",
      "Epoch 33/100\n",
      "2798/2798 [==============================] - 0s 84us/step - loss: 0.3305 - acc: 0.6615 - val_loss: 0.3207 - val_acc: 0.6536\n",
      "Epoch 34/100\n",
      "2798/2798 [==============================] - 0s 88us/step - loss: 0.3303 - acc: 0.6526 - val_loss: 0.3209 - val_acc: 0.6571\n",
      "Epoch 35/100\n",
      "2798/2798 [==============================] - 0s 71us/step - loss: 0.3313 - acc: 0.6551 - val_loss: 0.3197 - val_acc: 0.6500\n",
      "Epoch 36/100\n",
      "2798/2798 [==============================] - 0s 74us/step - loss: 0.3279 - acc: 0.6623 - val_loss: 0.3205 - val_acc: 0.6429\n",
      "Epoch 37/100\n",
      "2798/2798 [==============================] - 0s 71us/step - loss: 0.3304 - acc: 0.6540 - val_loss: 0.3205 - val_acc: 0.6536\n",
      "Epoch 38/100\n",
      "2798/2798 [==============================] - 0s 71us/step - loss: 0.3287 - acc: 0.6594 - val_loss: 0.3196 - val_acc: 0.6464\n",
      "Epoch 39/100\n",
      "2798/2798 [==============================] - 0s 79us/step - loss: 0.3299 - acc: 0.6665 - val_loss: 0.3198 - val_acc: 0.6393\n",
      "Epoch 40/100\n",
      "2798/2798 [==============================] - 0s 67us/step - loss: 0.3292 - acc: 0.6669 - val_loss: 0.3207 - val_acc: 0.6393\n",
      "Epoch 41/100\n",
      "2798/2798 [==============================] - 0s 70us/step - loss: 0.3311 - acc: 0.6594 - val_loss: 0.3191 - val_acc: 0.6464\n",
      "Epoch 42/100\n",
      "2798/2798 [==============================] - 0s 72us/step - loss: 0.3284 - acc: 0.6576 - val_loss: 0.3182 - val_acc: 0.6500\n",
      "Epoch 43/100\n",
      "2798/2798 [==============================] - 0s 73us/step - loss: 0.3302 - acc: 0.6619 - val_loss: 0.3185 - val_acc: 0.6500\n",
      "Epoch 44/100\n",
      "2798/2798 [==============================] - 0s 69us/step - loss: 0.3282 - acc: 0.6665 - val_loss: 0.3187 - val_acc: 0.6536\n",
      "Epoch 45/100\n",
      "2798/2798 [==============================] - 0s 70us/step - loss: 0.3259 - acc: 0.6698 - val_loss: 0.3186 - val_acc: 0.6571\n",
      "Epoch 46/100\n",
      "2798/2798 [==============================] - 0s 72us/step - loss: 0.3284 - acc: 0.6562 - val_loss: 0.3172 - val_acc: 0.6571\n",
      "Epoch 47/100\n",
      "2798/2798 [==============================] - 0s 71us/step - loss: 0.3264 - acc: 0.6562 - val_loss: 0.3179 - val_acc: 0.6536\n",
      "Epoch 48/100\n",
      "2798/2798 [==============================] - 0s 72us/step - loss: 0.3280 - acc: 0.6651 - val_loss: 0.3185 - val_acc: 0.6500\n",
      "Epoch 49/100\n",
      "2798/2798 [==============================] - 0s 74us/step - loss: 0.3275 - acc: 0.6626 - val_loss: 0.3173 - val_acc: 0.6714\n",
      "Epoch 50/100\n",
      "2798/2798 [==============================] - 0s 79us/step - loss: 0.3282 - acc: 0.6608 - val_loss: 0.3178 - val_acc: 0.6571\n",
      "Epoch 51/100\n",
      "2798/2798 [==============================] - 0s 82us/step - loss: 0.3274 - acc: 0.6601 - val_loss: 0.3195 - val_acc: 0.6500\n",
      "Epoch 52/100\n",
      "2798/2798 [==============================] - 0s 86us/step - loss: 0.3298 - acc: 0.6587 - val_loss: 0.3190 - val_acc: 0.6607\n",
      "Epoch 53/100\n",
      "2798/2798 [==============================] - 0s 85us/step - loss: 0.3291 - acc: 0.6619 - val_loss: 0.3201 - val_acc: 0.6536\n",
      "Epoch 54/100\n",
      "2798/2798 [==============================] - 0s 82us/step - loss: 0.3252 - acc: 0.6676 - val_loss: 0.3170 - val_acc: 0.6536\n",
      "Epoch 55/100\n",
      "2798/2798 [==============================] - 0s 82us/step - loss: 0.3301 - acc: 0.6626 - val_loss: 0.3164 - val_acc: 0.6643\n",
      "Epoch 56/100\n",
      "2798/2798 [==============================] - 0s 84us/step - loss: 0.3290 - acc: 0.6608 - val_loss: 0.3171 - val_acc: 0.6536\n",
      "Epoch 57/100\n",
      "2798/2798 [==============================] - 0s 83us/step - loss: 0.3273 - acc: 0.6619 - val_loss: 0.3178 - val_acc: 0.6536\n",
      "Epoch 58/100\n",
      "2798/2798 [==============================] - 0s 86us/step - loss: 0.3283 - acc: 0.6637 - val_loss: 0.3179 - val_acc: 0.6571\n",
      "Epoch 59/100\n",
      "2798/2798 [==============================] - 0s 84us/step - loss: 0.3270 - acc: 0.6755 - val_loss: 0.3177 - val_acc: 0.6679\n",
      "Epoch 60/100\n",
      "2798/2798 [==============================] - 0s 82us/step - loss: 0.3248 - acc: 0.6680 - val_loss: 0.3167 - val_acc: 0.6607\n",
      "Epoch 61/100\n",
      "2798/2798 [==============================] - 0s 82us/step - loss: 0.3282 - acc: 0.6708 - val_loss: 0.3163 - val_acc: 0.6643\n",
      "Epoch 62/100\n",
      "2798/2798 [==============================] - 0s 83us/step - loss: 0.3281 - acc: 0.6680 - val_loss: 0.3160 - val_acc: 0.6464\n",
      "Epoch 63/100\n",
      "2798/2798 [==============================] - 0s 74us/step - loss: 0.3271 - acc: 0.6669 - val_loss: 0.3167 - val_acc: 0.6536\n",
      "Epoch 64/100\n",
      "2798/2798 [==============================] - 0s 64us/step - loss: 0.3257 - acc: 0.6644 - val_loss: 0.3154 - val_acc: 0.6464\n",
      "Epoch 65/100\n",
      "2798/2798 [==============================] - 0s 67us/step - loss: 0.3251 - acc: 0.6669 - val_loss: 0.3150 - val_acc: 0.6607\n",
      "Epoch 66/100\n",
      "2798/2798 [==============================] - 0s 66us/step - loss: 0.3265 - acc: 0.6590 - val_loss: 0.3174 - val_acc: 0.6679\n",
      "Epoch 67/100\n",
      "2798/2798 [==============================] - 0s 66us/step - loss: 0.3289 - acc: 0.6565 - val_loss: 0.3168 - val_acc: 0.6464\n",
      "Epoch 68/100\n",
      "2798/2798 [==============================] - 0s 66us/step - loss: 0.3283 - acc: 0.6626 - val_loss: 0.3175 - val_acc: 0.6500\n",
      "Epoch 69/100\n",
      "2798/2798 [==============================] - 0s 73us/step - loss: 0.3238 - acc: 0.6676 - val_loss: 0.3165 - val_acc: 0.6536\n",
      "Epoch 70/100\n",
      "2798/2798 [==============================] - 0s 64us/step - loss: 0.3240 - acc: 0.6630 - val_loss: 0.3156 - val_acc: 0.6464\n",
      "Epoch 71/100\n",
      "2798/2798 [==============================] - 0s 65us/step - loss: 0.3255 - acc: 0.6594 - val_loss: 0.3155 - val_acc: 0.6571\n",
      "Epoch 72/100\n",
      "2798/2798 [==============================] - 0s 67us/step - loss: 0.3243 - acc: 0.6662 - val_loss: 0.3157 - val_acc: 0.6536\n",
      "Epoch 73/100\n",
      "2798/2798 [==============================] - 0s 65us/step - loss: 0.3259 - acc: 0.6694 - val_loss: 0.3170 - val_acc: 0.6571\n",
      "Epoch 74/100\n",
      "2798/2798 [==============================] - 0s 66us/step - loss: 0.3276 - acc: 0.6737 - val_loss: 0.3140 - val_acc: 0.6607\n",
      "Epoch 75/100\n",
      "2798/2798 [==============================] - 0s 70us/step - loss: 0.3241 - acc: 0.6665 - val_loss: 0.3157 - val_acc: 0.6500\n",
      "Epoch 76/100\n",
      "2798/2798 [==============================] - 0s 67us/step - loss: 0.3252 - acc: 0.6601 - val_loss: 0.3178 - val_acc: 0.6464\n",
      "Epoch 77/100\n",
      "2798/2798 [==============================] - 0s 66us/step - loss: 0.3244 - acc: 0.6698 - val_loss: 0.3148 - val_acc: 0.6536\n",
      "Epoch 78/100\n",
      "2798/2798 [==============================] - 0s 67us/step - loss: 0.3249 - acc: 0.6651 - val_loss: 0.3147 - val_acc: 0.6571\n",
      "Epoch 79/100\n",
      "2798/2798 [==============================] - 0s 67us/step - loss: 0.3233 - acc: 0.6669 - val_loss: 0.3132 - val_acc: 0.6464\n",
      "Epoch 80/100\n",
      "2798/2798 [==============================] - 0s 67us/step - loss: 0.3229 - acc: 0.6716 - val_loss: 0.3151 - val_acc: 0.6500\n",
      "Epoch 81/100\n",
      "2798/2798 [==============================] - 0s 69us/step - loss: 0.3260 - acc: 0.6608 - val_loss: 0.3153 - val_acc: 0.6571\n",
      "Epoch 82/100\n",
      "2798/2798 [==============================] - 0s 67us/step - loss: 0.3245 - acc: 0.6726 - val_loss: 0.3140 - val_acc: 0.6500\n",
      "Epoch 83/100\n",
      "2798/2798 [==============================] - 0s 67us/step - loss: 0.3228 - acc: 0.6716 - val_loss: 0.3144 - val_acc: 0.6571\n",
      "Epoch 84/100\n",
      "2798/2798 [==============================] - 0s 68us/step - loss: 0.3247 - acc: 0.6573 - val_loss: 0.3152 - val_acc: 0.6536\n",
      "Epoch 85/100\n",
      "2798/2798 [==============================] - 0s 65us/step - loss: 0.3237 - acc: 0.6751 - val_loss: 0.3155 - val_acc: 0.6607\n",
      "Epoch 86/100\n",
      "2798/2798 [==============================] - 0s 69us/step - loss: 0.3230 - acc: 0.6698 - val_loss: 0.3153 - val_acc: 0.6571\n",
      "Epoch 87/100\n",
      "2798/2798 [==============================] - 0s 68us/step - loss: 0.3233 - acc: 0.6716 - val_loss: 0.3155 - val_acc: 0.6571\n",
      "Epoch 88/100\n",
      "2798/2798 [==============================] - 0s 69us/step - loss: 0.3240 - acc: 0.6619 - val_loss: 0.3137 - val_acc: 0.6500\n",
      "Epoch 89/100\n",
      "2798/2798 [==============================] - 0s 61us/step - loss: 0.3253 - acc: 0.6705 - val_loss: 0.3155 - val_acc: 0.6464\n",
      "Epoch 90/100\n",
      "2798/2798 [==============================] - 0s 75us/step - loss: 0.3250 - acc: 0.6683 - val_loss: 0.3156 - val_acc: 0.6679\n",
      "Epoch 91/100\n",
      "2798/2798 [==============================] - 0s 68us/step - loss: 0.3248 - acc: 0.6694 - val_loss: 0.3150 - val_acc: 0.6571\n",
      "Epoch 92/100\n",
      "2798/2798 [==============================] - 0s 70us/step - loss: 0.3240 - acc: 0.6683 - val_loss: 0.3160 - val_acc: 0.6607\n",
      "Epoch 93/100\n",
      "2798/2798 [==============================] - 0s 67us/step - loss: 0.3235 - acc: 0.6673 - val_loss: 0.3140 - val_acc: 0.6607\n",
      "Epoch 94/100\n",
      "2798/2798 [==============================] - 0s 68us/step - loss: 0.3225 - acc: 0.6705 - val_loss: 0.3141 - val_acc: 0.6500\n",
      "Epoch 95/100\n",
      "2798/2798 [==============================] - 0s 67us/step - loss: 0.3258 - acc: 0.6687 - val_loss: 0.3129 - val_acc: 0.6500\n",
      "Epoch 96/100\n",
      "2798/2798 [==============================] - 0s 67us/step - loss: 0.3226 - acc: 0.6705 - val_loss: 0.3141 - val_acc: 0.6607\n",
      "Epoch 97/100\n",
      "2798/2798 [==============================] - 0s 67us/step - loss: 0.3233 - acc: 0.6644 - val_loss: 0.3165 - val_acc: 0.6679\n",
      "Epoch 98/100\n",
      "2798/2798 [==============================] - 0s 69us/step - loss: 0.3214 - acc: 0.6719 - val_loss: 0.3135 - val_acc: 0.6679\n",
      "Epoch 99/100\n",
      "2798/2798 [==============================] - 0s 72us/step - loss: 0.3235 - acc: 0.6690 - val_loss: 0.3125 - val_acc: 0.6607\n",
      "Epoch 100/100\n",
      "2798/2798 [==============================] - 0s 63us/step - loss: 0.3222 - acc: 0.6766 - val_loss: 0.3134 - val_acc: 0.6714\n"
     ]
    }
   ],
   "source": [
    "history = model.fit(X_train, y_train, epochs=100, validation_data=(X_test, y_test))"
   ]
  },
  {
   "cell_type": "code",
   "execution_count": 49,
   "metadata": {},
   "outputs": [
    {
     "name": "stdout",
     "output_type": "stream",
     "text": [
      "Train Dataset:\n",
      " RPS: 0.2659, Accuracy: 0.7216\n",
      "--------------------------------------------\n",
      "Test Dataset:\n",
      " RPS: 0.3213, Accuracy: 0.6786\n",
      "--------------------------------------------\n"
     ]
    }
   ],
   "source": [
    "print(f\"Train Dataset:\\n RPS: {np.round(model.evaluate(X_train, y_train, verbose=0)[0],4)}, Accuracy: {np.round(model.evaluate(X_train, y_train, verbose=0)[1],4)}\")\n",
    "print(\"--------------------------------------------\")\n",
    "print(f\"Test Dataset:\\n RPS: {np.round(model.evaluate(X_test, y_test, verbose=0)[0],4)}, Accuracy: {np.round(model.evaluate(X_test, y_test, verbose=0)[1],4)}\")\n",
    "print(\"--------------------------------------------\")"
   ]
  },
  {
   "cell_type": "code",
   "execution_count": 50,
   "metadata": {},
   "outputs": [
    {
     "data": {
      "image/png": "[encoded data removed]",
      "text/plain": [
       "<Figure size 864x360 with 2 Axes>"
      ]
     },
     "metadata": {},
     "output_type": "display_data"
    }
   ],
   "source": [
    "plot_history(history)"
   ]
  },
  {
   "cell_type": "code",
   "execution_count": 1982,
   "metadata": {},
   "outputs": [
    {
     "name": "stderr",
     "output_type": "stream",
     "text": [
      "C:\\Users\\Konny\\Anaconda3\\lib\\site-packages\\ipykernel\\__main__.py:8: SettingWithCopyWarning: \n",
      "A value is trying to be set on a copy of a slice from a DataFrame.\n",
      "Try using .loc[row_indexer,col_indexer] = value instead\n",
      "\n",
      "See the caveats in the documentation: http://pandas.pydata.org/pandas-docs/stable/indexing.html#indexing-view-versus-copy\n",
      "C:\\Users\\Konny\\Anaconda3\\lib\\site-packages\\ipykernel\\__main__.py:9: SettingWithCopyWarning: \n",
      "A value is trying to be set on a copy of a slice from a DataFrame.\n",
      "Try using .loc[row_indexer,col_indexer] = value instead\n",
      "\n",
      "See the caveats in the documentation: http://pandas.pydata.org/pandas-docs/stable/indexing.html#indexing-view-versus-copy\n",
      "C:\\Users\\Konny\\Anaconda3\\lib\\site-packages\\ipykernel\\__main__.py:10: SettingWithCopyWarning: \n",
      "A value is trying to be set on a copy of a slice from a DataFrame.\n",
      "Try using .loc[row_indexer,col_indexer] = value instead\n",
      "\n",
      "See the caveats in the documentation: http://pandas.pydata.org/pandas-docs/stable/indexing.html#indexing-view-versus-copy\n",
      "C:\\Users\\Konny\\Anaconda3\\lib\\site-packages\\ipykernel\\__main__.py:11: SettingWithCopyWarning: \n",
      "A value is trying to be set on a copy of a slice from a DataFrame.\n",
      "Try using .loc[row_indexer,col_indexer] = value instead\n",
      "\n",
      "See the caveats in the documentation: http://pandas.pydata.org/pandas-docs/stable/indexing.html#indexing-view-versus-copy\n",
      "C:\\Users\\Konny\\Anaconda3\\lib\\site-packages\\ipykernel\\__main__.py:13: SettingWithCopyWarning: \n",
      "A value is trying to be set on a copy of a slice from a DataFrame.\n",
      "Try using .loc[row_indexer,col_indexer] = value instead\n",
      "\n",
      "See the caveats in the documentation: http://pandas.pydata.org/pandas-docs/stable/indexing.html#indexing-view-versus-copy\n",
      "C:\\Users\\Konny\\Anaconda3\\lib\\site-packages\\ipykernel\\__main__.py:14: SettingWithCopyWarning: \n",
      "A value is trying to be set on a copy of a slice from a DataFrame.\n",
      "Try using .loc[row_indexer,col_indexer] = value instead\n",
      "\n",
      "See the caveats in the documentation: http://pandas.pydata.org/pandas-docs/stable/indexing.html#indexing-view-versus-copy\n",
      "C:\\Users\\Konny\\Anaconda3\\lib\\site-packages\\ipykernel\\__main__.py:15: SettingWithCopyWarning: \n",
      "A value is trying to be set on a copy of a slice from a DataFrame.\n",
      "Try using .loc[row_indexer,col_indexer] = value instead\n",
      "\n",
      "See the caveats in the documentation: http://pandas.pydata.org/pandas-docs/stable/indexing.html#indexing-view-versus-copy\n",
      "C:\\Users\\Konny\\Anaconda3\\lib\\site-packages\\ipykernel\\__main__.py:16: SettingWithCopyWarning: \n",
      "A value is trying to be set on a copy of a slice from a DataFrame.\n",
      "Try using .loc[row_indexer,col_indexer] = value instead\n",
      "\n",
      "See the caveats in the documentation: http://pandas.pydata.org/pandas-docs/stable/indexing.html#indexing-view-versus-copy\n"
     ]
    }
   ],
   "source": [
    "y_pred = model.predict(X_test)\n",
    "\n",
    "y_pred = scaler_goals.inverse_transform(y_pred)\n",
    "\n",
    "test_df = data2.iloc[data[data[\"season\"] == year].index]\n",
    "test_df.reset_index(drop=True, inplace=True)\n",
    "\n",
    "test_df[\"H_xgb_xG\"] = xgb_home\n",
    "test_df[\"A_xgb_xG\"] = xgb_away\n",
    "test_df[\"XGB_hc\"] = test_df[\"A_xgb_xG\"] - test_df[\"H_xgb_xG\"]\n",
    "test_df[\"Hc_Diff_xgb\"] = test_df[\"BbAHh\"] - test_df[\"XGB_hc\"]\n",
    "\n",
    "test_df[\"H_svr_xG\"] = svr_home\n",
    "test_df[\"A_svr_xG\"] = svr_away\n",
    "test_df[\"SVR_hc\"] = test_df[\"A_svr_xG\"] - test_df[\"H_svr_xG\"]\n",
    "test_df[\"Hc_Diff_svr\"] = test_df[\"BbAHh\"] - test_df[\"SVR_hc\"]\n",
    "\n",
    "ann_pred2 = pd.DataFrame(y_pred, columns = [\"H_ann_xG\", \"A_ann_xG\"])\n",
    "test_df2 = pd.concat([test_df, ann_pred2], axis=1)\n",
    "test_df2[\"ANN_hc\"] = test_df2[\"A_ann_xG\"] - test_df2[\"H_ann_xG\"]\n",
    "test_df2[\"Hc_Diff_ann\"] = test_df2[\"BbAHh\"] - test_df2[\"ANN_hc\"]"
   ]
  },
  {
   "cell_type": "code",
   "execution_count": 1983,
   "metadata": {},
   "outputs": [
    {
     "data": {
      "text/plain": [
       "count    60.000000\n",
       "mean      0.070167\n",
       "std       0.865251\n",
       "min      -1.000000\n",
       "25%      -1.000000\n",
       "50%       0.230000\n",
       "75%       0.870000\n",
       "max       1.180000\n",
       "Name: H_Ahc_PL, dtype: float64"
      ]
     },
     "execution_count": 1983,
     "metadata": {},
     "output_type": "execute_result"
    }
   ],
   "source": [
    "difference = 0.2\n",
    "\n",
    "test_df2[(test_df2[\"Hc_Diff_ann\"] > difference) & (test_df2[\"BbAvAHH\"] > 1.8)].H_Ahc_PL.describe()"
   ]
  },
  {
   "cell_type": "code",
   "execution_count": 1984,
   "metadata": {},
   "outputs": [
    {
     "data": {
      "text/plain": [
       "count    45.000000\n",
       "mean      0.220889\n",
       "std       0.858213\n",
       "min      -1.000000\n",
       "25%      -1.000000\n",
       "50%       0.810000\n",
       "75%       0.950000\n",
       "max       1.070000\n",
       "Name: A_Ahc_PL, dtype: float64"
      ]
     },
     "execution_count": 1984,
     "metadata": {},
     "output_type": "execute_result"
    }
   ],
   "source": [
    "test_df2[(test_df2[\"Hc_Diff_ann\"] < -difference) & (test_df2[\"BbAvAHA\"] > 1.8)].A_Ahc_PL.describe()"
   ]
  },
  {
   "cell_type": "code",
   "execution_count": 1985,
   "metadata": {},
   "outputs": [],
   "source": [
    "test_df2[\"Hc_Diff_avg\"] = (test_df2[\"Hc_Diff_ann\"] + test_df2[\"Hc_Diff_xgb\"] + test_df2[\"Hc_Diff_svr\"]) / 3"
   ]
  },
  {
   "cell_type": "code",
   "execution_count": 1986,
   "metadata": {},
   "outputs": [
    {
     "data": {
      "text/html": [
       "<div>\n",
       "<style scoped>\n",
       "    .dataframe tbody tr th:only-of-type {\n",
       "        vertical-align: middle;\n",
       "    }\n",
       "\n",
       "    .dataframe tbody tr th {\n",
       "        vertical-align: top;\n",
       "    }\n",
       "\n",
       "    .dataframe thead th {\n",
       "        text-align: right;\n",
       "    }\n",
       "</style>\n",
       "<table border=\"1\" class=\"dataframe\">\n",
       "  <thead>\n",
       "    <tr style=\"text-align: right;\">\n",
       "      <th></th>\n",
       "      <th>HomeTeam</th>\n",
       "      <th>AwayTeam</th>\n",
       "      <th>Hc_Diff_ann</th>\n",
       "      <th>Hc_Diff_xgb</th>\n",
       "      <th>Hc_Diff_svr</th>\n",
       "      <th>Hc_Diff_avg</th>\n",
       "    </tr>\n",
       "  </thead>\n",
       "  <tbody>\n",
       "    <tr>\n",
       "      <th>211</th>\n",
       "      <td>Hoffenheim</td>\n",
       "      <td>Schalke 04</td>\n",
       "      <td>-0.466325</td>\n",
       "      <td>-0.118009</td>\n",
       "      <td>0.221919</td>\n",
       "      <td>-0.120805</td>\n",
       "    </tr>\n",
       "    <tr>\n",
       "      <th>212</th>\n",
       "      <td>Leverkusen</td>\n",
       "      <td>Ingolstadt</td>\n",
       "      <td>-0.003091</td>\n",
       "      <td>-0.149079</td>\n",
       "      <td>-0.354454</td>\n",
       "      <td>-0.168875</td>\n",
       "    </tr>\n",
       "    <tr>\n",
       "      <th>213</th>\n",
       "      <td>Mainz</td>\n",
       "      <td>Hertha</td>\n",
       "      <td>-0.046845</td>\n",
       "      <td>0.178083</td>\n",
       "      <td>-0.100892</td>\n",
       "      <td>0.010115</td>\n",
       "    </tr>\n",
       "    <tr>\n",
       "      <th>214</th>\n",
       "      <td>Werder Bremen</td>\n",
       "      <td>Ein Frankfurt</td>\n",
       "      <td>0.198309</td>\n",
       "      <td>0.391057</td>\n",
       "      <td>-0.069176</td>\n",
       "      <td>0.173397</td>\n",
       "    </tr>\n",
       "    <tr>\n",
       "      <th>215</th>\n",
       "      <td>Wolfsburg</td>\n",
       "      <td>Stuttgart</td>\n",
       "      <td>0.551735</td>\n",
       "      <td>0.532011</td>\n",
       "      <td>0.205043</td>\n",
       "      <td>0.429596</td>\n",
       "    </tr>\n",
       "  </tbody>\n",
       "</table>\n",
       "</div>"
      ],
      "text/plain": [
       "          HomeTeam       AwayTeam  Hc_Diff_ann  Hc_Diff_xgb  Hc_Diff_svr  \\\n",
       "211     Hoffenheim     Schalke 04    -0.466325    -0.118009     0.221919   \n",
       "212     Leverkusen     Ingolstadt    -0.003091    -0.149079    -0.354454   \n",
       "213          Mainz         Hertha    -0.046845     0.178083    -0.100892   \n",
       "214  Werder Bremen  Ein Frankfurt     0.198309     0.391057    -0.069176   \n",
       "215      Wolfsburg      Stuttgart     0.551735     0.532011     0.205043   \n",
       "\n",
       "     Hc_Diff_avg  \n",
       "211    -0.120805  \n",
       "212    -0.168875  \n",
       "213     0.010115  \n",
       "214     0.173397  \n",
       "215     0.429596  "
      ]
     },
     "execution_count": 1986,
     "metadata": {},
     "output_type": "execute_result"
    }
   ],
   "source": [
    "test_df2[[\"HomeTeam\", \"AwayTeam\", \"Hc_Diff_ann\", \"Hc_Diff_xgb\", \"Hc_Diff_svr\", \"Hc_Diff_avg\"]].tail()"
   ]
  },
  {
   "cell_type": "code",
   "execution_count": 1987,
   "metadata": {},
   "outputs": [
    {
     "data": {
      "text/plain": [
       "count    57.000000\n",
       "mean      0.178158\n",
       "std       0.869181\n",
       "min      -1.000000\n",
       "25%      -1.000000\n",
       "50%       0.810000\n",
       "75%       0.890000\n",
       "max       1.180000\n",
       "Name: H_Ahc_PL, dtype: float64"
      ]
     },
     "execution_count": 1987,
     "metadata": {},
     "output_type": "execute_result"
    }
   ],
   "source": [
    "difference = 0.15\n",
    "\n",
    "test_df2[(test_df2[\"Hc_Diff_avg\"] > difference) & (test_df2[\"BbAvAHH\"] > 1.8)].H_Ahc_PL.describe()"
   ]
  },
  {
   "cell_type": "code",
   "execution_count": 1988,
   "metadata": {},
   "outputs": [
    {
     "data": {
      "text/plain": [
       "count    39.000000\n",
       "mean      0.229744\n",
       "std       0.857784\n",
       "min      -1.000000\n",
       "25%      -1.000000\n",
       "50%       0.820000\n",
       "75%       0.930000\n",
       "max       1.070000\n",
       "Name: A_Ahc_PL, dtype: float64"
      ]
     },
     "execution_count": 1988,
     "metadata": {},
     "output_type": "execute_result"
    }
   ],
   "source": [
    "test_df2[(test_df2[\"Hc_Diff_avg\"] < -difference) & (test_df2[\"BbAvAHA\"] > 1.8)].A_Ahc_PL.describe()"
   ]
  },
  {
   "cell_type": "code",
   "execution_count": 1989,
   "metadata": {},
   "outputs": [],
   "source": [
    "test_df2[\"xg_cum\"] = (test_df2[\"H_ann_xG\"] + test_df2[\"A_ann_xG\"] + test_df2['H_svr_xG'] + test_df2['A_svr_xG'] + test_df2['H_xgb_xG'] + test_df2['A_xgb_xG']) / 3"
   ]
  },
  {
   "cell_type": "code",
   "execution_count": 1990,
   "metadata": {},
   "outputs": [],
   "source": [
    "test_df2[\"xg_ann_cum\"] = test_df2[\"H_ann_xG\"] + test_df2[\"A_ann_xG\"]"
   ]
  },
  {
   "cell_type": "code",
   "execution_count": 1991,
   "metadata": {},
   "outputs": [
    {
     "data": {
      "text/plain": [
       "count    26.000000\n",
       "mean     -0.086923\n",
       "std       1.006848\n",
       "min      -1.000000\n",
       "25%      -1.000000\n",
       "50%      -1.000000\n",
       "75%       0.957500\n",
       "max       1.170000\n",
       "Name: Over_PL, dtype: float64"
      ]
     },
     "execution_count": 1991,
     "metadata": {},
     "output_type": "execute_result"
    }
   ],
   "source": [
    "test_df2[(test_df2[\"xg_cum\"]>2.5) & (test_df2[\"Over_prob_odds\"] < 0.5)].Over_PL.describe()"
   ]
  },
  {
   "cell_type": "code",
   "execution_count": 1992,
   "metadata": {},
   "outputs": [
    {
     "data": {
      "text/plain": [
       "count    24.000000\n",
       "mean      0.101250\n",
       "std       1.152111\n",
       "min      -1.000000\n",
       "25%      -1.000000\n",
       "50%      -0.045000\n",
       "75%       1.062500\n",
       "max       2.230000\n",
       "Name: Under_PL, dtype: float64"
      ]
     },
     "execution_count": 1992,
     "metadata": {},
     "output_type": "execute_result"
    }
   ],
   "source": [
    "test_df2[(test_df2[\"xg_cum\"]<2.5) & (test_df2[\"Under_prob_odds\"] < 0.5)].Under_PL.describe()"
   ]
  },
  {
   "cell_type": "code",
   "execution_count": 1993,
   "metadata": {},
   "outputs": [
    {
     "data": {
      "text/html": [
       "<div>\n",
       "<style scoped>\n",
       "    .dataframe tbody tr th:only-of-type {\n",
       "        vertical-align: middle;\n",
       "    }\n",
       "\n",
       "    .dataframe tbody tr th {\n",
       "        vertical-align: top;\n",
       "    }\n",
       "\n",
       "    .dataframe thead th {\n",
       "        text-align: right;\n",
       "    }\n",
       "</style>\n",
       "<table border=\"1\" class=\"dataframe\">\n",
       "  <thead>\n",
       "    <tr style=\"text-align: right;\">\n",
       "      <th></th>\n",
       "      <th>Date</th>\n",
       "      <th>HomeTeam</th>\n",
       "      <th>AwayTeam</th>\n",
       "      <th>BbAv&gt;2.5</th>\n",
       "      <th>BbAv&lt;2.5</th>\n",
       "    </tr>\n",
       "  </thead>\n",
       "  <tbody>\n",
       "    <tr>\n",
       "      <th>163</th>\n",
       "      <td>09/04/16</td>\n",
       "      <td>Ein Frankfurt</td>\n",
       "      <td>Hoffenheim</td>\n",
       "      <td>1.74</td>\n",
       "      <td>2.07</td>\n",
       "    </tr>\n",
       "    <tr>\n",
       "      <th>168</th>\n",
       "      <td>09/04/16</td>\n",
       "      <td>Wolfsburg</td>\n",
       "      <td>Mainz</td>\n",
       "      <td>1.78</td>\n",
       "      <td>2.02</td>\n",
       "    </tr>\n",
       "    <tr>\n",
       "      <th>180</th>\n",
       "      <td>22/04/16</td>\n",
       "      <td>Hamburg</td>\n",
       "      <td>Werder Bremen</td>\n",
       "      <td>1.72</td>\n",
       "      <td>2.11</td>\n",
       "    </tr>\n",
       "    <tr>\n",
       "      <th>186</th>\n",
       "      <td>23/04/16</td>\n",
       "      <td>Wolfsburg</td>\n",
       "      <td>Augsburg</td>\n",
       "      <td>1.64</td>\n",
       "      <td>2.23</td>\n",
       "    </tr>\n",
       "    <tr>\n",
       "      <th>189</th>\n",
       "      <td>29/04/16</td>\n",
       "      <td>Augsburg</td>\n",
       "      <td>FC Koln</td>\n",
       "      <td>1.87</td>\n",
       "      <td>1.91</td>\n",
       "    </tr>\n",
       "    <tr>\n",
       "      <th>196</th>\n",
       "      <td>30/04/16</td>\n",
       "      <td>Mainz</td>\n",
       "      <td>Hamburg</td>\n",
       "      <td>1.76</td>\n",
       "      <td>2.04</td>\n",
       "    </tr>\n",
       "    <tr>\n",
       "      <th>199</th>\n",
       "      <td>07/05/16</td>\n",
       "      <td>FC Koln</td>\n",
       "      <td>Werder Bremen</td>\n",
       "      <td>1.50</td>\n",
       "      <td>2.52</td>\n",
       "    </tr>\n",
       "    <tr>\n",
       "      <th>202</th>\n",
       "      <td>07/05/16</td>\n",
       "      <td>Hertha</td>\n",
       "      <td>Darmstadt</td>\n",
       "      <td>1.84</td>\n",
       "      <td>1.95</td>\n",
       "    </tr>\n",
       "    <tr>\n",
       "      <th>207</th>\n",
       "      <td>14/05/16</td>\n",
       "      <td>Augsburg</td>\n",
       "      <td>Hamburg</td>\n",
       "      <td>1.65</td>\n",
       "      <td>2.20</td>\n",
       "    </tr>\n",
       "    <tr>\n",
       "      <th>213</th>\n",
       "      <td>14/05/16</td>\n",
       "      <td>Mainz</td>\n",
       "      <td>Hertha</td>\n",
       "      <td>1.74</td>\n",
       "      <td>2.06</td>\n",
       "    </tr>\n",
       "  </tbody>\n",
       "</table>\n",
       "</div>"
      ],
      "text/plain": [
       "         Date       HomeTeam       AwayTeam  BbAv>2.5  BbAv<2.5\n",
       "163  09/04/16  Ein Frankfurt     Hoffenheim      1.74      2.07\n",
       "168  09/04/16      Wolfsburg          Mainz      1.78      2.02\n",
       "180  22/04/16        Hamburg  Werder Bremen      1.72      2.11\n",
       "186  23/04/16      Wolfsburg       Augsburg      1.64      2.23\n",
       "189  29/04/16       Augsburg        FC Koln      1.87      1.91\n",
       "196  30/04/16          Mainz        Hamburg      1.76      2.04\n",
       "199  07/05/16        FC Koln  Werder Bremen      1.50      2.52\n",
       "202  07/05/16         Hertha      Darmstadt      1.84      1.95\n",
       "207  14/05/16       Augsburg        Hamburg      1.65      2.20\n",
       "213  14/05/16          Mainz         Hertha      1.74      2.06"
      ]
     },
     "execution_count": 1993,
     "metadata": {},
     "output_type": "execute_result"
    }
   ],
   "source": [
    "test_df2[(test_df2[\"xg_cum\"]<2.5) & (test_df2[\"Under_prob_odds\"] < 0.5)][[\"Date\", \"HomeTeam\", \"AwayTeam\", \"BbAv>2.5\", \"BbAv<2.5\"]].tail(10)"
   ]
  },
  {
   "cell_type": "markdown",
   "metadata": {},
   "source": [
    "### Combination between Classification and Regression"
   ]
  },
  {
   "cell_type": "code",
   "execution_count": 1994,
   "metadata": {},
   "outputs": [],
   "source": [
    "test_df3 = pd.concat([test_df2, rdf_pred, xgb_pred, ann_pred], axis=1)\n",
    "test_df3[\"rps_Rdf\"] = rps(test_df3[\"H_pred_Rdf\"], test_df3[\"D_pred_Rdf\"], test_df3[\"A_pred_Rdf\"], test_df3[\"Home\"], test_df3[\"Draw\"], test_df3[\"Away\"])\n",
    "test_df3[\"rps_Xgb\"] = rps(test_df3[\"H_pred_Xgb\"], test_df3[\"D_pred_Xgb\"], test_df3[\"A_pred_Xgb\"], test_df3[\"Home\"], test_df3[\"Draw\"], test_df3[\"Away\"])\n",
    "test_df3[\"rps_ANN\"] = rps(test_df3[\"H_pred_Ann\"], test_df3[\"D_pred_Ann\"], test_df3[\"A_pred_Ann\"], test_df3[\"Home\"], test_df3[\"Draw\"], test_df3[\"Away\"])\n",
    "\n",
    "test_df3[\"H_pred_avg\"] = (test_df3[\"H_pred_Rdf\"] + test_df3[\"H_pred_Xgb\"] + test_df3[\"H_pred_Ann\"]) / 3\n",
    "test_df3[\"D_pred_avg\"] = (test_df3[\"D_pred_Rdf\"] + test_df3[\"D_pred_Xgb\"] + test_df3[\"D_pred_Ann\"]) / 3\n",
    "test_df3[\"A_pred_avg\"] = (test_df3[\"A_pred_Rdf\"] + test_df3[\"A_pred_Xgb\"] + test_df3[\"A_pred_Ann\"]) / 3\n",
    "test_df3[\"rps_avg\"] = rps(test_df3[\"H_pred_avg\"], test_df3[\"D_pred_avg\"], test_df3[\"A_pred_avg\"], test_df3[\"Home\"], test_df3[\"Draw\"], test_df3[\"Away\"])"
   ]
  },
  {
   "cell_type": "code",
   "execution_count": 1995,
   "metadata": {},
   "outputs": [
    {
     "data": {
      "text/plain": [
       "count    52.000000\n",
       "mean      0.044712\n",
       "std       0.896159\n",
       "min      -1.000000\n",
       "25%      -1.000000\n",
       "50%       0.412500\n",
       "75%       0.890000\n",
       "max       1.180000\n",
       "Name: H_Ahc_PL, dtype: float64"
      ]
     },
     "execution_count": 1995,
     "metadata": {},
     "output_type": "execute_result"
    }
   ],
   "source": [
    "difference = 0.05\n",
    "value = 0.05\n",
    "\n",
    "test_df3[(test_df3[\"Hc_Diff_avg\"] > difference) & (test_df3[\"H_pred_avg\"] / test_df3[\"H_prob_odds\"] - 1 > value)].H_Ahc_PL.describe()"
   ]
  },
  {
   "cell_type": "code",
   "execution_count": 1996,
   "metadata": {},
   "outputs": [
    {
     "data": {
      "text/plain": [
       "count    46.000000\n",
       "mean      0.055761\n",
       "std       0.900320\n",
       "min      -1.000000\n",
       "25%      -1.000000\n",
       "50%       0.397500\n",
       "75%       0.915000\n",
       "max       1.070000\n",
       "Name: A_Ahc_PL, dtype: float64"
      ]
     },
     "execution_count": 1996,
     "metadata": {},
     "output_type": "execute_result"
    }
   ],
   "source": [
    "test_df3[(test_df3[\"Hc_Diff_avg\"] < -difference) & (test_df3[\"A_pred_avg\"] / test_df3[\"A_prob_odds\"] - 1 > value)].A_Ahc_PL.describe()"
   ]
  },
  {
   "cell_type": "markdown",
   "metadata": {},
   "source": [
    "## 7. Still To Do:\n",
    "- Get hands on more detailed data\n",
    "- LineUps\n",
    "- Market Value\n",
    "- Twitter Sentiment Analysis of the matches\n",
    "- GUI"
   ]
  },
  {
   "cell_type": "code",
   "execution_count": 1997,
   "metadata": {},
   "outputs": [],
   "source": [
    "test_df3.to_pickle(f\"{league}{year}_all.pkl\")"
   ]
  },
  {
   "cell_type": "code",
   "execution_count": null,
   "metadata": {},
   "outputs": [],
   "source": []
  },
  {
   "cell_type": "code",
   "execution_count": 8,
   "metadata": {},
   "outputs": [
    {
     "name": "stderr",
     "output_type": "stream",
     "text": [
      "C:\\Users\\Konny\\Anaconda3\\lib\\site-packages\\scipy\\stats\\_discrete_distns.py:493: RuntimeWarning: invalid value encountered in greater_equal\n",
      "  return mu >= 0\n"
     ]
    },
    {
     "data": {
      "text/html": [
       "<div>\n",
       "<style scoped>\n",
       "    .dataframe tbody tr th:only-of-type {\n",
       "        vertical-align: middle;\n",
       "    }\n",
       "\n",
       "    .dataframe tbody tr th {\n",
       "        vertical-align: top;\n",
       "    }\n",
       "\n",
       "    .dataframe thead th {\n",
       "        text-align: right;\n",
       "    }\n",
       "</style>\n",
       "<table border=\"1\" class=\"dataframe\">\n",
       "  <thead>\n",
       "    <tr style=\"text-align: right;\">\n",
       "      <th></th>\n",
       "      <th>HomeTeam</th>\n",
       "      <th>AwayTeam</th>\n",
       "      <th>H_prob_odds</th>\n",
       "      <th>D_prob_odds</th>\n",
       "      <th>A_prob_odds</th>\n",
       "      <th>BbAHh</th>\n",
       "      <th>H_pred_avg</th>\n",
       "      <th>D_pred_avg</th>\n",
       "      <th>A_pred_avg</th>\n",
       "      <th>Hc_avg</th>\n",
       "      <th>...</th>\n",
       "      <th>H_pred_Ann</th>\n",
       "      <th>D_pred_Rdf</th>\n",
       "      <th>D_pred_Xgb</th>\n",
       "      <th>D_pred_Ann</th>\n",
       "      <th>A_pred_Rdf</th>\n",
       "      <th>A_pred_Xgb</th>\n",
       "      <th>A_pred_Ann</th>\n",
       "      <th>XGB_hc</th>\n",
       "      <th>SVR_hc</th>\n",
       "      <th>ANN_hc</th>\n",
       "    </tr>\n",
       "  </thead>\n",
       "  <tbody>\n",
       "    <tr>\n",
       "      <th>0</th>\n",
       "      <td>Accrington</td>\n",
       "      <td>Portsmouth</td>\n",
       "      <td>0.306520</td>\n",
       "      <td>0.291336</td>\n",
       "      <td>0.402144</td>\n",
       "      <td>0.25</td>\n",
       "      <td>0.291676</td>\n",
       "      <td>0.256982</td>\n",
       "      <td>0.451341</td>\n",
       "      <td>0.257023</td>\n",
       "      <td>...</td>\n",
       "      <td>0.219813</td>\n",
       "      <td>0.246727</td>\n",
       "      <td>0.270694</td>\n",
       "      <td>0.253526</td>\n",
       "      <td>0.453755</td>\n",
       "      <td>0.373608</td>\n",
       "      <td>0.526661</td>\n",
       "      <td>0.444617</td>\n",
       "      <td>0.055945</td>\n",
       "      <td>0.270506</td>\n",
       "    </tr>\n",
       "    <tr>\n",
       "      <th>1</th>\n",
       "      <td>AFC Wimbledon</td>\n",
       "      <td>Luton</td>\n",
       "      <td>0.256584</td>\n",
       "      <td>0.276205</td>\n",
       "      <td>0.467212</td>\n",
       "      <td>0.50</td>\n",
       "      <td>0.250534</td>\n",
       "      <td>0.251848</td>\n",
       "      <td>0.497618</td>\n",
       "      <td>0.528634</td>\n",
       "      <td>...</td>\n",
       "      <td>0.249820</td>\n",
       "      <td>0.246103</td>\n",
       "      <td>0.250093</td>\n",
       "      <td>0.259348</td>\n",
       "      <td>0.462226</td>\n",
       "      <td>0.539797</td>\n",
       "      <td>0.490831</td>\n",
       "      <td>0.821390</td>\n",
       "      <td>-0.007131</td>\n",
       "      <td>0.771643</td>\n",
       "    </tr>\n",
       "    <tr>\n",
       "      <th>2</th>\n",
       "      <td>Barnsley</td>\n",
       "      <td>Bristol Rvs</td>\n",
       "      <td>0.634264</td>\n",
       "      <td>0.220873</td>\n",
       "      <td>0.144863</td>\n",
       "      <td>-1.00</td>\n",
       "      <td>0.525637</td>\n",
       "      <td>0.306871</td>\n",
       "      <td>0.167492</td>\n",
       "      <td>-1.123918</td>\n",
       "      <td>...</td>\n",
       "      <td>0.487725</td>\n",
       "      <td>0.266895</td>\n",
       "      <td>0.376503</td>\n",
       "      <td>0.277214</td>\n",
       "      <td>0.160971</td>\n",
       "      <td>0.106445</td>\n",
       "      <td>0.235061</td>\n",
       "      <td>-0.790251</td>\n",
       "      <td>-0.919409</td>\n",
       "      <td>-1.662095</td>\n",
       "    </tr>\n",
       "    <tr>\n",
       "      <th>3</th>\n",
       "      <td>Burton</td>\n",
       "      <td>Peterboro</td>\n",
       "      <td>0.400737</td>\n",
       "      <td>0.270237</td>\n",
       "      <td>0.329026</td>\n",
       "      <td>-0.25</td>\n",
       "      <td>0.284145</td>\n",
       "      <td>0.260619</td>\n",
       "      <td>0.455237</td>\n",
       "      <td>0.398300</td>\n",
       "      <td>...</td>\n",
       "      <td>0.242586</td>\n",
       "      <td>0.253780</td>\n",
       "      <td>0.273722</td>\n",
       "      <td>0.254354</td>\n",
       "      <td>0.444058</td>\n",
       "      <td>0.418593</td>\n",
       "      <td>0.503060</td>\n",
       "      <td>0.654253</td>\n",
       "      <td>0.675784</td>\n",
       "      <td>-0.135136</td>\n",
       "    </tr>\n",
       "    <tr>\n",
       "      <th>4</th>\n",
       "      <td>Coventry</td>\n",
       "      <td>Doncaster</td>\n",
       "      <td>0.392406</td>\n",
       "      <td>0.284197</td>\n",
       "      <td>0.323397</td>\n",
       "      <td>-0.25</td>\n",
       "      <td>0.302110</td>\n",
       "      <td>0.295149</td>\n",
       "      <td>0.402740</td>\n",
       "      <td>-0.135234</td>\n",
       "      <td>...</td>\n",
       "      <td>0.274251</td>\n",
       "      <td>0.257721</td>\n",
       "      <td>0.369507</td>\n",
       "      <td>0.258220</td>\n",
       "      <td>0.400035</td>\n",
       "      <td>0.340657</td>\n",
       "      <td>0.467529</td>\n",
       "      <td>0.295585</td>\n",
       "      <td>-0.286877</td>\n",
       "      <td>-0.414410</td>\n",
       "    </tr>\n",
       "    <tr>\n",
       "      <th>5</th>\n",
       "      <td>Fleetwood Town</td>\n",
       "      <td>Blackpool</td>\n",
       "      <td>0.355148</td>\n",
       "      <td>0.302618</td>\n",
       "      <td>0.342234</td>\n",
       "      <td>-0.25</td>\n",
       "      <td>0.402507</td>\n",
       "      <td>0.267846</td>\n",
       "      <td>0.329647</td>\n",
       "      <td>-0.345395</td>\n",
       "      <td>...</td>\n",
       "      <td>0.395591</td>\n",
       "      <td>0.261498</td>\n",
       "      <td>0.272234</td>\n",
       "      <td>0.269806</td>\n",
       "      <td>0.318144</td>\n",
       "      <td>0.336195</td>\n",
       "      <td>0.334603</td>\n",
       "      <td>-0.386489</td>\n",
       "      <td>-0.841119</td>\n",
       "      <td>0.191423</td>\n",
       "    </tr>\n",
       "    <tr>\n",
       "      <th>6</th>\n",
       "      <td>Gillingham</td>\n",
       "      <td>Bradford</td>\n",
       "      <td>0.450358</td>\n",
       "      <td>0.269180</td>\n",
       "      <td>0.280462</td>\n",
       "      <td>-0.25</td>\n",
       "      <td>0.467294</td>\n",
       "      <td>0.281409</td>\n",
       "      <td>0.251297</td>\n",
       "      <td>-0.618289</td>\n",
       "      <td>...</td>\n",
       "      <td>0.479263</td>\n",
       "      <td>0.276511</td>\n",
       "      <td>0.299319</td>\n",
       "      <td>0.268397</td>\n",
       "      <td>0.256146</td>\n",
       "      <td>0.245406</td>\n",
       "      <td>0.252339</td>\n",
       "      <td>-0.263436</td>\n",
       "      <td>-1.104314</td>\n",
       "      <td>-0.487116</td>\n",
       "    </tr>\n",
       "    <tr>\n",
       "      <th>7</th>\n",
       "      <td>Oxford</td>\n",
       "      <td>Shrewsbury</td>\n",
       "      <td>0.355207</td>\n",
       "      <td>0.294888</td>\n",
       "      <td>0.349905</td>\n",
       "      <td>-0.25</td>\n",
       "      <td>0.370377</td>\n",
       "      <td>0.263924</td>\n",
       "      <td>0.365699</td>\n",
       "      <td>0.036561</td>\n",
       "      <td>...</td>\n",
       "      <td>0.372812</td>\n",
       "      <td>0.270796</td>\n",
       "      <td>0.255077</td>\n",
       "      <td>0.265900</td>\n",
       "      <td>0.348531</td>\n",
       "      <td>0.387278</td>\n",
       "      <td>0.361288</td>\n",
       "      <td>-0.149088</td>\n",
       "      <td>0.038667</td>\n",
       "      <td>0.220104</td>\n",
       "    </tr>\n",
       "    <tr>\n",
       "      <th>8</th>\n",
       "      <td>Rochdale</td>\n",
       "      <td>Charlton</td>\n",
       "      <td>0.389647</td>\n",
       "      <td>0.273776</td>\n",
       "      <td>0.336577</td>\n",
       "      <td>-0.25</td>\n",
       "      <td>0.324715</td>\n",
       "      <td>0.273149</td>\n",
       "      <td>0.402136</td>\n",
       "      <td>0.112782</td>\n",
       "      <td>...</td>\n",
       "      <td>0.326336</td>\n",
       "      <td>0.292098</td>\n",
       "      <td>0.263327</td>\n",
       "      <td>0.264021</td>\n",
       "      <td>0.379832</td>\n",
       "      <td>0.416933</td>\n",
       "      <td>0.409643</td>\n",
       "      <td>-0.008106</td>\n",
       "      <td>-0.206821</td>\n",
       "      <td>0.553272</td>\n",
       "    </tr>\n",
       "    <tr>\n",
       "      <th>9</th>\n",
       "      <td>Scunthorpe</td>\n",
       "      <td>Plymouth</td>\n",
       "      <td>0.456101</td>\n",
       "      <td>0.270769</td>\n",
       "      <td>0.273130</td>\n",
       "      <td>-0.25</td>\n",
       "      <td>0.475593</td>\n",
       "      <td>0.271243</td>\n",
       "      <td>0.253165</td>\n",
       "      <td>-0.291152</td>\n",
       "      <td>...</td>\n",
       "      <td>0.434280</td>\n",
       "      <td>0.278781</td>\n",
       "      <td>0.261908</td>\n",
       "      <td>0.273039</td>\n",
       "      <td>0.242850</td>\n",
       "      <td>0.223963</td>\n",
       "      <td>0.292681</td>\n",
       "      <td>-0.151437</td>\n",
       "      <td>0.137331</td>\n",
       "      <td>-0.859352</td>\n",
       "    </tr>\n",
       "    <tr>\n",
       "      <th>10</th>\n",
       "      <td>Sunderland</td>\n",
       "      <td>Southend</td>\n",
       "      <td>0.472141</td>\n",
       "      <td>0.277976</td>\n",
       "      <td>0.249883</td>\n",
       "      <td>-0.50</td>\n",
       "      <td>0.490547</td>\n",
       "      <td>0.253802</td>\n",
       "      <td>0.255651</td>\n",
       "      <td>-0.487117</td>\n",
       "      <td>...</td>\n",
       "      <td>0.419592</td>\n",
       "      <td>0.256861</td>\n",
       "      <td>0.230860</td>\n",
       "      <td>0.273685</td>\n",
       "      <td>0.230742</td>\n",
       "      <td>0.229488</td>\n",
       "      <td>0.306724</td>\n",
       "      <td>-0.842780</td>\n",
       "      <td>-0.118122</td>\n",
       "      <td>-0.500448</td>\n",
       "    </tr>\n",
       "    <tr>\n",
       "      <th>11</th>\n",
       "      <td>Walsall</td>\n",
       "      <td>Wycombe</td>\n",
       "      <td>0.402190</td>\n",
       "      <td>0.280933</td>\n",
       "      <td>0.316877</td>\n",
       "      <td>-0.25</td>\n",
       "      <td>0.382891</td>\n",
       "      <td>0.250978</td>\n",
       "      <td>0.366131</td>\n",
       "      <td>0.104007</td>\n",
       "      <td>...</td>\n",
       "      <td>0.388440</td>\n",
       "      <td>0.268633</td>\n",
       "      <td>0.217420</td>\n",
       "      <td>0.266881</td>\n",
       "      <td>0.347047</td>\n",
       "      <td>0.406667</td>\n",
       "      <td>0.344679</td>\n",
       "      <td>0.014642</td>\n",
       "      <td>0.203337</td>\n",
       "      <td>0.094042</td>\n",
       "    </tr>\n",
       "  </tbody>\n",
       "</table>\n",
       "<p>12 rows × 23 columns</p>\n",
       "</div>"
      ],
      "text/plain": [
       "          HomeTeam     AwayTeam  H_prob_odds  D_prob_odds  A_prob_odds  BbAHh  \\\n",
       "0       Accrington   Portsmouth     0.306520     0.291336     0.402144   0.25   \n",
       "1    AFC Wimbledon        Luton     0.256584     0.276205     0.467212   0.50   \n",
       "2         Barnsley  Bristol Rvs     0.634264     0.220873     0.144863  -1.00   \n",
       "3           Burton    Peterboro     0.400737     0.270237     0.329026  -0.25   \n",
       "4         Coventry    Doncaster     0.392406     0.284197     0.323397  -0.25   \n",
       "5   Fleetwood Town    Blackpool     0.355148     0.302618     0.342234  -0.25   \n",
       "6       Gillingham     Bradford     0.450358     0.269180     0.280462  -0.25   \n",
       "7           Oxford   Shrewsbury     0.355207     0.294888     0.349905  -0.25   \n",
       "8         Rochdale     Charlton     0.389647     0.273776     0.336577  -0.25   \n",
       "9       Scunthorpe     Plymouth     0.456101     0.270769     0.273130  -0.25   \n",
       "10      Sunderland     Southend     0.472141     0.277976     0.249883  -0.50   \n",
       "11         Walsall      Wycombe     0.402190     0.280933     0.316877  -0.25   \n",
       "\n",
       "    H_pred_avg  D_pred_avg  A_pred_avg    Hc_avg    ...     H_pred_Ann  \\\n",
       "0     0.291676    0.256982    0.451341  0.257023    ...       0.219813   \n",
       "1     0.250534    0.251848    0.497618  0.528634    ...       0.249820   \n",
       "2     0.525637    0.306871    0.167492 -1.123918    ...       0.487725   \n",
       "3     0.284145    0.260619    0.455237  0.398300    ...       0.242586   \n",
       "4     0.302110    0.295149    0.402740 -0.135234    ...       0.274251   \n",
       "5     0.402507    0.267846    0.329647 -0.345395    ...       0.395591   \n",
       "6     0.467294    0.281409    0.251297 -0.618289    ...       0.479263   \n",
       "7     0.370377    0.263924    0.365699  0.036561    ...       0.372812   \n",
       "8     0.324715    0.273149    0.402136  0.112782    ...       0.326336   \n",
       "9     0.475593    0.271243    0.253165 -0.291152    ...       0.434280   \n",
       "10    0.490547    0.253802    0.255651 -0.487117    ...       0.419592   \n",
       "11    0.382891    0.250978    0.366131  0.104007    ...       0.388440   \n",
       "\n",
       "    D_pred_Rdf  D_pred_Xgb  D_pred_Ann  A_pred_Rdf  A_pred_Xgb  A_pred_Ann  \\\n",
       "0     0.246727    0.270694    0.253526    0.453755    0.373608    0.526661   \n",
       "1     0.246103    0.250093    0.259348    0.462226    0.539797    0.490831   \n",
       "2     0.266895    0.376503    0.277214    0.160971    0.106445    0.235061   \n",
       "3     0.253780    0.273722    0.254354    0.444058    0.418593    0.503060   \n",
       "4     0.257721    0.369507    0.258220    0.400035    0.340657    0.467529   \n",
       "5     0.261498    0.272234    0.269806    0.318144    0.336195    0.334603   \n",
       "6     0.276511    0.299319    0.268397    0.256146    0.245406    0.252339   \n",
       "7     0.270796    0.255077    0.265900    0.348531    0.387278    0.361288   \n",
       "8     0.292098    0.263327    0.264021    0.379832    0.416933    0.409643   \n",
       "9     0.278781    0.261908    0.273039    0.242850    0.223963    0.292681   \n",
       "10    0.256861    0.230860    0.273685    0.230742    0.229488    0.306724   \n",
       "11    0.268633    0.217420    0.266881    0.347047    0.406667    0.344679   \n",
       "\n",
       "      XGB_hc    SVR_hc    ANN_hc  \n",
       "0   0.444617  0.055945  0.270506  \n",
       "1   0.821390 -0.007131  0.771643  \n",
       "2  -0.790251 -0.919409 -1.662095  \n",
       "3   0.654253  0.675784 -0.135136  \n",
       "4   0.295585 -0.286877 -0.414410  \n",
       "5  -0.386489 -0.841119  0.191423  \n",
       "6  -0.263436 -1.104314 -0.487116  \n",
       "7  -0.149088  0.038667  0.220104  \n",
       "8  -0.008106 -0.206821  0.553272  \n",
       "9  -0.151437  0.137331 -0.859352  \n",
       "10 -0.842780 -0.118122 -0.500448  \n",
       "11  0.014642  0.203337  0.094042  \n",
       "\n",
       "[12 rows x 23 columns]"
      ]
     },
     "execution_count": 8,
     "metadata": {},
     "output_type": "execute_result"
    }
   ],
   "source": [
    "get_predictions(\"eng3\")"
   ]
  },
  {
   "cell_type": "code",
   "execution_count": null,
   "metadata": {},
   "outputs": [],
   "source": []
  }
 ],
 "metadata": {
  "kernelspec": {
   "display_name": "Python [conda root]",
   "language": "python",
   "name": "conda-root-py"
  },
  "language_info": {
   "codemirror_mode": {
    "name": "ipython",
    "version": 3
   },
   "file_extension": ".py",
   "mimetype": "text/x-python",
   "name": "python",
   "nbconvert_exporter": "python",
   "pygments_lexer": "ipython3",
   "version": "3.6.5"
  }
 },
 "nbformat": 4,
 "nbformat_minor": 2
}

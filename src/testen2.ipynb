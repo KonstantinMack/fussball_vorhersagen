{
 "cells": [
  {
   "cell_type": "code",
   "execution_count": 1,
   "metadata": {},
   "outputs": [
    {
     "name": "stderr",
     "output_type": "stream",
     "text": [
      "C:\\Users\\Konny\\Anaconda3\\lib\\site-packages\\h5py\\__init__.py:36: FutureWarning: Conversion of the second argument of issubdtype from `float` to `np.floating` is deprecated. In future, it will be treated as `np.float64 == np.dtype(float).type`.\n",
      "  from ._conv import register_converters as _register_converters\n",
      "Using TensorFlow backend.\n"
     ]
    }
   ],
   "source": [
    "import io\n",
    "import base64\n",
    "import pandas as pd\n",
    "import numpy as np\n",
    "from helper_fcts import preprocess, get_poi_mas, rps\n",
    "from keras import backend as K\n",
    "from keras.wrappers.scikit_learn import KerasRegressor\n",
    "from sklearn.preprocessing import scale, StandardScaler\n",
    "from sklearn.ensemble import RandomForestClassifier\n",
    "from sklearn.model_selection import RandomizedSearchCV, KFold, cross_val_score\n",
    "from sklearn.svm import SVR, SVC\n",
    "from keras.models import Sequential\n",
    "from keras.layers import Activation, Dropout, Flatten, Dense\n",
    "from keras.optimizers import SGD\n",
    "from keras.utils import np_utils\n",
    "from keras.utils.vis_utils import model_to_dot\n",
    "from xgboost import XGBClassifier, XGBRegressor\n",
    "import xgboost as xgb\n",
    "import matplotlib.pyplot as plt\n",
    "from scipy.interpolate import spline\n",
    "from IPython.display import SVG, HTML\n",
    "from operator import itemgetter\n",
    "from scipy.stats import poisson\n",
    "from mpl_toolkits.mplot3d import Axes3D\n",
    "from prediction import get_predictions\n",
    "from keras import regularizers\n",
    "from sklearn.metrics import mean_absolute_error, mean_squared_error\n",
    "from sklearn.linear_model import LinearRegression\n",
    "from sklearn.externals import joblib\n",
    "\n",
    "from main import modelling"
   ]
  },
  {
   "cell_type": "code",
   "execution_count": 2,
   "metadata": {},
   "outputs": [
    {
     "name": "stderr",
     "output_type": "stream",
     "text": [
      "C:\\Users\\Konny\\Anaconda3\\lib\\site-packages\\scipy\\stats\\_discrete_distns.py:493: RuntimeWarning: invalid value encountered in greater_equal\n",
      "  return mu >= 0\n"
     ]
    }
   ],
   "source": [
    "eng1 = pd.concat([modelling(pd.read_csv(\"data/E\" + str(i) + \".csv\"), 20) for i in range(8,19)])\n",
    "eng2 = pd.concat([modelling(pd.read_csv(\"data/E1_\" + str(i) + \".csv\"), 24) for i in range(8,19)])\n",
    "eng3 = pd.concat([modelling(pd.read_csv(\"data/E2_\" + str(i) + \".csv\"), 24) for i in range(8,19)])\n",
    "eng4 = pd.concat([modelling(pd.read_csv(\"data/E3_\" + str(i) + \".csv\"), 24) for i in range(8,19)])\n",
    "fra = pd.concat([modelling(pd.read_csv(\"data/F\" + str(i) + \".csv\"), 20) for i in range(8,19)])\n",
    "ger = pd.concat([modelling(pd.read_csv(\"data/D\" + str(i) + \".csv\"), 18) for i in range(8,19)])\n",
    "ita = pd.concat([modelling(pd.read_csv(\"data/I\" + str(i) + \".csv\"), 20) for i in range(8,19)])\n",
    "spa = pd.concat([modelling(pd.read_csv(\"data/SP\" + str(i) + \".csv\"), 20) for i in range(8,19)])"
   ]
  },
  {
   "cell_type": "code",
   "execution_count": 4,
   "metadata": {},
   "outputs": [
    {
     "name": "stderr",
     "output_type": "stream",
     "text": [
      "C:\\Users\\Konny\\Anaconda3\\lib\\site-packages\\scipy\\stats\\_discrete_distns.py:493: RuntimeWarning: invalid value encountered in greater_equal\n",
      "  return mu >= 0\n"
     ]
    }
   ],
   "source": [
    "fra2 = modelling(pd.read_csv(\"F2.csv\"), 20)\n",
    "ger2 = modelling(pd.read_csv(\"D2.csv\"), 18)\n",
    "ita2 = modelling(pd.read_csv(\"I2.csv\"), 22)\n",
    "spa2 = modelling(pd.read_csv(\"SP2.csv\"), 22)\n",
    "bel = modelling(pd.read_csv(\"B1.csv\"), 16)\n",
    "gre = modelling(pd.read_csv(\"G1.csv\"), 16)\n",
    "ned = modelling(pd.read_csv(\"N1.csv\"), 18)\n",
    "por = modelling(pd.read_csv(\"P1.csv\"), 18)\n",
    "tur = modelling(pd.read_csv(\"T1.csv\"), 18)"
   ]
  },
  {
   "cell_type": "code",
   "execution_count": 4,
   "metadata": {},
   "outputs": [],
   "source": [
    "eng1[\"Country\"] = \"E1\"\n",
    "eng2[\"Country\"] = \"E2\"\n",
    "eng3[\"Country\"] = \"E3\"\n",
    "eng4[\"Country\"] = \"E4\"\n",
    "fra[\"Country\"] = \"F\"\n",
    "ger[\"Country\"] = \"D\"\n",
    "ita[\"Country\"] = \"I\"\n",
    "spa[\"Country\"] = \"S\""
   ]
  },
  {
   "cell_type": "code",
   "execution_count": 5,
   "metadata": {},
   "outputs": [],
   "source": [
    "df = pd.concat([eng1, eng2, eng3, eng4, fra, ger, ita, spa, fra2, ger2, ita2, spa2, bel, gre, ned, por, tur]).reset_index(drop=True)"
   ]
  },
  {
   "cell_type": "code",
   "execution_count": 6,
   "metadata": {},
   "outputs": [],
   "source": [
    "df = df[df[\"round\"] > 10]"
   ]
  },
  {
   "cell_type": "code",
   "execution_count": 7,
   "metadata": {},
   "outputs": [],
   "source": [
    "df.reset_index(drop=True, inplace=True)"
   ]
  },
  {
   "cell_type": "code",
   "execution_count": 15,
   "metadata": {},
   "outputs": [],
   "source": [
    "dummies = pd.get_dummies(df[\"Country\"])"
   ]
  },
  {
   "cell_type": "code",
   "execution_count": 17,
   "metadata": {},
   "outputs": [],
   "source": [
    "df = pd.concat([df, dummies], axis=1)"
   ]
  },
  {
   "cell_type": "code",
   "execution_count": 8,
   "metadata": {},
   "outputs": [],
   "source": [
    "columns_mit_fe  = ['FTR', 'season', 'H_avgGD', 'A_avgGD', 'H_avgG', 'A_avgG', 'H_avgG_c', 'A_avgG_c', 'H_avgST', 'A_avgST', 'H_avgST_c', 'A_avgST_c', 'H_avgC', 'A_avgC', 'H_avgC_c', 'A_avgC_c', 'H_GoalDiff_last', 'A_GoalDiff_last', 'H_xG_PoiMas', 'A_xG_PoiMas', 'H_Form_Tot4', 'A_Form_Tot4','H_Def_Rat', 'H_Off_Rat', 'A_Def_Rat', 'A_Off_Rat', \"H_prob_odds\", \"D_prob_odds\", \"A_prob_odds\"]\n",
    "df = df.iloc[df[columns_mit_fe].dropna().index]"
   ]
  },
  {
   "cell_type": "code",
   "execution_count": 10,
   "metadata": {},
   "outputs": [],
   "source": [
    "df.to_pickle(\"data_other_countries.pkl\")"
   ]
  },
  {
   "cell_type": "code",
   "execution_count": 2,
   "metadata": {},
   "outputs": [],
   "source": [
    "df = pd.read_pickle(\"data_all.pkl\")"
   ]
  },
  {
   "cell_type": "code",
   "execution_count": 11,
   "metadata": {},
   "outputs": [],
   "source": [
    "year = 18"
   ]
  },
  {
   "cell_type": "code",
   "execution_count": 4,
   "metadata": {},
   "outputs": [],
   "source": [
    "mapper = {\n",
    "    \"E1\": \"E0\",\n",
    "    \"E2\": \"E1\",\n",
    "    \"E3\": \"E2\",\n",
    "    \"E4\": \"E3\",\n",
    "    \"F\": \"F1\",\n",
    "    \"D\": \"D1\",\n",
    "    \"I\": \"I1\",\n",
    "    \"S\": \"SP1\"\n",
    "}"
   ]
  },
  {
   "cell_type": "code",
   "execution_count": 5,
   "metadata": {},
   "outputs": [],
   "source": [
    "df = df.rename(mapper, axis=\"columns\")"
   ]
  },
  {
   "cell_type": "markdown",
   "metadata": {},
   "source": [
    "## 6. Predicting Goal Difference instead of Classification"
   ]
  },
  {
   "cell_type": "markdown",
   "metadata": {},
   "source": [
    "#### XGB Regressor"
   ]
  },
  {
   "cell_type": "code",
   "execution_count": 71,
   "metadata": {},
   "outputs": [
    {
     "name": "stderr",
     "output_type": "stream",
     "text": [
      "C:\\Users\\Konny\\Anaconda3\\lib\\site-packages\\ipykernel\\__main__.py:16: SettingWithCopyWarning: \n",
      "A value is trying to be set on a copy of a slice from a DataFrame\n",
      "\n",
      "See the caveats in the documentation: http://pandas.pydata.org/pandas-docs/stable/indexing.html#indexing-view-versus-copy\n"
     ]
    }
   ],
   "source": [
    "#columns_mit_fe  = ['FTHG', 'FTAG', 'season', 'H_avgGD', 'A_avgGD', 'H_avgG', 'A_avgG', 'H_avgG_c', 'A_avgG_c', 'H_avgST', 'A_avgST', 'H_avgST_c', 'A_avgST_c', 'H_avgC', 'A_avgC', 'H_avgC_c', 'A_avgC_c', 'H_GoalDiff_last', 'A_GoalDiff_last', 'H_xG_PoiMas', 'A_xG_PoiMas', 'H_Form_Tot4', 'A_Form_Tot4','H_Def_Rat', 'H_Off_Rat', 'A_Def_Rat', 'A_Off_Rat', \"H_prob_odds\", \"D_prob_odds\", \"A_prob_odds\", \"D1\", \"E0\", \"E1\", \"E2\", \"E3\", \"F1\", \"I1\", \"SP1\"]\n",
    "columns_mit_fe  = ['FTHG', 'FTAG', 'season', 'H_avgGD', 'A_avgGD', 'H_avgG', 'A_avgG', 'H_avgG_c', 'A_avgG_c', 'H_avgST', 'A_avgST', 'H_avgST_c', 'A_avgST_c', 'H_avgC', 'A_avgC', 'H_avgC_c', 'A_avgC_c', 'H_GoalDiff_last', 'A_GoalDiff_last', 'H_xG_PoiMas', 'A_xG_PoiMas', 'H_Form_Tot4', 'A_Form_Tot4','H_Def_Rat', 'H_Off_Rat', 'A_Def_Rat', 'A_Off_Rat', \"H_prob_odds\", \"D_prob_odds\", \"A_prob_odds\"]\n",
    "\n",
    "\n",
    "def get_season(df, season):\n",
    "    X_train = df[df[\"season\"] < season].iloc[:,2:]\n",
    "    X_test = df[df[\"season\"] == season].iloc[:,2:]\n",
    "    y_train_hg = df[df[\"season\"] < season].iloc[:,0]\n",
    "    y_test_hg = df[df[\"season\"] == season].iloc[:,0]\n",
    "    y_train_ag = df[df[\"season\"] < season].iloc[:,1]\n",
    "    y_test_ag = df[df[\"season\"] == season].iloc[:,1]\n",
    "    return X_train, X_test, y_train_hg, y_test_hg, y_train_ag, y_test_ag\n",
    "\n",
    "data2 = df[df[\"round\"] > 10].reset_index(drop=True)\n",
    "data = data2[columns_mit_fe]\n",
    "data.dropna(inplace=True)\n",
    "\n",
    "# X_train = data.iloc[:,2:]\n",
    "# y_train_hg = data.iloc[:,0]\n",
    "# y_train_ag = data.iloc[:,1]\n",
    "\n",
    "X_train, X_test, y_train_hg, y_test_hg, y_train_ag, y_test_ag = get_season(data, year)\n",
    "\n",
    "del X_train[\"season\"]\n",
    "del X_test[\"season\"]"
   ]
  },
  {
   "cell_type": "code",
   "execution_count": 148,
   "metadata": {},
   "outputs": [
    {
     "name": "stderr",
     "output_type": "stream",
     "text": [
      "C:\\Users\\Konny\\Anaconda3\\lib\\site-packages\\ipykernel\\__main__.py:3: SettingWithCopyWarning: \n",
      "A value is trying to be set on a copy of a slice from a DataFrame\n",
      "\n",
      "See the caveats in the documentation: http://pandas.pydata.org/pandas-docs/stable/indexing.html#indexing-view-versus-copy\n",
      "  app.launch_new_instance()\n"
     ]
    }
   ],
   "source": [
    "data2 = ned[ned[\"round\"] > 10].reset_index(drop=True)\n",
    "data = data2[columns_mit_fe]\n",
    "data.dropna(inplace=True)\n",
    "\n",
    "X_test = data.iloc[:,2:]\n",
    "del X_test[\"season\"]\n",
    "DMtest = xgb.DMatrix(data=X_test)\n",
    "X_test_scaled = scaler.transform(X_test)"
   ]
  },
  {
   "cell_type": "code",
   "execution_count": 149,
   "metadata": {},
   "outputs": [],
   "source": [
    "xgb_home = xg_reg_h3.predict(DMtest)\n",
    "xgb_away = xg_reg_a3.predict(DMtest)"
   ]
  },
  {
   "cell_type": "code",
   "execution_count": 150,
   "metadata": {},
   "outputs": [],
   "source": [
    "lin_home = model_h.predict(X_test)\n",
    "lin_away = model_a.predict(X_test)"
   ]
  },
  {
   "cell_type": "code",
   "execution_count": 151,
   "metadata": {},
   "outputs": [],
   "source": [
    "y_pred = model.predict(X_test_scaled)\n",
    "y_pred = scaler_goals.inverse_transform(y_pred)"
   ]
  },
  {
   "cell_type": "code",
   "execution_count": null,
   "metadata": {},
   "outputs": [],
   "source": []
  },
  {
   "cell_type": "code",
   "execution_count": null,
   "metadata": {},
   "outputs": [],
   "source": []
  },
  {
   "cell_type": "code",
   "execution_count": 72,
   "metadata": {},
   "outputs": [],
   "source": [
    "#data\n",
    "DMtrain_h = xgb.DMatrix(data=X_train, label = y_train_hg)\n",
    "DMtest_h = xgb.DMatrix(data=X_test)\n",
    "DMtrain_a = xgb.DMatrix(data=X_train, label = y_train_ag)\n",
    "DMtest_a = xgb.DMatrix(data=X_test)"
   ]
  },
  {
   "cell_type": "code",
   "execution_count": 73,
   "metadata": {},
   "outputs": [],
   "source": [
    "params = {\"booster\":\"gblinear\", \"objective\":\"reg:linear\", \"max_depth\":4, 'min_child_weight': 5, \"n_estimators\": 100, 'eval_metric': \"rmse\", 'seed':11}\n",
    "\n",
    "#home\n",
    "xg_reg_h3 = xgb.train(params=params, dtrain=DMtrain_h,num_boost_round=100)\n",
    "xgb_home = xg_reg_h3.predict(DMtest_h)\n",
    "\n",
    "# #away\n",
    "xg_reg_a3 = xgb.train(params=params, dtrain=DMtrain_a,num_boost_round=100)\n",
    "xgb_away = xg_reg_a3.predict(DMtest_a)"
   ]
  },
  {
   "cell_type": "code",
   "execution_count": 74,
   "metadata": {},
   "outputs": [
    {
     "data": {
      "text/plain": [
       "['other_xgb_a.model']"
      ]
     },
     "execution_count": 74,
     "metadata": {},
     "output_type": "execute_result"
    }
   ],
   "source": [
    "# joblib.dump(xg_reg_h3, \"other_xgb_h.model\")\n",
    "# joblib.dump(xg_reg_a3, \"other_xgb_a.model\")"
   ]
  },
  {
   "cell_type": "code",
   "execution_count": 15,
   "metadata": {},
   "outputs": [
    {
     "name": "stderr",
     "output_type": "stream",
     "text": [
      "C:\\Users\\Konny\\Anaconda3\\lib\\site-packages\\ipykernel\\__main__.py:3: SettingWithCopyWarning: \n",
      "A value is trying to be set on a copy of a slice from a DataFrame.\n",
      "Try using .loc[row_indexer,col_indexer] = value instead\n",
      "\n",
      "See the caveats in the documentation: http://pandas.pydata.org/pandas-docs/stable/indexing.html#indexing-view-versus-copy\n",
      "  app.launch_new_instance()\n",
      "C:\\Users\\Konny\\Anaconda3\\lib\\site-packages\\ipykernel\\__main__.py:4: SettingWithCopyWarning: \n",
      "A value is trying to be set on a copy of a slice from a DataFrame.\n",
      "Try using .loc[row_indexer,col_indexer] = value instead\n",
      "\n",
      "See the caveats in the documentation: http://pandas.pydata.org/pandas-docs/stable/indexing.html#indexing-view-versus-copy\n",
      "C:\\Users\\Konny\\Anaconda3\\lib\\site-packages\\ipykernel\\__main__.py:5: SettingWithCopyWarning: \n",
      "A value is trying to be set on a copy of a slice from a DataFrame.\n",
      "Try using .loc[row_indexer,col_indexer] = value instead\n",
      "\n",
      "See the caveats in the documentation: http://pandas.pydata.org/pandas-docs/stable/indexing.html#indexing-view-versus-copy\n",
      "C:\\Users\\Konny\\Anaconda3\\lib\\site-packages\\ipykernel\\__main__.py:6: SettingWithCopyWarning: \n",
      "A value is trying to be set on a copy of a slice from a DataFrame.\n",
      "Try using .loc[row_indexer,col_indexer] = value instead\n",
      "\n",
      "See the caveats in the documentation: http://pandas.pydata.org/pandas-docs/stable/indexing.html#indexing-view-versus-copy\n"
     ]
    }
   ],
   "source": [
    "test_df = data2.iloc[data[data[\"season\"] == year].index]\n",
    "test_df.reset_index(drop=True, inplace=True)\n",
    "test_df[\"H_xgb_xG\"] = xgb_home\n",
    "test_df[\"A_xgb_xG\"] = xgb_away\n",
    "test_df[\"XGB_hc\"] = test_df[\"A_xgb_xG\"] - test_df[\"H_xgb_xG\"]\n",
    "test_df[\"Hc_Diff\"] = test_df[\"BbAHh\"] - test_df[\"XGB_hc\"]"
   ]
  },
  {
   "cell_type": "code",
   "execution_count": 16,
   "metadata": {},
   "outputs": [
    {
     "data": {
      "text/plain": [
       "count    572.000000\n",
       "mean       0.050979\n",
       "std        0.861097\n",
       "min       -1.000000\n",
       "25%       -1.000000\n",
       "50%        0.435000\n",
       "75%        0.870000\n",
       "max        1.170000\n",
       "Name: H_Ahc_PL, dtype: float64"
      ]
     },
     "execution_count": 16,
     "metadata": {},
     "output_type": "execute_result"
    }
   ],
   "source": [
    "test_df[(test_df[\"Hc_Diff\"] > 0.2) & (test_df[\"BbAvAHH\"] > 1.8)].H_Ahc_PL.describe()"
   ]
  },
  {
   "cell_type": "code",
   "execution_count": 17,
   "metadata": {},
   "outputs": [
    {
     "data": {
      "text/plain": [
       "count    318.000000\n",
       "mean       0.084230\n",
       "std        0.861031\n",
       "min       -1.000000\n",
       "25%       -1.000000\n",
       "50%        0.437500\n",
       "75%        0.880000\n",
       "max        1.100000\n",
       "Name: A_Ahc_PL, dtype: float64"
      ]
     },
     "execution_count": 17,
     "metadata": {},
     "output_type": "execute_result"
    }
   ],
   "source": [
    "test_df[(test_df[\"Hc_Diff\"] < -0.2) & (test_df[\"BbAvAHA\"] > 1.8)].A_Ahc_PL.describe()"
   ]
  },
  {
   "cell_type": "markdown",
   "metadata": {},
   "source": [
    "### Lineare Regression"
   ]
  },
  {
   "cell_type": "code",
   "execution_count": 18,
   "metadata": {},
   "outputs": [
    {
     "name": "stderr",
     "output_type": "stream",
     "text": [
      "C:\\Users\\Konny\\Anaconda3\\lib\\site-packages\\ipykernel\\__main__.py:15: SettingWithCopyWarning: \n",
      "A value is trying to be set on a copy of a slice from a DataFrame\n",
      "\n",
      "See the caveats in the documentation: http://pandas.pydata.org/pandas-docs/stable/indexing.html#indexing-view-versus-copy\n"
     ]
    }
   ],
   "source": [
    "#columns_mit_fe  = ['FTHG', 'FTAG', 'season', 'H_avgGD', 'A_avgGD', 'H_avgG', 'A_avgG', 'H_avgG_c', 'A_avgG_c', 'H_avgST', 'A_avgST', 'H_avgST_c', 'A_avgST_c', 'H_avgC', 'A_avgC', 'H_avgC_c', 'A_avgC_c', 'H_GoalDiff_last', 'A_GoalDiff_last', 'H_xG_PoiMas', 'A_xG_PoiMas', 'H_Form_Tot4', 'A_Form_Tot4','H_Def_Rat', 'H_Off_Rat', 'A_Def_Rat', 'A_Off_Rat', \"H_prob_odds\", \"D_prob_odds\", \"A_prob_odds\", \"D1\", \"E0\", \"E1\", \"E2\", \"E3\", \"F1\", \"I1\", \"SP1\"]\n",
    "columns_mit_fe  = ['FTHG', 'FTAG', 'season', 'H_avgGD', 'A_avgGD', 'H_avgG', 'A_avgG', 'H_avgG_c', 'A_avgG_c', 'H_avgST', 'A_avgST', 'H_avgST_c', 'A_avgST_c', 'H_avgC', 'A_avgC', 'H_avgC_c', 'A_avgC_c', 'H_GoalDiff_last', 'A_GoalDiff_last', 'H_xG_PoiMas', 'A_xG_PoiMas', 'H_Form_Tot4', 'A_Form_Tot4','H_Def_Rat', 'H_Off_Rat', 'A_Def_Rat', 'A_Off_Rat', \"H_prob_odds\", \"D_prob_odds\", \"A_prob_odds\"]\n",
    "\n",
    "def get_season(df, season):\n",
    "    X_train = df[df[\"season\"] < season].iloc[:,2:]\n",
    "    X_test = df[df[\"season\"] == season].iloc[:,2:]\n",
    "    y_train_hg = df[df[\"season\"] < season].iloc[:,0]\n",
    "    y_test_hg = df[df[\"season\"] == season].iloc[:,0]\n",
    "    y_train_ag = df[df[\"season\"] < season].iloc[:,1]\n",
    "    y_test_ag = df[df[\"season\"] == season].iloc[:,1]\n",
    "    return X_train, X_test, y_train_hg, y_test_hg, y_train_ag, y_test_ag\n",
    "\n",
    "data2 = df[df[\"round\"] > 10].reset_index(drop=True)\n",
    "data = data2[columns_mit_fe]\n",
    "data.dropna(inplace=True)\n",
    "\n",
    "X_train, X_test, y_train_hg, y_test_hg, y_train_ag, y_test_ag = get_season(data, year)\n",
    "\n",
    "\n",
    "del X_train[\"season\"]\n",
    "del X_test[\"season\"]"
   ]
  },
  {
   "cell_type": "code",
   "execution_count": 75,
   "metadata": {},
   "outputs": [
    {
     "data": {
      "text/plain": [
       "LinearRegression(copy_X=True, fit_intercept=True, n_jobs=1, normalize=False)"
      ]
     },
     "execution_count": 75,
     "metadata": {},
     "output_type": "execute_result"
    }
   ],
   "source": [
    "#home\n",
    "model_h = LinearRegression()\n",
    "model_h.fit(X_train, y_train_hg)\n",
    "lin_home = model_h.predict(X_test)\n",
    "\n",
    "#away\n",
    "model_a = LinearRegression()\n",
    "model_a.fit(X_train, y_train_ag)\n",
    "lin_away = model_a.predict(X_test)"
   ]
  },
  {
   "cell_type": "code",
   "execution_count": 76,
   "metadata": {},
   "outputs": [
    {
     "data": {
      "text/plain": [
       "['other_lin_reg_a.joblib']"
      ]
     },
     "execution_count": 76,
     "metadata": {},
     "output_type": "execute_result"
    }
   ],
   "source": [
    "# joblib.dump(model_h, 'other_lin_reg_h.joblib')\n",
    "# joblib.dump(model_a, 'other_lin_reg_a.joblib')"
   ]
  },
  {
   "cell_type": "code",
   "execution_count": 20,
   "metadata": {},
   "outputs": [
    {
     "name": "stderr",
     "output_type": "stream",
     "text": [
      "C:\\Users\\Konny\\Anaconda3\\lib\\site-packages\\ipykernel\\__main__.py:3: SettingWithCopyWarning: \n",
      "A value is trying to be set on a copy of a slice from a DataFrame.\n",
      "Try using .loc[row_indexer,col_indexer] = value instead\n",
      "\n",
      "See the caveats in the documentation: http://pandas.pydata.org/pandas-docs/stable/indexing.html#indexing-view-versus-copy\n",
      "  app.launch_new_instance()\n",
      "C:\\Users\\Konny\\Anaconda3\\lib\\site-packages\\ipykernel\\__main__.py:4: SettingWithCopyWarning: \n",
      "A value is trying to be set on a copy of a slice from a DataFrame.\n",
      "Try using .loc[row_indexer,col_indexer] = value instead\n",
      "\n",
      "See the caveats in the documentation: http://pandas.pydata.org/pandas-docs/stable/indexing.html#indexing-view-versus-copy\n",
      "C:\\Users\\Konny\\Anaconda3\\lib\\site-packages\\ipykernel\\__main__.py:5: SettingWithCopyWarning: \n",
      "A value is trying to be set on a copy of a slice from a DataFrame.\n",
      "Try using .loc[row_indexer,col_indexer] = value instead\n",
      "\n",
      "See the caveats in the documentation: http://pandas.pydata.org/pandas-docs/stable/indexing.html#indexing-view-versus-copy\n",
      "C:\\Users\\Konny\\Anaconda3\\lib\\site-packages\\ipykernel\\__main__.py:6: SettingWithCopyWarning: \n",
      "A value is trying to be set on a copy of a slice from a DataFrame.\n",
      "Try using .loc[row_indexer,col_indexer] = value instead\n",
      "\n",
      "See the caveats in the documentation: http://pandas.pydata.org/pandas-docs/stable/indexing.html#indexing-view-versus-copy\n"
     ]
    }
   ],
   "source": [
    "test_df = data2.iloc[data[data[\"season\"] == year].index]\n",
    "test_df.reset_index(drop=True, inplace=True)\n",
    "test_df[\"H_lin_xG\"] = lin_home\n",
    "test_df[\"A_lin_xG\"] = lin_away\n",
    "test_df[\"LIN_hc\"] = test_df[\"A_lin_xG\"] - test_df[\"H_lin_xG\"]\n",
    "test_df[\"Hc_Diff\"] = test_df[\"BbAHh\"] - test_df[\"LIN_hc\"]"
   ]
  },
  {
   "cell_type": "code",
   "execution_count": 21,
   "metadata": {},
   "outputs": [
    {
     "data": {
      "text/plain": [
       "count    637.000000\n",
       "mean       0.050345\n",
       "std        0.864791\n",
       "min       -1.000000\n",
       "25%       -1.000000\n",
       "50%        0.435000\n",
       "75%        0.870000\n",
       "max        1.170000\n",
       "Name: H_Ahc_PL, dtype: float64"
      ]
     },
     "execution_count": 21,
     "metadata": {},
     "output_type": "execute_result"
    }
   ],
   "source": [
    "test_df[(test_df[\"Hc_Diff\"] > 0.2) & (test_df[\"BbAvAHH\"] > 1.8)].H_Ahc_PL.describe()"
   ]
  },
  {
   "cell_type": "code",
   "execution_count": 22,
   "metadata": {},
   "outputs": [
    {
     "data": {
      "text/plain": [
       "count    296.000000\n",
       "mean       0.095625\n",
       "std        0.852753\n",
       "min       -1.000000\n",
       "25%       -1.000000\n",
       "50%        0.437500\n",
       "75%        0.880000\n",
       "max        1.100000\n",
       "Name: A_Ahc_PL, dtype: float64"
      ]
     },
     "execution_count": 22,
     "metadata": {},
     "output_type": "execute_result"
    }
   ],
   "source": [
    "test_df[(test_df[\"Hc_Diff\"] < -0.2) & (test_df[\"BbAvAHA\"] > 1.8)].A_Ahc_PL.describe()"
   ]
  },
  {
   "cell_type": "markdown",
   "metadata": {},
   "source": [
    "### Artificial Neural Network"
   ]
  },
  {
   "cell_type": "code",
   "execution_count": 77,
   "metadata": {},
   "outputs": [
    {
     "name": "stderr",
     "output_type": "stream",
     "text": [
      "C:\\Users\\Konny\\Anaconda3\\lib\\site-packages\\ipykernel\\__main__.py:15: SettingWithCopyWarning: \n",
      "A value is trying to be set on a copy of a slice from a DataFrame\n",
      "\n",
      "See the caveats in the documentation: http://pandas.pydata.org/pandas-docs/stable/indexing.html#indexing-view-versus-copy\n"
     ]
    }
   ],
   "source": [
    "#columns_mit_fe  = ['FTHG', 'FTAG', 'season', 'H_avgGD', 'A_avgGD', 'H_avgG', 'A_avgG', 'H_avgG_c', 'A_avgG_c', 'H_avgST', 'A_avgST', 'H_avgST_c', 'A_avgST_c', 'H_avgC', 'A_avgC', 'H_avgC_c', 'A_avgC_c', 'H_GoalDiff_last', 'A_GoalDiff_last', 'H_xG_PoiMas', 'A_xG_PoiMas', 'H_Form_Tot4', 'A_Form_Tot4','H_Def_Rat', 'H_Off_Rat', 'A_Def_Rat', 'A_Off_Rat', \"H_prob_odds\", \"D_prob_odds\", \"A_prob_odds\", \"D1\", \"E0\", \"E1\", \"E2\", \"E3\", \"F1\", \"I1\", \"SP1\"]\n",
    "columns_mit_fe  = ['FTHG', 'FTAG', 'season', 'H_avgGD', 'A_avgGD', 'H_avgG', 'A_avgG', 'H_avgG_c', 'A_avgG_c', 'H_avgST', 'A_avgST', 'H_avgST_c', 'A_avgST_c', 'H_avgC', 'A_avgC', 'H_avgC_c', 'A_avgC_c', 'H_GoalDiff_last', 'A_GoalDiff_last', 'H_xG_PoiMas', 'A_xG_PoiMas', 'H_Form_Tot4', 'A_Form_Tot4','H_Def_Rat', 'H_Off_Rat', 'A_Def_Rat', 'A_Off_Rat', \"H_prob_odds\", \"D_prob_odds\", \"A_prob_odds\"]\n",
    "\n",
    "\n",
    "def get_season(df, season):\n",
    "    X_train = df[df[\"season\"] < season].iloc[:,2:]\n",
    "    X_test = df[df[\"season\"] == season].iloc[:,2:]\n",
    "    y_train = df[df[\"season\"] < season].iloc[:,:2]\n",
    "    y_test = df[df[\"season\"] == season].iloc[:,:2]\n",
    "    return X_train, X_test, y_train, y_test\n",
    "\n",
    "\n",
    "data2 = df[df[\"round\"] > 10].reset_index(drop=True)\n",
    "data = data2[columns_mit_fe]\n",
    "data.dropna(inplace=True)\n",
    "\n",
    "X_train, X_test, y_train, y_test = get_season(data, year)\n",
    "\n",
    "del X_train[\"season\"]\n",
    "del X_test[\"season\"]\n",
    "\n",
    "scaler = StandardScaler()\n",
    "scaler.fit(X_train)\n",
    "\n",
    "X_train = scaler.transform(X_train)\n",
    "X_test = scaler.transform(X_test)"
   ]
  },
  {
   "cell_type": "code",
   "execution_count": 24,
   "metadata": {},
   "outputs": [],
   "source": [
    "scaler_goals = StandardScaler()\n",
    "scaler_goals.fit(y_train)\n",
    "\n",
    "y_train = scaler_goals.transform(y_train)\n",
    "y_test = scaler_goals.transform(y_test)"
   ]
  },
  {
   "cell_type": "code",
   "execution_count": 79,
   "metadata": {},
   "outputs": [],
   "source": [
    "K.clear_session()\n",
    "\n",
    "model = Sequential()\n",
    "model.add(Dense(128, kernel_initializer=\"he_normal\", input_shape=(27,)))\n",
    "model.add(Activation('tanh'))\n",
    "model.add(Dropout(0.5))\n",
    "model.add(Dense(64, kernel_initializer=\"he_normal\"))\n",
    "model.add(Activation('elu'))\n",
    "model.add(Dropout(0.5))\n",
    "model.add(Dense(32, kernel_initializer=\"he_normal\"))\n",
    "model.add(Activation('elu'))\n",
    "model.add(Dropout(0.5))\n",
    "model.add(Dense(2, kernel_initializer=\"he_normal\"))\n",
    "model.add(Activation('linear'))\n",
    "\n",
    "model.compile(loss=\"logcosh\", optimizer='adam', metrics=['accuracy'])"
   ]
  },
  {
   "cell_type": "code",
   "execution_count": 80,
   "metadata": {},
   "outputs": [
    {
     "name": "stdout",
     "output_type": "stream",
     "text": [
      "Epoch 1/100\n",
      "31000/31000 [==============================] - 5s 160us/step - loss: 0.5069 - acc: 0.5494\n",
      "Epoch 2/100\n",
      "31000/31000 [==============================] - 4s 114us/step - loss: 0.3512 - acc: 0.6002\n",
      "Epoch 3/100\n",
      "31000/31000 [==============================] - 4s 120us/step - loss: 0.3462 - acc: 0.6124\n",
      "Epoch 4/100\n",
      "31000/31000 [==============================] - 3s 113us/step - loss: 0.3449 - acc: 0.6117\n",
      "Epoch 5/100\n",
      "31000/31000 [==============================] - 4s 122us/step - loss: 0.3442 - acc: 0.6134\n",
      "Epoch 6/100\n",
      "31000/31000 [==============================] - 4s 132us/step - loss: 0.3439 - acc: 0.6153\n",
      "Epoch 7/100\n",
      "31000/31000 [==============================] - 4s 122us/step - loss: 0.3437 - acc: 0.6118\n",
      "Epoch 8/100\n",
      "31000/31000 [==============================] - 4s 114us/step - loss: 0.3433 - acc: 0.6135\n",
      "Epoch 9/100\n",
      "31000/31000 [==============================] - 3s 112us/step - loss: 0.3431 - acc: 0.6132\n",
      "Epoch 10/100\n",
      "31000/31000 [==============================] - 3s 112us/step - loss: 0.3431 - acc: 0.6144\n",
      "Epoch 11/100\n",
      "31000/31000 [==============================] - 4s 115us/step - loss: 0.3424 - acc: 0.6168\n",
      "Epoch 12/100\n",
      "31000/31000 [==============================] - 4s 136us/step - loss: 0.3424 - acc: 0.6169\n",
      "Epoch 13/100\n",
      "31000/31000 [==============================] - 4s 124us/step - loss: 0.3429 - acc: 0.6123\n",
      "Epoch 14/100\n",
      "31000/31000 [==============================] - 4s 126us/step - loss: 0.3428 - acc: 0.6160\n",
      "Epoch 15/100\n",
      "31000/31000 [==============================] - 4s 125us/step - loss: 0.3423 - acc: 0.6133\n",
      "Epoch 16/100\n",
      "31000/31000 [==============================] - 3s 103us/step - loss: 0.3423 - acc: 0.6151\n",
      "Epoch 17/100\n",
      "31000/31000 [==============================] - ETA: 0s - loss: 0.3425 - acc: 0.6154- ETA: 1s - loss: 0.3452  - ETA:  - 4s 127us/step - loss: 0.3425 - acc: 0.6153\n",
      "Epoch 18/100\n",
      "31000/31000 [==============================] - 4s 124us/step - loss: 0.3421 - acc: 0.6182\n",
      "Epoch 19/100\n",
      "31000/31000 [==============================] - 4s 115us/step - loss: 0.3424 - acc: 0.6176\n",
      "Epoch 20/100\n",
      "31000/31000 [==============================] - 4s 122us/step - loss: 0.3420 - acc: 0.6169\n",
      "Epoch 21/100\n",
      "31000/31000 [==============================] - 4s 119us/step - loss: 0.3421 - acc: 0.6145 2s - loss: 0.3407 - acc: 0.620 - ETA: 2s - loss: 0.3405 - acc\n",
      "Epoch 22/100\n",
      "31000/31000 [==============================] - 3s 110us/step - loss: 0.3415 - acc: 0.6166 1s - loss: \n",
      "Epoch 23/100\n",
      "31000/31000 [==============================] - 4s 116us/step - loss: 0.3418 - acc: 0.6153\n",
      "Epoch 24/100\n",
      "31000/31000 [==============================] - 3s 112us/step - loss: 0.3419 - acc: 0.6170\n",
      "Epoch 25/100\n",
      "31000/31000 [==============================] - 4s 120us/step - loss: 0.3416 - acc: 0.6163\n",
      "Epoch 26/100\n",
      "31000/31000 [==============================] - 5s 152us/step - loss: 0.3414 - acc: 0.6148\n",
      "Epoch 27/100\n",
      "31000/31000 [==============================] - 4s 113us/step - loss: 0.3416 - acc: 0.6150\n",
      "Epoch 28/100\n",
      "31000/31000 [==============================] - 4s 145us/step - loss: 0.3416 - acc: 0.6136\n",
      "Epoch 29/100\n",
      "31000/31000 [==============================] - 6s 194us/step - loss: 0.3408 - acc: 0.6186 4s - loss: 0.3429 - acc: 0.6 - ETA: 5s - lo - ETA: 1s - loss: \n",
      "Epoch 30/100\n",
      "31000/31000 [==============================] - 12s 401us/step - loss: 0.3414 - acc: 0.61763s - loss: 0.3406 - acc: 0.61 - ETA: 3s - loss: - ETA: 3s - loss: 0.3406 - ac - ETA: 3s - loss: 0.3409 - acc: 0.61 - ETA: 3s  - ETA: 3s - loss: 0.34 - ETA: 2s - loss - ETA: 2s - los\n",
      "Epoch 31/100\n",
      "31000/31000 [==============================] - 3s 108us/step - loss: 0.3411 - acc: 0.6161\n",
      "Epoch 32/100\n",
      "31000/31000 [==============================] - 4s 135us/step - loss: 0.3413 - acc: 0.6167 0s - loss: 0 - ETA: 0s - loss: 0.3414 - acc: 0.616\n",
      "Epoch 33/100\n",
      "31000/31000 [==============================] - 4s 114us/step - loss: 0.3415 - acc: 0.6165\n",
      "Epoch 34/100\n",
      "31000/31000 [==============================] - 7s 225us/step - loss: 0.3407 - acc: 0.6171\n",
      "Epoch 35/100\n",
      "31000/31000 [==============================] - 4s 142us/step - loss: 0.3414 - acc: 0.6156 1s - loss: 0.340 - ETA: 0s - loss: 0.3412 - acc\n",
      "Epoch 36/100\n",
      "31000/31000 [==============================] - 7s 231us/step - loss: 0.3412 - acc: 0.6164 5s - loss: 0.3361  - - ETA: 1s - loss: 0.3416 - ETA: 0s - loss: 0\n",
      "Epoch 37/100\n",
      "31000/31000 [==============================] - 7s 217us/step - loss: 0.3414 - acc: 0.6172 3s - loss: 0.3436 - acc: 0.61 - ETA: 3s - loss: 0.3434 - acc: 0. - ETA: 3s - loss: 0.3\n",
      "Epoch 38/100\n",
      "31000/31000 [==============================] - 4s 133us/step - loss: 0.3410 - acc: 0.6172\n",
      "Epoch 39/100\n",
      "31000/31000 [==============================] - 4s 125us/step - loss: 0.3408 - acc: 0.6179\n",
      "Epoch 40/100\n",
      "31000/31000 [==============================] - 3s 103us/step - loss: 0.3412 - acc: 0.6198\n",
      "Epoch 41/100\n",
      "31000/31000 [==============================] - 4s 113us/step - loss: 0.3412 - acc: 0.6194\n",
      "Epoch 42/100\n",
      "31000/31000 [==============================] - 3s 108us/step - loss: 0.3407 - acc: 0.6173\n",
      "Epoch 43/100\n",
      "31000/31000 [==============================] - 4s 116us/step - loss: 0.3411 - acc: 0.6207 0s - loss: 0.3\n",
      "Epoch 44/100\n",
      "31000/31000 [==============================] - 3s 107us/step - loss: 0.3404 - acc: 0.6184\n",
      "Epoch 45/100\n",
      "31000/31000 [==============================] - 5s 148us/step - loss: 0.3412 - acc: 0.6167 0s - loss: 0.3416 - acc: 0. - ETA: 0s - loss: 0.3416 - acc: 0.6 - ETA: 0s - loss: 0.3416 - acc: 0.615 - ETA: 0s - loss: 0\n",
      "Epoch 46/100\n",
      "31000/31000 [==============================] - 3s 107us/step - loss: 0.3405 - acc: 0.6175\n",
      "Epoch 47/100\n",
      "31000/31000 [==============================] - 3s 102us/step - loss: 0.3404 - acc: 0.6200\n",
      "Epoch 48/100\n",
      "31000/31000 [==============================] - 4s 138us/step - loss: 0.3413 - acc: 0.6176\n",
      "Epoch 49/100\n",
      "31000/31000 [==============================] - 4s 124us/step - loss: 0.3407 - acc: 0.6144\n",
      "Epoch 50/100\n",
      "31000/31000 [==============================] - 4s 115us/step - loss: 0.3413 - acc: 0.6198\n",
      "Epoch 51/100\n",
      "31000/31000 [==============================] - 4s 121us/step - loss: 0.3405 - acc: 0.6223\n",
      "Epoch 52/100\n",
      "31000/31000 [==============================] - 4s 123us/step - loss: 0.3404 - acc: 0.6183\n",
      "Epoch 53/100\n",
      "31000/31000 [==============================] - 4s 122us/step - loss: 0.3410 - acc: 0.6171\n",
      "Epoch 54/100\n",
      "31000/31000 [==============================] - 6s 187us/step - loss: 0.3410 - acc: 0.6187 3s - loss: 0.3432 -  - ETA: 3s - loss: 0.3443 - acc: 0.6 - ETA: 3s - loss: 0.3\n",
      "Epoch 55/100\n",
      "31000/31000 [==============================] - 4s 125us/step - loss: 0.3402 - acc: 0.6194\n",
      "Epoch 56/100\n",
      "31000/31000 [==============================] - 4s 124us/step - loss: 0.3408 - acc: 0.6175\n",
      "Epoch 57/100\n",
      "31000/31000 [==============================] - 4s 130us/step - loss: 0.3401 - acc: 0.6217\n",
      "Epoch 58/100\n",
      "31000/31000 [==============================] - 4s 130us/step - loss: 0.3400 - acc: 0.6165\n",
      "Epoch 59/100\n",
      "31000/31000 [==============================] - 4s 127us/step - loss: 0.3410 - acc: 0.6226\n",
      "Epoch 60/100\n",
      "31000/31000 [==============================] - 4s 133us/step - loss: 0.3400 - acc: 0.6180 0s - loss: 0.3398 - acc: 0\n",
      "Epoch 61/100\n",
      "31000/31000 [==============================] - 4s 128us/step - loss: 0.3403 - acc: 0.6220\n",
      "Epoch 62/100\n",
      "31000/31000 [==============================] - 4s 128us/step - loss: 0.3403 - acc: 0.6173 0s - loss: 0.3404 - acc: 0.\n",
      "Epoch 63/100\n",
      "31000/31000 [==============================] - 4s 135us/step - loss: 0.3405 - acc: 0.6194\n",
      "Epoch 64/100\n",
      "31000/31000 [==============================] - 4s 131us/step - loss: 0.3399 - acc: 0.6214\n",
      "Epoch 65/100\n",
      "31000/31000 [==============================] - 4s 131us/step - loss: 0.3404 - acc: 0.6185\n",
      "Epoch 66/100\n",
      "31000/31000 [==============================] - 4s 134us/step - loss: 0.3404 - acc: 0.6206\n",
      "Epoch 67/100\n",
      "31000/31000 [==============================] - 4s 133us/step - loss: 0.3405 - acc: 0.6197\n",
      "Epoch 68/100\n",
      "31000/31000 [==============================] - 4s 135us/step - loss: 0.3404 - acc: 0.6186\n",
      "Epoch 69/100\n",
      "31000/31000 [==============================] - 4s 138us/step - loss: 0.3406 - acc: 0.6156\n",
      "Epoch 70/100\n",
      "31000/31000 [==============================] - 4s 131us/step - loss: 0.3404 - acc: 0.6205\n",
      "Epoch 71/100\n"
     ]
    },
    {
     "name": "stdout",
     "output_type": "stream",
     "text": [
      "31000/31000 [==============================] - 3s 88us/step - loss: 0.3398 - acc: 0.6146\n",
      "Epoch 72/100\n",
      "31000/31000 [==============================] - 3s 85us/step - loss: 0.3398 - acc: 0.6192\n",
      "Epoch 73/100\n",
      "31000/31000 [==============================] - 3s 83us/step - loss: 0.3400 - acc: 0.6215\n",
      "Epoch 74/100\n",
      "31000/31000 [==============================] - 3s 95us/step - loss: 0.3400 - acc: 0.6202\n",
      "Epoch 75/100\n",
      "31000/31000 [==============================] - 3s 87us/step - loss: 0.3397 - acc: 0.6189\n",
      "Epoch 76/100\n",
      "31000/31000 [==============================] - 3s 88us/step - loss: 0.3402 - acc: 0.6239\n",
      "Epoch 77/100\n",
      "31000/31000 [==============================] - 3s 96us/step - loss: 0.3401 - acc: 0.6202\n",
      "Epoch 78/100\n",
      "31000/31000 [==============================] - 3s 89us/step - loss: 0.3396 - acc: 0.6206\n",
      "Epoch 79/100\n",
      "31000/31000 [==============================] - 3s 85us/step - loss: 0.3399 - acc: 0.6177\n",
      "Epoch 80/100\n",
      "31000/31000 [==============================] - 3s 93us/step - loss: 0.3400 - acc: 0.6170\n",
      "Epoch 81/100\n",
      "31000/31000 [==============================] - 3s 92us/step - loss: 0.3397 - acc: 0.6188\n",
      "Epoch 82/100\n",
      "31000/31000 [==============================] - 3s 86us/step - loss: 0.3399 - acc: 0.6191\n",
      "Epoch 83/100\n",
      "31000/31000 [==============================] - 3s 90us/step - loss: 0.3394 - acc: 0.6187\n",
      "Epoch 84/100\n",
      "31000/31000 [==============================] - 3s 87us/step - loss: 0.3396 - acc: 0.6235\n",
      "Epoch 85/100\n",
      "31000/31000 [==============================] - 3s 88us/step - loss: 0.3398 - acc: 0.6188\n",
      "Epoch 86/100\n",
      "31000/31000 [==============================] - 3s 89us/step - loss: 0.3392 - acc: 0.6215\n",
      "Epoch 87/100\n",
      "31000/31000 [==============================] - 3s 90us/step - loss: 0.3397 - acc: 0.6216\n",
      "Epoch 88/100\n",
      "31000/31000 [==============================] - 3s 84us/step - loss: 0.3394 - acc: 0.6199\n",
      "Epoch 89/100\n",
      "31000/31000 [==============================] - 3s 89us/step - loss: 0.3395 - acc: 0.6205\n",
      "Epoch 90/100\n",
      "31000/31000 [==============================] - 3s 89us/step - loss: 0.3396 - acc: 0.6213\n",
      "Epoch 91/100\n",
      "31000/31000 [==============================] - 3s 89us/step - loss: 0.3395 - acc: 0.6232\n",
      "Epoch 92/100\n",
      "31000/31000 [==============================] - 3s 90us/step - loss: 0.3396 - acc: 0.6186\n",
      "Epoch 93/100\n",
      "31000/31000 [==============================] - 3s 88us/step - loss: 0.3395 - acc: 0.6216\n",
      "Epoch 94/100\n",
      "31000/31000 [==============================] - 3s 89us/step - loss: 0.3395 - acc: 0.6245\n",
      "Epoch 95/100\n",
      "31000/31000 [==============================] - 3s 89us/step - loss: 0.3387 - acc: 0.6210\n",
      "Epoch 96/100\n",
      "31000/31000 [==============================] - 3s 89us/step - loss: 0.3398 - acc: 0.6241\n",
      "Epoch 97/100\n",
      "31000/31000 [==============================] - 3s 92us/step - loss: 0.3395 - acc: 0.6196\n",
      "Epoch 98/100\n",
      "31000/31000 [==============================] - 3s 91us/step - loss: 0.3392 - acc: 0.6197\n",
      "Epoch 99/100\n",
      "31000/31000 [==============================] - 4s 113us/step - loss: 0.3398 - acc: 0.6203\n",
      "Epoch 100/100\n",
      "31000/31000 [==============================] - 4s 121us/step - loss: 0.3393 - acc: 0.6223\n"
     ]
    }
   ],
   "source": [
    "history = model.fit(X_train, y_train, epochs=100)"
   ]
  },
  {
   "cell_type": "code",
   "execution_count": 81,
   "metadata": {},
   "outputs": [
    {
     "name": "stdout",
     "output_type": "stream",
     "text": [
      "Train Dataset:\n",
      " RPS: 0.3324, Accuracy: 0.6299\n",
      "--------------------------------------------\n",
      "--------------------------------------------\n"
     ]
    }
   ],
   "source": [
    "print(f\"Train Dataset:\\n RPS: {np.round(model.evaluate(X_train, y_train, verbose=0)[0],4)}, Accuracy: {np.round(model.evaluate(X_train, y_train, verbose=0)[1],4)}\")\n",
    "print(\"--------------------------------------------\")\n",
    "#print(f\"Test Dataset:\\n RPS: {np.round(model.evaluate(X_test, y_test, verbose=0)[0],4)}, Accuracy: {np.round(model.evaluate(X_test, y_test, verbose=0)[1],4)}\")\n",
    "print(\"--------------------------------------------\")"
   ]
  },
  {
   "cell_type": "code",
   "execution_count": 82,
   "metadata": {},
   "outputs": [],
   "source": [
    "# model.save('other_ann_reg.h5')"
   ]
  },
  {
   "cell_type": "code",
   "execution_count": 22,
   "metadata": {},
   "outputs": [],
   "source": [
    "plt.style.use('ggplot')\n",
    "\n",
    "def plot_history(history):\n",
    "    acc = history.history['acc']\n",
    "    val_acc = history.history['val_acc']\n",
    "    loss = history.history['loss']\n",
    "    val_loss = history.history['val_loss']\n",
    "    x = range(1, len(acc) + 1)\n",
    "\n",
    "    plt.figure(figsize=(12, 5))\n",
    "    plt.subplot(1, 2, 1)\n",
    "    plt.plot(x, acc, 'b', label='Training acc')\n",
    "    plt.plot(x, val_acc, 'r', label='Validation acc')\n",
    "    plt.title('Training and validation accuracy')\n",
    "    plt.legend()\n",
    "    plt.subplot(1, 2, 2)\n",
    "    plt.plot(x, loss, 'b', label='Training loss')\n",
    "    plt.plot(x, val_loss, 'r', label='Validation loss')\n",
    "    plt.title('Training and validation loss')\n",
    "    plt.legend()"
   ]
  },
  {
   "cell_type": "code",
   "execution_count": 23,
   "metadata": {},
   "outputs": [
    {
     "ename": "KeyError",
     "evalue": "'val_acc'",
     "output_type": "error",
     "traceback": [
      "\u001b[1;31m---------------------------------------------------------------------------\u001b[0m",
      "\u001b[1;31mKeyError\u001b[0m                                  Traceback (most recent call last)",
      "\u001b[1;32m<ipython-input-23-a8489d1127d4>\u001b[0m in \u001b[0;36m<module>\u001b[1;34m()\u001b[0m\n\u001b[1;32m----> 1\u001b[1;33m \u001b[0mplot_history\u001b[0m\u001b[1;33m(\u001b[0m\u001b[0mhistory\u001b[0m\u001b[1;33m)\u001b[0m\u001b[1;33m\u001b[0m\u001b[0m\n\u001b[0m",
      "\u001b[1;32m<ipython-input-22-6e438995c9da>\u001b[0m in \u001b[0;36mplot_history\u001b[1;34m(history)\u001b[0m\n\u001b[0;32m      3\u001b[0m \u001b[1;32mdef\u001b[0m \u001b[0mplot_history\u001b[0m\u001b[1;33m(\u001b[0m\u001b[0mhistory\u001b[0m\u001b[1;33m)\u001b[0m\u001b[1;33m:\u001b[0m\u001b[1;33m\u001b[0m\u001b[0m\n\u001b[0;32m      4\u001b[0m     \u001b[0macc\u001b[0m \u001b[1;33m=\u001b[0m \u001b[0mhistory\u001b[0m\u001b[1;33m.\u001b[0m\u001b[0mhistory\u001b[0m\u001b[1;33m[\u001b[0m\u001b[1;34m'acc'\u001b[0m\u001b[1;33m]\u001b[0m\u001b[1;33m\u001b[0m\u001b[0m\n\u001b[1;32m----> 5\u001b[1;33m     \u001b[0mval_acc\u001b[0m \u001b[1;33m=\u001b[0m \u001b[0mhistory\u001b[0m\u001b[1;33m.\u001b[0m\u001b[0mhistory\u001b[0m\u001b[1;33m[\u001b[0m\u001b[1;34m'val_acc'\u001b[0m\u001b[1;33m]\u001b[0m\u001b[1;33m\u001b[0m\u001b[0m\n\u001b[0m\u001b[0;32m      6\u001b[0m     \u001b[0mloss\u001b[0m \u001b[1;33m=\u001b[0m \u001b[0mhistory\u001b[0m\u001b[1;33m.\u001b[0m\u001b[0mhistory\u001b[0m\u001b[1;33m[\u001b[0m\u001b[1;34m'loss'\u001b[0m\u001b[1;33m]\u001b[0m\u001b[1;33m\u001b[0m\u001b[0m\n\u001b[0;32m      7\u001b[0m     \u001b[0mval_loss\u001b[0m \u001b[1;33m=\u001b[0m \u001b[0mhistory\u001b[0m\u001b[1;33m.\u001b[0m\u001b[0mhistory\u001b[0m\u001b[1;33m[\u001b[0m\u001b[1;34m'val_loss'\u001b[0m\u001b[1;33m]\u001b[0m\u001b[1;33m\u001b[0m\u001b[0m\n",
      "\u001b[1;31mKeyError\u001b[0m: 'val_acc'"
     ]
    }
   ],
   "source": [
    "plot_history(history)"
   ]
  },
  {
   "cell_type": "code",
   "execution_count": 29,
   "metadata": {},
   "outputs": [
    {
     "name": "stderr",
     "output_type": "stream",
     "text": [
      "C:\\Users\\Konny\\Anaconda3\\lib\\site-packages\\ipykernel\\__main__.py:8: SettingWithCopyWarning: \n",
      "A value is trying to be set on a copy of a slice from a DataFrame.\n",
      "Try using .loc[row_indexer,col_indexer] = value instead\n",
      "\n",
      "See the caveats in the documentation: http://pandas.pydata.org/pandas-docs/stable/indexing.html#indexing-view-versus-copy\n",
      "C:\\Users\\Konny\\Anaconda3\\lib\\site-packages\\ipykernel\\__main__.py:9: SettingWithCopyWarning: \n",
      "A value is trying to be set on a copy of a slice from a DataFrame.\n",
      "Try using .loc[row_indexer,col_indexer] = value instead\n",
      "\n",
      "See the caveats in the documentation: http://pandas.pydata.org/pandas-docs/stable/indexing.html#indexing-view-versus-copy\n",
      "C:\\Users\\Konny\\Anaconda3\\lib\\site-packages\\ipykernel\\__main__.py:10: SettingWithCopyWarning: \n",
      "A value is trying to be set on a copy of a slice from a DataFrame.\n",
      "Try using .loc[row_indexer,col_indexer] = value instead\n",
      "\n",
      "See the caveats in the documentation: http://pandas.pydata.org/pandas-docs/stable/indexing.html#indexing-view-versus-copy\n",
      "C:\\Users\\Konny\\Anaconda3\\lib\\site-packages\\ipykernel\\__main__.py:11: SettingWithCopyWarning: \n",
      "A value is trying to be set on a copy of a slice from a DataFrame.\n",
      "Try using .loc[row_indexer,col_indexer] = value instead\n",
      "\n",
      "See the caveats in the documentation: http://pandas.pydata.org/pandas-docs/stable/indexing.html#indexing-view-versus-copy\n",
      "C:\\Users\\Konny\\Anaconda3\\lib\\site-packages\\ipykernel\\__main__.py:13: SettingWithCopyWarning: \n",
      "A value is trying to be set on a copy of a slice from a DataFrame.\n",
      "Try using .loc[row_indexer,col_indexer] = value instead\n",
      "\n",
      "See the caveats in the documentation: http://pandas.pydata.org/pandas-docs/stable/indexing.html#indexing-view-versus-copy\n",
      "C:\\Users\\Konny\\Anaconda3\\lib\\site-packages\\ipykernel\\__main__.py:14: SettingWithCopyWarning: \n",
      "A value is trying to be set on a copy of a slice from a DataFrame.\n",
      "Try using .loc[row_indexer,col_indexer] = value instead\n",
      "\n",
      "See the caveats in the documentation: http://pandas.pydata.org/pandas-docs/stable/indexing.html#indexing-view-versus-copy\n",
      "C:\\Users\\Konny\\Anaconda3\\lib\\site-packages\\ipykernel\\__main__.py:15: SettingWithCopyWarning: \n",
      "A value is trying to be set on a copy of a slice from a DataFrame.\n",
      "Try using .loc[row_indexer,col_indexer] = value instead\n",
      "\n",
      "See the caveats in the documentation: http://pandas.pydata.org/pandas-docs/stable/indexing.html#indexing-view-versus-copy\n",
      "C:\\Users\\Konny\\Anaconda3\\lib\\site-packages\\ipykernel\\__main__.py:16: SettingWithCopyWarning: \n",
      "A value is trying to be set on a copy of a slice from a DataFrame.\n",
      "Try using .loc[row_indexer,col_indexer] = value instead\n",
      "\n",
      "See the caveats in the documentation: http://pandas.pydata.org/pandas-docs/stable/indexing.html#indexing-view-versus-copy\n"
     ]
    }
   ],
   "source": [
    "y_pred = model.predict(X_test)\n",
    "\n",
    "y_pred = scaler_goals.inverse_transform(y_pred)\n",
    "\n",
    "test_df = data2.iloc[data[data[\"season\"] == year].index]\n",
    "test_df.reset_index(drop=True, inplace=True)\n",
    "\n",
    "test_df[\"H_xgb_xG\"] = xgb_home\n",
    "test_df[\"A_xgb_xG\"] = xgb_away\n",
    "test_df[\"XGB_hc\"] = test_df[\"A_xgb_xG\"] - test_df[\"H_xgb_xG\"]\n",
    "test_df[\"Hc_Diff_xgb\"] = test_df[\"BbAHh\"] - test_df[\"XGB_hc\"]\n",
    "\n",
    "test_df[\"H_lin_xG\"] = lin_home\n",
    "test_df[\"A_lin_xG\"] = lin_away\n",
    "test_df[\"LIN_hc\"] = test_df[\"A_lin_xG\"] - test_df[\"H_lin_xG\"]\n",
    "test_df[\"Hc_Diff_lin\"] = test_df[\"BbAHh\"] - test_df[\"LIN_hc\"]\n",
    "\n",
    "ann_pred2 = pd.DataFrame(y_pred, columns = [\"H_ann_xG\", \"A_ann_xG\"])\n",
    "test_df2 = pd.concat([test_df, ann_pred2], axis=1)\n",
    "test_df2[\"ANN_hc\"] = test_df2[\"A_ann_xG\"] - test_df2[\"H_ann_xG\"]\n",
    "test_df2[\"Hc_Diff_ann\"] = test_df2[\"BbAHh\"] - test_df2[\"ANN_hc\"]"
   ]
  },
  {
   "cell_type": "code",
   "execution_count": 30,
   "metadata": {},
   "outputs": [
    {
     "data": {
      "text/plain": [
       "count    736.000000\n",
       "mean       0.048743\n",
       "std        0.846491\n",
       "min       -1.000000\n",
       "25%       -1.000000\n",
       "50%        0.000000\n",
       "75%        0.880000\n",
       "max        1.200000\n",
       "Name: H_Ahc_PL, dtype: float64"
      ]
     },
     "execution_count": 30,
     "metadata": {},
     "output_type": "execute_result"
    }
   ],
   "source": [
    "difference = 0.2\n",
    "\n",
    "test_df2[(test_df2[\"Hc_Diff_ann\"] > difference) & (test_df2[\"BbAvAHH\"] > 1.8)].H_Ahc_PL.describe()"
   ]
  },
  {
   "cell_type": "code",
   "execution_count": 31,
   "metadata": {},
   "outputs": [
    {
     "data": {
      "text/plain": [
       "count    321.000000\n",
       "mean       0.094346\n",
       "std        0.841474\n",
       "min       -1.000000\n",
       "25%       -1.000000\n",
       "50%        0.425000\n",
       "75%        0.880000\n",
       "max        1.830000\n",
       "Name: A_Ahc_PL, dtype: float64"
      ]
     },
     "execution_count": 31,
     "metadata": {},
     "output_type": "execute_result"
    }
   ],
   "source": [
    "test_df2[(test_df2[\"Hc_Diff_ann\"] < -difference) & (test_df2[\"BbAvAHA\"] > 1.8)].A_Ahc_PL.describe()"
   ]
  },
  {
   "cell_type": "code",
   "execution_count": 32,
   "metadata": {},
   "outputs": [],
   "source": [
    "test_df2[\"Hc_Diff_avg\"] = (test_df2[\"Hc_Diff_ann\"] + test_df2[\"Hc_Diff_xgb\"] + test_df2[\"Hc_Diff_lin\"]) / 3"
   ]
  },
  {
   "cell_type": "code",
   "execution_count": 33,
   "metadata": {},
   "outputs": [
    {
     "data": {
      "text/html": [
       "<div>\n",
       "<style scoped>\n",
       "    .dataframe tbody tr th:only-of-type {\n",
       "        vertical-align: middle;\n",
       "    }\n",
       "\n",
       "    .dataframe tbody tr th {\n",
       "        vertical-align: top;\n",
       "    }\n",
       "\n",
       "    .dataframe thead th {\n",
       "        text-align: right;\n",
       "    }\n",
       "</style>\n",
       "<table border=\"1\" class=\"dataframe\">\n",
       "  <thead>\n",
       "    <tr style=\"text-align: right;\">\n",
       "      <th></th>\n",
       "      <th>HomeTeam</th>\n",
       "      <th>AwayTeam</th>\n",
       "      <th>Hc_Diff_ann</th>\n",
       "      <th>Hc_Diff_xgb</th>\n",
       "      <th>Hc_Diff_lin</th>\n",
       "      <th>Hc_Diff_avg</th>\n",
       "    </tr>\n",
       "  </thead>\n",
       "  <tbody>\n",
       "    <tr>\n",
       "      <th>4702</th>\n",
       "      <td>Genclerbirligi</td>\n",
       "      <td>Bursaspor</td>\n",
       "      <td>0.329820</td>\n",
       "      <td>0.400807</td>\n",
       "      <td>0.494551</td>\n",
       "      <td>0.408392</td>\n",
       "    </tr>\n",
       "    <tr>\n",
       "      <th>4703</th>\n",
       "      <td>Yeni Malatyaspor</td>\n",
       "      <td>Kayserispor</td>\n",
       "      <td>0.144297</td>\n",
       "      <td>0.115148</td>\n",
       "      <td>0.125183</td>\n",
       "      <td>0.128210</td>\n",
       "    </tr>\n",
       "    <tr>\n",
       "      <th>4704</th>\n",
       "      <td>Besiktas</td>\n",
       "      <td>Sivasspor</td>\n",
       "      <td>-0.368040</td>\n",
       "      <td>-0.328886</td>\n",
       "      <td>-0.310334</td>\n",
       "      <td>-0.335754</td>\n",
       "    </tr>\n",
       "    <tr>\n",
       "      <th>4705</th>\n",
       "      <td>Buyuksehyr</td>\n",
       "      <td>Kasimpasa</td>\n",
       "      <td>-0.537176</td>\n",
       "      <td>-0.190899</td>\n",
       "      <td>-0.133414</td>\n",
       "      <td>-0.287163</td>\n",
       "    </tr>\n",
       "    <tr>\n",
       "      <th>4706</th>\n",
       "      <td>Goztep</td>\n",
       "      <td>Galatasaray</td>\n",
       "      <td>0.633845</td>\n",
       "      <td>0.763114</td>\n",
       "      <td>0.689903</td>\n",
       "      <td>0.695621</td>\n",
       "    </tr>\n",
       "  </tbody>\n",
       "</table>\n",
       "</div>"
      ],
      "text/plain": [
       "              HomeTeam     AwayTeam  Hc_Diff_ann  Hc_Diff_xgb  Hc_Diff_lin  \\\n",
       "4702    Genclerbirligi    Bursaspor     0.329820     0.400807     0.494551   \n",
       "4703  Yeni Malatyaspor  Kayserispor     0.144297     0.115148     0.125183   \n",
       "4704          Besiktas    Sivasspor    -0.368040    -0.328886    -0.310334   \n",
       "4705        Buyuksehyr    Kasimpasa    -0.537176    -0.190899    -0.133414   \n",
       "4706            Goztep  Galatasaray     0.633845     0.763114     0.689903   \n",
       "\n",
       "      Hc_Diff_avg  \n",
       "4702     0.408392  \n",
       "4703     0.128210  \n",
       "4704    -0.335754  \n",
       "4705    -0.287163  \n",
       "4706     0.695621  "
      ]
     },
     "execution_count": 33,
     "metadata": {},
     "output_type": "execute_result"
    }
   ],
   "source": [
    "test_df2[[\"HomeTeam\", \"AwayTeam\", \"Hc_Diff_ann\", \"Hc_Diff_xgb\", \"Hc_Diff_lin\", \"Hc_Diff_avg\"]].tail()"
   ]
  },
  {
   "cell_type": "code",
   "execution_count": null,
   "metadata": {},
   "outputs": [],
   "source": []
  },
  {
   "cell_type": "code",
   "execution_count": 69,
   "metadata": {},
   "outputs": [
    {
     "data": {
      "text/html": [
       "<div>\n",
       "<style scoped>\n",
       "    .dataframe tbody tr th:only-of-type {\n",
       "        vertical-align: middle;\n",
       "    }\n",
       "\n",
       "    .dataframe tbody tr th {\n",
       "        vertical-align: top;\n",
       "    }\n",
       "\n",
       "    .dataframe thead th {\n",
       "        text-align: right;\n",
       "    }\n",
       "</style>\n",
       "<table border=\"1\" class=\"dataframe\">\n",
       "  <thead>\n",
       "    <tr style=\"text-align: right;\">\n",
       "      <th></th>\n",
       "      <th>count</th>\n",
       "      <th>mean</th>\n",
       "      <th>std</th>\n",
       "      <th>min</th>\n",
       "      <th>25%</th>\n",
       "      <th>50%</th>\n",
       "      <th>75%</th>\n",
       "      <th>max</th>\n",
       "    </tr>\n",
       "    <tr>\n",
       "      <th>Div</th>\n",
       "      <th></th>\n",
       "      <th></th>\n",
       "      <th></th>\n",
       "      <th></th>\n",
       "      <th></th>\n",
       "      <th></th>\n",
       "      <th></th>\n",
       "      <th></th>\n",
       "    </tr>\n",
       "  </thead>\n",
       "  <tbody>\n",
       "    <tr>\n",
       "      <th>B1</th>\n",
       "      <td>32.0</td>\n",
       "      <td>-0.367188</td>\n",
       "      <td>0.717515</td>\n",
       "      <td>-1.0</td>\n",
       "      <td>-1.0</td>\n",
       "      <td>-0.5000</td>\n",
       "      <td>0.105</td>\n",
       "      <td>0.93</td>\n",
       "    </tr>\n",
       "    <tr>\n",
       "      <th>D2</th>\n",
       "      <td>36.0</td>\n",
       "      <td>0.071806</td>\n",
       "      <td>0.820220</td>\n",
       "      <td>-1.0</td>\n",
       "      <td>-1.0</td>\n",
       "      <td>0.4225</td>\n",
       "      <td>0.825</td>\n",
       "      <td>1.01</td>\n",
       "    </tr>\n",
       "    <tr>\n",
       "      <th>F2</th>\n",
       "      <td>41.0</td>\n",
       "      <td>0.164512</td>\n",
       "      <td>0.875214</td>\n",
       "      <td>-1.0</td>\n",
       "      <td>-1.0</td>\n",
       "      <td>0.8100</td>\n",
       "      <td>0.870</td>\n",
       "      <td>1.11</td>\n",
       "    </tr>\n",
       "    <tr>\n",
       "      <th>G1</th>\n",
       "      <td>22.0</td>\n",
       "      <td>-0.036364</td>\n",
       "      <td>0.858601</td>\n",
       "      <td>-1.0</td>\n",
       "      <td>-1.0</td>\n",
       "      <td>-0.2500</td>\n",
       "      <td>0.880</td>\n",
       "      <td>1.03</td>\n",
       "    </tr>\n",
       "    <tr>\n",
       "      <th>I2</th>\n",
       "      <td>57.0</td>\n",
       "      <td>0.101842</td>\n",
       "      <td>0.832034</td>\n",
       "      <td>-1.0</td>\n",
       "      <td>-1.0</td>\n",
       "      <td>0.4300</td>\n",
       "      <td>0.840</td>\n",
       "      <td>1.04</td>\n",
       "    </tr>\n",
       "    <tr>\n",
       "      <th>N1</th>\n",
       "      <td>43.0</td>\n",
       "      <td>-0.028605</td>\n",
       "      <td>0.904240</td>\n",
       "      <td>-1.0</td>\n",
       "      <td>-1.0</td>\n",
       "      <td>0.0000</td>\n",
       "      <td>0.865</td>\n",
       "      <td>1.07</td>\n",
       "    </tr>\n",
       "    <tr>\n",
       "      <th>P1</th>\n",
       "      <td>28.0</td>\n",
       "      <td>0.118929</td>\n",
       "      <td>0.900783</td>\n",
       "      <td>-1.0</td>\n",
       "      <td>-1.0</td>\n",
       "      <td>0.4100</td>\n",
       "      <td>0.925</td>\n",
       "      <td>1.09</td>\n",
       "    </tr>\n",
       "    <tr>\n",
       "      <th>SP2</th>\n",
       "      <td>79.0</td>\n",
       "      <td>0.111203</td>\n",
       "      <td>0.861193</td>\n",
       "      <td>-1.0</td>\n",
       "      <td>-1.0</td>\n",
       "      <td>0.4550</td>\n",
       "      <td>0.880</td>\n",
       "      <td>1.20</td>\n",
       "    </tr>\n",
       "    <tr>\n",
       "      <th>T1</th>\n",
       "      <td>43.0</td>\n",
       "      <td>0.035000</td>\n",
       "      <td>0.852772</td>\n",
       "      <td>-1.0</td>\n",
       "      <td>-1.0</td>\n",
       "      <td>0.0000</td>\n",
       "      <td>0.880</td>\n",
       "      <td>1.01</td>\n",
       "    </tr>\n",
       "  </tbody>\n",
       "</table>\n",
       "</div>"
      ],
      "text/plain": [
       "     count      mean       std  min  25%     50%    75%   max\n",
       "Div                                                          \n",
       "B1    32.0 -0.367188  0.717515 -1.0 -1.0 -0.5000  0.105  0.93\n",
       "D2    36.0  0.071806  0.820220 -1.0 -1.0  0.4225  0.825  1.01\n",
       "F2    41.0  0.164512  0.875214 -1.0 -1.0  0.8100  0.870  1.11\n",
       "G1    22.0 -0.036364  0.858601 -1.0 -1.0 -0.2500  0.880  1.03\n",
       "I2    57.0  0.101842  0.832034 -1.0 -1.0  0.4300  0.840  1.04\n",
       "N1    43.0 -0.028605  0.904240 -1.0 -1.0  0.0000  0.865  1.07\n",
       "P1    28.0  0.118929  0.900783 -1.0 -1.0  0.4100  0.925  1.09\n",
       "SP2   79.0  0.111203  0.861193 -1.0 -1.0  0.4550  0.880  1.20\n",
       "T1    43.0  0.035000  0.852772 -1.0 -1.0  0.0000  0.880  1.01"
      ]
     },
     "execution_count": 69,
     "metadata": {},
     "output_type": "execute_result"
    }
   ],
   "source": [
    "difference = 0.15\n",
    "\n",
    "test_df2[(test_df2[\"Hc_Diff_avg\"] > difference) & (test_df2[\"BbAvAHH\"] > 1.8) & (test_df2[\"Div\"].isin([\"B1\", \"D2\", \"F2\", \"G1\", \"I2\", \"N1\", \"P1\", \"T1\", \"SP2\"]))].groupby(\"Div\").H_Ahc_PL.describe()"
   ]
  },
  {
   "cell_type": "code",
   "execution_count": 68,
   "metadata": {},
   "outputs": [
    {
     "data": {
      "text/html": [
       "<div>\n",
       "<style scoped>\n",
       "    .dataframe tbody tr th:only-of-type {\n",
       "        vertical-align: middle;\n",
       "    }\n",
       "\n",
       "    .dataframe tbody tr th {\n",
       "        vertical-align: top;\n",
       "    }\n",
       "\n",
       "    .dataframe thead th {\n",
       "        text-align: right;\n",
       "    }\n",
       "</style>\n",
       "<table border=\"1\" class=\"dataframe\">\n",
       "  <thead>\n",
       "    <tr style=\"text-align: right;\">\n",
       "      <th></th>\n",
       "      <th>count</th>\n",
       "      <th>mean</th>\n",
       "      <th>std</th>\n",
       "      <th>min</th>\n",
       "      <th>25%</th>\n",
       "      <th>50%</th>\n",
       "      <th>75%</th>\n",
       "      <th>max</th>\n",
       "    </tr>\n",
       "    <tr>\n",
       "      <th>Div</th>\n",
       "      <th></th>\n",
       "      <th></th>\n",
       "      <th></th>\n",
       "      <th></th>\n",
       "      <th></th>\n",
       "      <th></th>\n",
       "      <th></th>\n",
       "      <th></th>\n",
       "    </tr>\n",
       "  </thead>\n",
       "  <tbody>\n",
       "    <tr>\n",
       "      <th>B1</th>\n",
       "      <td>20.0</td>\n",
       "      <td>0.123500</td>\n",
       "      <td>0.890826</td>\n",
       "      <td>-1.0</td>\n",
       "      <td>-1.00</td>\n",
       "      <td>0.630</td>\n",
       "      <td>0.8850</td>\n",
       "      <td>0.99</td>\n",
       "    </tr>\n",
       "    <tr>\n",
       "      <th>D2</th>\n",
       "      <td>11.0</td>\n",
       "      <td>0.233636</td>\n",
       "      <td>0.890935</td>\n",
       "      <td>-1.0</td>\n",
       "      <td>-0.75</td>\n",
       "      <td>0.830</td>\n",
       "      <td>0.8550</td>\n",
       "      <td>1.00</td>\n",
       "    </tr>\n",
       "    <tr>\n",
       "      <th>F2</th>\n",
       "      <td>17.0</td>\n",
       "      <td>0.102059</td>\n",
       "      <td>0.812952</td>\n",
       "      <td>-1.0</td>\n",
       "      <td>-0.50</td>\n",
       "      <td>0.405</td>\n",
       "      <td>0.8600</td>\n",
       "      <td>0.89</td>\n",
       "    </tr>\n",
       "    <tr>\n",
       "      <th>G1</th>\n",
       "      <td>11.0</td>\n",
       "      <td>0.048636</td>\n",
       "      <td>0.756023</td>\n",
       "      <td>-1.0</td>\n",
       "      <td>-0.50</td>\n",
       "      <td>0.000</td>\n",
       "      <td>0.6525</td>\n",
       "      <td>0.98</td>\n",
       "    </tr>\n",
       "    <tr>\n",
       "      <th>I2</th>\n",
       "      <td>17.0</td>\n",
       "      <td>-0.045000</td>\n",
       "      <td>0.813772</td>\n",
       "      <td>-1.0</td>\n",
       "      <td>-1.00</td>\n",
       "      <td>0.000</td>\n",
       "      <td>0.8200</td>\n",
       "      <td>0.98</td>\n",
       "    </tr>\n",
       "    <tr>\n",
       "      <th>N1</th>\n",
       "      <td>22.0</td>\n",
       "      <td>-0.101818</td>\n",
       "      <td>0.916030</td>\n",
       "      <td>-1.0</td>\n",
       "      <td>-1.00</td>\n",
       "      <td>-0.250</td>\n",
       "      <td>0.9100</td>\n",
       "      <td>0.99</td>\n",
       "    </tr>\n",
       "    <tr>\n",
       "      <th>P1</th>\n",
       "      <td>23.0</td>\n",
       "      <td>0.247609</td>\n",
       "      <td>0.735797</td>\n",
       "      <td>-1.0</td>\n",
       "      <td>-0.25</td>\n",
       "      <td>0.445</td>\n",
       "      <td>0.8450</td>\n",
       "      <td>1.01</td>\n",
       "    </tr>\n",
       "    <tr>\n",
       "      <th>SP2</th>\n",
       "      <td>16.0</td>\n",
       "      <td>-0.350000</td>\n",
       "      <td>0.813691</td>\n",
       "      <td>-1.0</td>\n",
       "      <td>-1.00</td>\n",
       "      <td>-1.000</td>\n",
       "      <td>0.2050</td>\n",
       "      <td>0.87</td>\n",
       "    </tr>\n",
       "    <tr>\n",
       "      <th>T1</th>\n",
       "      <td>28.0</td>\n",
       "      <td>-0.015000</td>\n",
       "      <td>0.879716</td>\n",
       "      <td>-1.0</td>\n",
       "      <td>-1.00</td>\n",
       "      <td>0.000</td>\n",
       "      <td>0.8725</td>\n",
       "      <td>0.96</td>\n",
       "    </tr>\n",
       "  </tbody>\n",
       "</table>\n",
       "</div>"
      ],
      "text/plain": [
       "     count      mean       std  min   25%    50%     75%   max\n",
       "Div                                                           \n",
       "B1    20.0  0.123500  0.890826 -1.0 -1.00  0.630  0.8850  0.99\n",
       "D2    11.0  0.233636  0.890935 -1.0 -0.75  0.830  0.8550  1.00\n",
       "F2    17.0  0.102059  0.812952 -1.0 -0.50  0.405  0.8600  0.89\n",
       "G1    11.0  0.048636  0.756023 -1.0 -0.50  0.000  0.6525  0.98\n",
       "I2    17.0 -0.045000  0.813772 -1.0 -1.00  0.000  0.8200  0.98\n",
       "N1    22.0 -0.101818  0.916030 -1.0 -1.00 -0.250  0.9100  0.99\n",
       "P1    23.0  0.247609  0.735797 -1.0 -0.25  0.445  0.8450  1.01\n",
       "SP2   16.0 -0.350000  0.813691 -1.0 -1.00 -1.000  0.2050  0.87\n",
       "T1    28.0 -0.015000  0.879716 -1.0 -1.00  0.000  0.8725  0.96"
      ]
     },
     "execution_count": 68,
     "metadata": {},
     "output_type": "execute_result"
    }
   ],
   "source": [
    "test_df2[(test_df2[\"Hc_Diff_avg\"] < -difference) & (test_df2[\"BbAvAHA\"] > 1.8) & (test_df2[\"Div\"].isin([\"B1\", \"D2\", \"F2\", \"G1\", \"I2\", \"N1\", \"P1\", \"T1\", \"SP2\"]))].groupby(\"Div\").A_Ahc_PL.describe()"
   ]
  },
  {
   "cell_type": "code",
   "execution_count": 42,
   "metadata": {},
   "outputs": [
    {
     "data": {
      "text/plain": [
       "count    645.000000\n",
       "mean       0.081488\n",
       "std        0.858445\n",
       "min       -1.000000\n",
       "25%       -1.000000\n",
       "50%        0.440000\n",
       "75%        0.880000\n",
       "max        1.200000\n",
       "Name: H_Ahc_PL, dtype: float64"
      ]
     },
     "execution_count": 42,
     "metadata": {},
     "output_type": "execute_result"
    }
   ],
   "source": [
    "difference = 0.1\n",
    "\n",
    "test_df2[(test_df2[\"Hc_Diff_ann\"] > difference) & (test_df2[\"Hc_Diff_lin\"] > difference) & (test_df2[\"Hc_Diff_xgb\"] > difference) & (test_df2[\"BbAvAHH\"] > 1.8)].H_Ahc_PL.describe()"
   ]
  },
  {
   "cell_type": "code",
   "execution_count": 43,
   "metadata": {},
   "outputs": [
    {
     "data": {
      "text/plain": [
       "count    234.000000\n",
       "mean       0.085876\n",
       "std        0.854228\n",
       "min       -1.000000\n",
       "25%       -1.000000\n",
       "50%        0.430000\n",
       "75%        0.880000\n",
       "max        1.090000\n",
       "Name: A_Ahc_PL, dtype: float64"
      ]
     },
     "execution_count": 43,
     "metadata": {},
     "output_type": "execute_result"
    }
   ],
   "source": [
    "difference = -0.1\n",
    "\n",
    "test_df2[(test_df2[\"Hc_Diff_ann\"] < difference) & (test_df2[\"Hc_Diff_lin\"] < difference) & (test_df2[\"Hc_Diff_xgb\"] < difference) & (test_df2[\"BbAvAHA\"] > 1.8)].A_Ahc_PL.describe()"
   ]
  },
  {
   "cell_type": "code",
   "execution_count": null,
   "metadata": {},
   "outputs": [],
   "source": []
  }
 ],
 "metadata": {
  "kernelspec": {
   "display_name": "Python [conda root]",
   "language": "python",
   "name": "conda-root-py"
  },
  "language_info": {
   "codemirror_mode": {
    "name": "ipython",
    "version": 3
   },
   "file_extension": ".py",
   "mimetype": "text/x-python",
   "name": "python",
   "nbconvert_exporter": "python",
   "pygments_lexer": "ipython3",
   "version": "3.6.5"
  }
 },
 "nbformat": 4,
 "nbformat_minor": 2
}
